{
 "cells": [
  {
   "cell_type": "markdown",
   "metadata": {},
   "source": [
    "# Week3_Algorithm"
   ]
  },
  {
   "cell_type": "markdown",
   "metadata": {},
   "source": [
    "## Question1"
   ]
  },
  {
   "cell_type": "markdown",
   "metadata": {},
   "source": [
    "#### My answer"
   ]
  },
  {
   "cell_type": "code",
   "execution_count": 122,
   "metadata": {},
   "outputs": [
    {
     "name": "stdout",
     "output_type": "stream",
     "text": [
      "3 1 10\n",
      "26\n",
      "103\n",
      "59\n",
      "1770\n"
     ]
    }
   ],
   "source": [
    "n, c, f = map(int, input().split())\n",
    "\n",
    "total_length = []\n",
    "for i in range(n):\n",
    "    l1 = int(input())\n",
    "    total_length.append(l1)\n",
    "\n",
    "profit = []\n",
    "\n",
    "if (sum(total_length)<=10000) & (n<=1000) & (f<=10000):\n",
    "    \n",
    "    for each_length in range(1, max(total_length)+1):\n",
    "        final_profit=0\n",
    "        gain=0\n",
    "        cost=0\n",
    "        for length in total_length:\n",
    "            num = length // each_length\n",
    "            gain += num*each_length*f\n",
    "            if length%each_length==0:\n",
    "                cost += c*(num-1)\n",
    "            elif length%each_length!=0:\n",
    "                cost += c*num\n",
    "        final_profit = gain-cost\n",
    "        profit.append(final_profit)\n",
    "print(max(profit))"
   ]
  },
  {
   "cell_type": "markdown",
   "metadata": {},
   "source": [
    "## Question2\n",
    "  \n",
    "틀림! ㅠ ㅠ"
   ]
  },
  {
   "cell_type": "markdown",
   "metadata": {},
   "source": [
    "#### 우수답안"
   ]
  },
  {
   "cell_type": "code",
   "execution_count": 1,
   "metadata": {},
   "outputs": [
    {
     "name": "stdout",
     "output_type": "stream",
     "text": [
      "5\n",
      "a 12\n",
      "b 1\n",
      "c 2\n",
      "d 3\n",
      "e 23\n",
      "123\n",
      "['ad', 'bcd', 'be']\n"
     ]
    }
   ],
   "source": [
    "N = int(input())\n",
    "codes = [[\"\", \"0\"]]\n",
    "\n",
    "for n in range(N):\n",
    "    codes.append(list(input().split())) # codes : 암호 시스템, [[\"\", 0], [o, 10], [x, 11]]\n",
    "\n",
    "case = input() # case : 암호화된 문자열 (이걸 해독하는 거임!)\n",
    "\n",
    "# decoded : case 중 해독된 것\n",
    "# decodes : 해독된 것 전체 (최종 answer)\n",
    "\n",
    "def dfs(case, codes, decodes, decoded):\n",
    "    if case == \"\": # case안에 있는 모든 문자들을 검색하고 out of index 직후\n",
    "        if decoded != \"\":\n",
    "            tmp = \"\".join(decoded) \n",
    "            if tmp not in decodes: # 내가 전에 했던것처럼 slicing 하는게 아니라 완전탐색 하기 때문에 쓴 듯\n",
    "                decodes.append(tmp)\n",
    "        return decodes\n",
    "    for code in codes:\n",
    "        if code[1] == case[0:len(code[1])]:\n",
    "            decoded.append(code[0])\n",
    "            decodes = dfs(case[len(code[1]):], codes, decodes, decoded)\n",
    "        else:\n",
    "            decoded.append(\"\")\n",
    "        if len(decoded) != 0:\n",
    "            decoded.pop() # case안에 있는 모든 문자들을 검색하고 out of index 직후에는 \"\"가 추가될 것. 이 때 생긴 공백을 지워주는 구문\n",
    "    return decodes\n",
    "\n",
    "ans = dfs(case, codes, [], [])\n",
    "ans.sort()\n",
    "print(ans)"
   ]
  },
  {
   "cell_type": "markdown",
   "metadata": {},
   "source": [
    "## Question3"
   ]
  },
  {
   "cell_type": "markdown",
   "metadata": {},
   "source": [
    "#### 우수답안1 : 모형 복잡도 $O(n^{3})$"
   ]
  },
  {
   "cell_type": "code",
   "execution_count": 17,
   "metadata": {},
   "outputs": [
    {
     "name": "stdout",
     "output_type": "stream",
     "text": [
      "6\n",
      "0 1 0\n",
      "-5 3 0\n",
      "-5 -2 25\n",
      "0 1 -3\n",
      "0 1 -2\n",
      "-4 -5 29\n",
      "10\n"
     ]
    }
   ],
   "source": [
    "import numpy as np\n",
    "\n",
    "num_lines = int(input())\n",
    "lines_array = np.zeros((num_lines, 3))\n",
    "\n",
    "for i in range(num_lines):\n",
    "    lines_array[i,] = list(map(int, input().split()))\n",
    "    \n",
    "# 직선 3개가 평행하지 않으면 삼각형을 만들 수 있다.\n",
    "\n",
    "total_triag = 0\n",
    "for i in range(0, num_lines-2):\n",
    "    for j in range(i+1, num_lines-1):\n",
    "        for k in range(j+1, num_lines): # 모든 경우의 수 추출 가능\n",
    "            line_i = lines_array[i,:]\n",
    "            line_j = lines_array[j,:]\n",
    "            line_k = lines_array[k,:]\n",
    "            if ((line_i[1]*line_j[0] - line_i[0]*line_j[1])*\n",
    "               (line_i[1]*line_k[0] - line_i[0]*line_k[1])*\n",
    "               (line_k[1]*line_j[0] - line_k[0]*line_j[1])) != 0:\n",
    "                total_triag += 1\n",
    "print(total_triag)"
   ]
  },
  {
   "cell_type": "markdown",
   "metadata": {},
   "source": [
    "#### 우수답안2 : 모형복잡도 $O(n)$  \n",
    "  \n",
    "일종의 점화식.  \n",
    "  \n",
    "점화식이란?\n",
    ": 수열의 각 항이 함수 $f$ 를 이용해서 $f(x)$처럼 귀납적으로 정해져 있을때, 함수 $f$ 를 수열의 점화식이라고 한다."
   ]
  },
  {
   "cell_type": "code",
   "execution_count": 19,
   "metadata": {},
   "outputs": [
    {
     "name": "stdout",
     "output_type": "stream",
     "text": [
      "6\n",
      "0 1 0\n",
      "-5 3 0\n",
      "-5 -2 25\n",
      "0 1 -3\n",
      "0 1 -2\n",
      "-4 -5 29\n",
      "10\n"
     ]
    }
   ],
   "source": [
    "N = int(input())\n",
    "lines = []\n",
    "\n",
    "for _ in range(N):\n",
    "    line = map(int, input().split())\n",
    "    lines.append(list(line))\n",
    "\n",
    "def triangle(lines):\n",
    "    grads = dict()\n",
    "    for line in lines:\n",
    "        grad = line[0]/line[1]\n",
    "        if grad not in grads:\n",
    "            grads[grad] = set() # set = 집합. 집합 안 값들은 모두 고유함.\n",
    "        grads[grad].add(-line[2]/line[1]) # 같은 기울기인 두 변이 있다면, 중복된 key값은 방지하고 같은 key에 -line[2]/line[1]만 추가\n",
    "    \n",
    "    grads_key = list(grads.keys())\n",
    "    line_num = len(grads[grads_key[0]]) # 해당 기울기의 선분의 개수\n",
    "    tris=0\n",
    "    dots=0\n",
    "    for i in range(1, len(grads_key)):\n",
    "        tris += dots*len(grads[grads_key[i]])\n",
    "        dots += line_num # 평행한 선분이 두개 있을 때 평행한 선분 3개를 그으면 점 2*3 = 6개가 추가됨 \n",
    "        line_num += len(grads[grads_key[i]]) # 두번째 기울기의 선분개수 까지 추가해줌 \n",
    "    return tris\n",
    "\n",
    "print(triangle(lines))"
   ]
  },
  {
   "cell_type": "markdown",
   "metadata": {},
   "source": [
    "이건 set가 뭔지 체험해보려고... ㅎㅎ"
   ]
  },
  {
   "cell_type": "code",
   "execution_count": 25,
   "metadata": {},
   "outputs": [],
   "source": [
    "gras = dict()\n",
    "gras[2/3] = set()\n",
    "gras[2/3].add(-4/3)\n",
    "gras[2/3].add(-5/3)\n",
    "gras[2/3].add(-4/3)"
   ]
  },
  {
   "cell_type": "code",
   "execution_count": 26,
   "metadata": {},
   "outputs": [
    {
     "data": {
      "text/plain": [
       "{0.6666666666666666: {-1.6666666666666667, -1.3333333333333333}}"
      ]
     },
     "execution_count": 26,
     "metadata": {},
     "output_type": "execute_result"
    }
   ],
   "source": [
    "gras"
   ]
  },
  {
   "cell_type": "markdown",
   "metadata": {},
   "source": [
    "-4/3을 두번 add 했지만 1번만 들어가있다!"
   ]
  },
  {
   "cell_type": "markdown",
   "metadata": {},
   "source": [
    "#### 모범답안 3  : 모형 복잡도 $O(n)$. 2번보다 빠름\n",
    "  \n",
    "경우의 수 이용.  \n",
    "m = 기울기가 같은 선분을 모은 m개의 묶음  \n",
    "n = 모든 선분의 수  \n",
    "$L_{i}$ = $i$번째 기울기 집합의 선분 수  \n",
    "  \n",
    "삼각형의 총 수 = ($n^3 - 3n\\sum L_{i}^{2} + 2\\sum L_{i}^{3}) / 3!$"
   ]
  },
  {
   "cell_type": "code",
   "execution_count": 27,
   "metadata": {},
   "outputs": [
    {
     "name": "stdout",
     "output_type": "stream",
     "text": [
      "6\n",
      "0 1 0\n",
      "-5 3 0\n",
      "-5 -2 25\n",
      "0 1 -3\n",
      "0 1 -2\n",
      "-4 -5 29\n",
      "10\n"
     ]
    }
   ],
   "source": [
    "N = int(input())\n",
    "grads = {}\n",
    "ans = 0\n",
    "\n",
    "for n in range(N):\n",
    "    grad = 0\n",
    "    a, b, c = map(int, input().split())\n",
    "    if b==0:\n",
    "        grad = float('inf')\n",
    "    else:\n",
    "        grad = a/b\n",
    "    if grad not in grads:\n",
    "        grads[grad] = 1\n",
    "    else:\n",
    "        grads[grad] += 1\n",
    "\n",
    "val = grads.values()\n",
    "if N>2:\n",
    "    num_line = sum(val)\n",
    "    A = num_line**3\n",
    "    B = sum(i**2 for i in val)\n",
    "    C = sum(i**3 for i in val)\n",
    "    ans = A - 3*num_line*B + 2*C\n",
    "    if ans<0:\n",
    "        ans=0\n",
    "    ans = ans//6\n",
    "    \n",
    "print(int(ans%mod))"
   ]
  }
 ],
 "metadata": {
  "kernelspec": {
   "display_name": "Python 3",
   "language": "python",
   "name": "python3"
  },
  "language_info": {
   "codemirror_mode": {
    "name": "ipython",
    "version": 3
   },
   "file_extension": ".py",
   "mimetype": "text/x-python",
   "name": "python",
   "nbconvert_exporter": "python",
   "pygments_lexer": "ipython3",
   "version": "3.7.6"
  }
 },
 "nbformat": 4,
 "nbformat_minor": 4
}
