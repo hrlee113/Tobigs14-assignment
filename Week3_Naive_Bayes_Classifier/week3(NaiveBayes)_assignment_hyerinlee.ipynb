{
  "nbformat": 4,
  "nbformat_minor": 0,
  "metadata": {
    "kernelspec": {
      "display_name": "Python 3",
      "language": "python",
      "name": "python3"
    },
    "language_info": {
      "codemirror_mode": {
        "name": "ipython",
        "version": 3
      },
      "file_extension": ".py",
      "mimetype": "text/x-python",
      "name": "python",
      "nbconvert_exporter": "python",
      "pygments_lexer": "ipython3",
      "version": "3.7.6"
    },
    "colab": {
      "name": "week3(NaiveBayes)_assignment_hyerinlee.ipynb",
      "provenance": [],
      "toc_visible": true,
      "include_colab_link": true
    }
  },
  "cells": [
    {
      "cell_type": "markdown",
      "metadata": {
        "id": "view-in-github",
        "colab_type": "text"
      },
      "source": [
        "<a href=\"https://colab.research.google.com/github/hyerin0113/tobigs14_assign/blob/master/Week3_Naive_Bayes_Classifier/week3(NaiveBayes)_assignment_hyerinlee.ipynb\" target=\"_parent\"><img src=\"https://colab.research.google.com/assets/colab-badge.svg\" alt=\"Open In Colab\"/></a>"
      ]
    },
    {
      "cell_type": "markdown",
      "metadata": {
        "id": "SW7nG4X4c60r",
        "colab_type": "text"
      },
      "source": [
        "# Assignment_투빅스 14기 이혜린"
      ]
    },
    {
      "cell_type": "markdown",
      "metadata": {
        "id": "dfk7WXJyc61S",
        "colab_type": "text"
      },
      "source": [
        "## 우리의 목표 : 나이브베이즈 문제 해결하기\n",
        "1.1) 입력문서가 {fast, furious, fun} 만을 주요 단어로 가질때, 이 문서는 얼마의 확률로 어떤 문서로 분류되는가?\n",
        "\n",
        "##### 노트북 파일을 따라오면서, 빈칸과 질문에 대한 물음을 모두 채우시면 과제 완료 입니다 : )"
      ]
    },
    {
      "cell_type": "markdown",
      "metadata": {
        "id": "y-lR2CGac61b",
        "colab_type": "text"
      },
      "source": [
        "### 1. 주어진 dataset 을 확인해 보기위해 엑셀 파일을 읽습니다."
      ]
    },
    {
      "cell_type": "code",
      "metadata": {
        "id": "SlMK-mgjc61k",
        "colab_type": "code",
        "colab": {}
      },
      "source": [
        "import numpy as np\n",
        "import pandas as pd"
      ],
      "execution_count": 2,
      "outputs": []
    },
    {
      "cell_type": "code",
      "metadata": {
        "id": "x6DFNRqyc62t",
        "colab_type": "code",
        "colab": {}
      },
      "source": [
        "documents = pd.read_excel('/content/drive/My Drive/Tobigs14/Week3_Naive_Bayes/test_file.xlsx') "
      ],
      "execution_count": 4,
      "outputs": []
    },
    {
      "cell_type": "code",
      "metadata": {
        "id": "PRYtTOK-c63u",
        "colab_type": "code",
        "colab": {
          "base_uri": "https://localhost:8080/",
          "height": 195
        },
        "outputId": "0deda7e3-38fe-4880-b81e-3571070460d2"
      },
      "source": [
        "documents "
      ],
      "execution_count": 5,
      "outputs": [
        {
          "output_type": "execute_result",
          "data": {
            "text/html": [
              "<div>\n",
              "<style scoped>\n",
              "    .dataframe tbody tr th:only-of-type {\n",
              "        vertical-align: middle;\n",
              "    }\n",
              "\n",
              "    .dataframe tbody tr th {\n",
              "        vertical-align: top;\n",
              "    }\n",
              "\n",
              "    .dataframe thead th {\n",
              "        text-align: right;\n",
              "    }\n",
              "</style>\n",
              "<table border=\"1\" class=\"dataframe\">\n",
              "  <thead>\n",
              "    <tr style=\"text-align: right;\">\n",
              "      <th></th>\n",
              "      <th>label</th>\n",
              "      <th>message</th>\n",
              "    </tr>\n",
              "  </thead>\n",
              "  <tbody>\n",
              "    <tr>\n",
              "      <th>0</th>\n",
              "      <td>comedy</td>\n",
              "      <td>Fun couple, love love</td>\n",
              "    </tr>\n",
              "    <tr>\n",
              "      <th>1</th>\n",
              "      <td>action</td>\n",
              "      <td>fast Furious, shoot!!</td>\n",
              "    </tr>\n",
              "    <tr>\n",
              "      <th>2</th>\n",
              "      <td>comedy</td>\n",
              "      <td>couple^^, fly, fast, fun, fun</td>\n",
              "    </tr>\n",
              "    <tr>\n",
              "      <th>3</th>\n",
              "      <td>action</td>\n",
              "      <td>furious, shoot shoot fun</td>\n",
              "    </tr>\n",
              "    <tr>\n",
              "      <th>4</th>\n",
              "      <td>action</td>\n",
              "      <td>fly~~ fast shoot, Love</td>\n",
              "    </tr>\n",
              "  </tbody>\n",
              "</table>\n",
              "</div>"
            ],
            "text/plain": [
              "    label                        message\n",
              "0  comedy          Fun couple, love love\n",
              "1  action          fast Furious, shoot!!\n",
              "2  comedy  couple^^, fly, fast, fun, fun\n",
              "3  action       furious, shoot shoot fun\n",
              "4  action         fly~~ fast shoot, Love"
            ]
          },
          "metadata": {
            "tags": []
          },
          "execution_count": 5
        }
      ]
    },
    {
      "cell_type": "markdown",
      "metadata": {
        "id": "gO4dL0-3c65U",
        "colab_type": "text"
      },
      "source": [
        "### 2. 파일에 어떤 문제점이 보이시나요? (어떤 부분을 전처리 해주어야 할까요?)\n",
        "\n",
        "####  Q1. 발견한 문제점(전처리가 필요한 부분)을 2가지 이상 적어주세요.\n",
        "- 1. 대문자 혹은 소문자로 문자를 통일시켜야 한다.\n",
        "- 2. 특수문자를 제거해야 한다."
      ]
    },
    {
      "cell_type": "markdown",
      "metadata": {
        "id": "1rdXFPotc659",
        "colab_type": "text"
      },
      "source": [
        "### step 1. 단어를 모두 소문자로 바꾸어 줍니다. \n",
        "#### Q2.왜 이 과정이 필요할까요? \n",
        "- A. 대소문자의 차이로 인해 같은 단어가 다른 의미의 단어로 분류될수도 있기 때문이다.\n",
        "\n",
        "#### Q3. 코드속 빈칸을 채워주세요"
      ]
    },
    {
      "cell_type": "code",
      "metadata": {
        "id": "NwJHn4_wc66P",
        "colab_type": "code",
        "colab": {
          "base_uri": "https://localhost:8080/",
          "height": 34
        },
        "outputId": "e19fbe2e-ca80-4779-8606-26693e4dabea"
      },
      "source": [
        "lower_documents = []\n",
        "lower_documents = [d.lower() for d in documents['message']]\n",
        "print(lower_documents)"
      ],
      "execution_count": 6,
      "outputs": [
        {
          "output_type": "stream",
          "text": [
            "['fun couple, love love', 'fast furious, shoot!!', 'couple^^, fly, fast, fun, fun', 'furious, shoot shoot fun', 'fly~~ fast shoot, love']\n"
          ],
          "name": "stdout"
        }
      ]
    },
    {
      "cell_type": "markdown",
      "metadata": {
        "id": "bXyDI76cc667",
        "colab_type": "text"
      },
      "source": [
        "### step2. 특수문자를 없애줍니다.\n",
        "#### string.punctuation 에는 특수문자들이 저장되어있는것을 확인할수 있습니다."
      ]
    },
    {
      "cell_type": "code",
      "metadata": {
        "id": "91WTe_Eoc67C",
        "colab_type": "code",
        "colab": {
          "base_uri": "https://localhost:8080/",
          "height": 35
        },
        "outputId": "c2254039-5a56-47f1-c36e-a54954a88788"
      },
      "source": [
        "import string\n",
        "string.punctuation"
      ],
      "execution_count": 7,
      "outputs": [
        {
          "output_type": "execute_result",
          "data": {
            "application/vnd.google.colaboratory.intrinsic+json": {
              "type": "string"
            },
            "text/plain": [
              "'!\"#$%&\\'()*+,-./:;<=>?@[\\\\]^_`{|}~'"
            ]
          },
          "metadata": {
            "tags": []
          },
          "execution_count": 7
        }
      ]
    },
    {
      "cell_type": "markdown",
      "metadata": {
        "id": "83srxPZPc67m",
        "colab_type": "text"
      },
      "source": [
        "#### Q4. string.punctuation 을 이용해서 특수문자를 제거해주세요."
      ]
    },
    {
      "cell_type": "code",
      "metadata": {
        "id": "S5OCp-HNc67p",
        "colab_type": "code",
        "colab": {
          "base_uri": "https://localhost:8080/",
          "height": 105
        },
        "outputId": "65db0fc0-f00a-4dde-c645-e8ff7f1c578d"
      },
      "source": [
        "import re\n",
        "\n",
        "del_punctuation_documents = []\n",
        "\n",
        "for i in lower_documents:\n",
        "    del_punctuation_documents.append(re.sub('['+string.punctuation+']', '', i))\n",
        "    \n",
        "del_punctuation_documents"
      ],
      "execution_count": 8,
      "outputs": [
        {
          "output_type": "execute_result",
          "data": {
            "text/plain": [
              "['fun couple love love',\n",
              " 'fast furious shoot',\n",
              " 'couple fly fast fun fun',\n",
              " 'furious shoot shoot fun',\n",
              " 'fly fast shoot love']"
            ]
          },
          "metadata": {
            "tags": []
          },
          "execution_count": 8
        }
      ]
    },
    {
      "cell_type": "markdown",
      "metadata": {
        "id": "X59jBLmGc68S",
        "colab_type": "text"
      },
      "source": [
        "### step 3. 단어를 하나씩 띄어쓰기 단위로 쪼개어 줍니다.\n",
        "#### Q5. 빈칸을 채워주세요."
      ]
    },
    {
      "cell_type": "code",
      "metadata": {
        "id": "NeXP5j_mc68b",
        "colab_type": "code",
        "colab": {
          "base_uri": "https://localhost:8080/",
          "height": 105
        },
        "outputId": "e2cbfc59-70e4-4dcb-ccfc-db5369649da2"
      },
      "source": [
        "preprocessed_documents = [[w for w in d.split()] for d in del_punctuation_documents]\n",
        "preprocessed_documents"
      ],
      "execution_count": 9,
      "outputs": [
        {
          "output_type": "execute_result",
          "data": {
            "text/plain": [
              "[['fun', 'couple', 'love', 'love'],\n",
              " ['fast', 'furious', 'shoot'],\n",
              " ['couple', 'fly', 'fast', 'fun', 'fun'],\n",
              " ['furious', 'shoot', 'shoot', 'fun'],\n",
              " ['fly', 'fast', 'shoot', 'love']]"
            ]
          },
          "metadata": {
            "tags": []
          },
          "execution_count": 9
        }
      ]
    },
    {
      "cell_type": "markdown",
      "metadata": {
        "id": "SnWz9uKxc688",
        "colab_type": "text"
      },
      "source": [
        "### step 4. 각각의 단어가 문서에서 몇번 나왔는지 세봅시다."
      ]
    },
    {
      "cell_type": "code",
      "metadata": {
        "id": "8PT3rIgGc69A",
        "colab_type": "code",
        "colab": {
          "base_uri": "https://localhost:8080/",
          "height": 105
        },
        "outputId": "671ebe45-69c3-4bc7-8ad5-019d86ab9171"
      },
      "source": [
        "frequency_list = []\n",
        "from collections import Counter\n",
        "\n",
        "frequency_list = [Counter(d) for d in preprocessed_documents]\n",
        "frequency_list"
      ],
      "execution_count": 10,
      "outputs": [
        {
          "output_type": "execute_result",
          "data": {
            "text/plain": [
              "[Counter({'couple': 1, 'fun': 1, 'love': 2}),\n",
              " Counter({'fast': 1, 'furious': 1, 'shoot': 1}),\n",
              " Counter({'couple': 1, 'fast': 1, 'fly': 1, 'fun': 2}),\n",
              " Counter({'fun': 1, 'furious': 1, 'shoot': 2}),\n",
              " Counter({'fast': 1, 'fly': 1, 'love': 1, 'shoot': 1})]"
            ]
          },
          "metadata": {
            "tags": []
          },
          "execution_count": 10
        }
      ]
    },
    {
      "cell_type": "markdown",
      "metadata": {
        "id": "1oTUPeyTc69c",
        "colab_type": "text"
      },
      "source": [
        "### step 5. 이제 우리가 하고싶은것은, 문자를 숫자로 변환하는 작업입니다!(그림 참고)\n",
        "- 이를 위해 CountVectorizer를 사용합니다.\n",
        "- CountVectorizer는 문서 집합에서 단어 토큰을 생성하고, 각 단어 수를 세어 BOW (Bag of Words) 인코딩한 벡터를 만들어줍니다.\n",
        "\n",
        "- 문서에 해당단어가 몇번 포함되었는지를 나타낼 때 사용하는 방법입니다.\n",
        "\n",
        "- 참고 : https://datascienceschool.net/view-notebook/3e7aadbf88ed4f0d87a76f9ddc925d69/"
      ]
    },
    {
      "cell_type": "markdown",
      "metadata": {
        "id": "wAz9p0icc69f",
        "colab_type": "text"
      },
      "source": [
        "![image.png](attachment:image.png)"
      ]
    },
    {
      "cell_type": "code",
      "metadata": {
        "id": "hw3uY2gLc69l",
        "colab_type": "code",
        "colab": {
          "base_uri": "https://localhost:8080/",
          "height": 122
        },
        "outputId": "37457d98-1abe-4124-b7f2-2d3817524d82"
      },
      "source": [
        "from sklearn.feature_extraction.text import CountVectorizer\n",
        "count_vector = CountVectorizer()\n",
        "count_vector.fit(documents['message'])"
      ],
      "execution_count": 11,
      "outputs": [
        {
          "output_type": "execute_result",
          "data": {
            "text/plain": [
              "CountVectorizer(analyzer='word', binary=False, decode_error='strict',\n",
              "                dtype=<class 'numpy.int64'>, encoding='utf-8', input='content',\n",
              "                lowercase=True, max_df=1.0, max_features=None, min_df=1,\n",
              "                ngram_range=(1, 1), preprocessor=None, stop_words=None,\n",
              "                strip_accents=None, token_pattern='(?u)\\\\b\\\\w\\\\w+\\\\b',\n",
              "                tokenizer=None, vocabulary=None)"
            ]
          },
          "metadata": {
            "tags": []
          },
          "execution_count": 11
        }
      ]
    },
    {
      "cell_type": "code",
      "metadata": {
        "id": "mZRuoaklc6-Y",
        "colab_type": "code",
        "colab": {
          "base_uri": "https://localhost:8080/",
          "height": 105
        },
        "outputId": "b3b56ea2-3f9f-4f59-9055-e8ff30129eaf"
      },
      "source": [
        "doc_array = count_vector.transform(documents['message']).toarray()\n",
        "doc_array"
      ],
      "execution_count": 12,
      "outputs": [
        {
          "output_type": "execute_result",
          "data": {
            "text/plain": [
              "array([[1, 0, 0, 1, 0, 2, 0],\n",
              "       [0, 1, 0, 0, 1, 0, 1],\n",
              "       [1, 1, 1, 2, 0, 0, 0],\n",
              "       [0, 0, 0, 1, 1, 0, 2],\n",
              "       [0, 1, 1, 0, 0, 1, 1]])"
            ]
          },
          "metadata": {
            "tags": []
          },
          "execution_count": 12
        }
      ]
    },
    {
      "cell_type": "code",
      "metadata": {
        "id": "FpdhLkZ7c6-_",
        "colab_type": "code",
        "colab": {
          "base_uri": "https://localhost:8080/",
          "height": 34
        },
        "outputId": "c63f56b3-ff2d-49e0-9d7a-a9c5058dd0dc"
      },
      "source": [
        "count_vector.get_feature_names()"
      ],
      "execution_count": 13,
      "outputs": [
        {
          "output_type": "execute_result",
          "data": {
            "text/plain": [
              "['couple', 'fast', 'fly', 'fun', 'furious', 'love', 'shoot']"
            ]
          },
          "metadata": {
            "tags": []
          },
          "execution_count": 13
        }
      ]
    },
    {
      "cell_type": "code",
      "metadata": {
        "id": "QxCnBskFc6_b",
        "colab_type": "code",
        "colab": {
          "base_uri": "https://localhost:8080/",
          "height": 140
        },
        "outputId": "6f5cdeb5-0b60-47c1-da69-81fcdd2adcc0"
      },
      "source": [
        "count_vector.vocabulary_ # index 설명"
      ],
      "execution_count": 14,
      "outputs": [
        {
          "output_type": "execute_result",
          "data": {
            "text/plain": [
              "{'couple': 0,\n",
              " 'fast': 1,\n",
              " 'fly': 2,\n",
              " 'fun': 3,\n",
              " 'furious': 4,\n",
              " 'love': 5,\n",
              " 'shoot': 6}"
            ]
          },
          "metadata": {
            "tags": []
          },
          "execution_count": 14
        }
      ]
    },
    {
      "cell_type": "code",
      "metadata": {
        "id": "nlnXTDZ0c7AX",
        "colab_type": "code",
        "colab": {
          "base_uri": "https://localhost:8080/",
          "height": 195
        },
        "outputId": "0194f5d7-55b5-43f3-fa61-04d30e093dbd"
      },
      "source": [
        "frequency_matrix = pd.DataFrame(doc_array, columns = count_vector.get_feature_names())\n",
        "frequency_matrix"
      ],
      "execution_count": 15,
      "outputs": [
        {
          "output_type": "execute_result",
          "data": {
            "text/html": [
              "<div>\n",
              "<style scoped>\n",
              "    .dataframe tbody tr th:only-of-type {\n",
              "        vertical-align: middle;\n",
              "    }\n",
              "\n",
              "    .dataframe tbody tr th {\n",
              "        vertical-align: top;\n",
              "    }\n",
              "\n",
              "    .dataframe thead th {\n",
              "        text-align: right;\n",
              "    }\n",
              "</style>\n",
              "<table border=\"1\" class=\"dataframe\">\n",
              "  <thead>\n",
              "    <tr style=\"text-align: right;\">\n",
              "      <th></th>\n",
              "      <th>couple</th>\n",
              "      <th>fast</th>\n",
              "      <th>fly</th>\n",
              "      <th>fun</th>\n",
              "      <th>furious</th>\n",
              "      <th>love</th>\n",
              "      <th>shoot</th>\n",
              "    </tr>\n",
              "  </thead>\n",
              "  <tbody>\n",
              "    <tr>\n",
              "      <th>0</th>\n",
              "      <td>1</td>\n",
              "      <td>0</td>\n",
              "      <td>0</td>\n",
              "      <td>1</td>\n",
              "      <td>0</td>\n",
              "      <td>2</td>\n",
              "      <td>0</td>\n",
              "    </tr>\n",
              "    <tr>\n",
              "      <th>1</th>\n",
              "      <td>0</td>\n",
              "      <td>1</td>\n",
              "      <td>0</td>\n",
              "      <td>0</td>\n",
              "      <td>1</td>\n",
              "      <td>0</td>\n",
              "      <td>1</td>\n",
              "    </tr>\n",
              "    <tr>\n",
              "      <th>2</th>\n",
              "      <td>1</td>\n",
              "      <td>1</td>\n",
              "      <td>1</td>\n",
              "      <td>2</td>\n",
              "      <td>0</td>\n",
              "      <td>0</td>\n",
              "      <td>0</td>\n",
              "    </tr>\n",
              "    <tr>\n",
              "      <th>3</th>\n",
              "      <td>0</td>\n",
              "      <td>0</td>\n",
              "      <td>0</td>\n",
              "      <td>1</td>\n",
              "      <td>1</td>\n",
              "      <td>0</td>\n",
              "      <td>2</td>\n",
              "    </tr>\n",
              "    <tr>\n",
              "      <th>4</th>\n",
              "      <td>0</td>\n",
              "      <td>1</td>\n",
              "      <td>1</td>\n",
              "      <td>0</td>\n",
              "      <td>0</td>\n",
              "      <td>1</td>\n",
              "      <td>1</td>\n",
              "    </tr>\n",
              "  </tbody>\n",
              "</table>\n",
              "</div>"
            ],
            "text/plain": [
              "   couple  fast  fly  fun  furious  love  shoot\n",
              "0       1     0    0    1        0     2      0\n",
              "1       0     1    0    0        1     0      1\n",
              "2       1     1    1    2        0     0      0\n",
              "3       0     0    0    1        1     0      2\n",
              "4       0     1    1    0        0     1      1"
            ]
          },
          "metadata": {
            "tags": []
          },
          "execution_count": 15
        }
      ]
    },
    {
      "cell_type": "code",
      "metadata": {
        "id": "AxCcfDSMc7A0",
        "colab_type": "code",
        "colab": {}
      },
      "source": [
        "frequency_matrix['count'] = frequency_matrix.sum(axis=1)"
      ],
      "execution_count": 16,
      "outputs": []
    },
    {
      "cell_type": "code",
      "metadata": {
        "id": "34f15Odfc7BK",
        "colab_type": "code",
        "colab": {
          "base_uri": "https://localhost:8080/",
          "height": 195
        },
        "outputId": "23221687-c9b7-4dae-b50d-374bc245c861"
      },
      "source": [
        "frequency_matrix"
      ],
      "execution_count": 17,
      "outputs": [
        {
          "output_type": "execute_result",
          "data": {
            "text/html": [
              "<div>\n",
              "<style scoped>\n",
              "    .dataframe tbody tr th:only-of-type {\n",
              "        vertical-align: middle;\n",
              "    }\n",
              "\n",
              "    .dataframe tbody tr th {\n",
              "        vertical-align: top;\n",
              "    }\n",
              "\n",
              "    .dataframe thead th {\n",
              "        text-align: right;\n",
              "    }\n",
              "</style>\n",
              "<table border=\"1\" class=\"dataframe\">\n",
              "  <thead>\n",
              "    <tr style=\"text-align: right;\">\n",
              "      <th></th>\n",
              "      <th>couple</th>\n",
              "      <th>fast</th>\n",
              "      <th>fly</th>\n",
              "      <th>fun</th>\n",
              "      <th>furious</th>\n",
              "      <th>love</th>\n",
              "      <th>shoot</th>\n",
              "      <th>count</th>\n",
              "    </tr>\n",
              "  </thead>\n",
              "  <tbody>\n",
              "    <tr>\n",
              "      <th>0</th>\n",
              "      <td>1</td>\n",
              "      <td>0</td>\n",
              "      <td>0</td>\n",
              "      <td>1</td>\n",
              "      <td>0</td>\n",
              "      <td>2</td>\n",
              "      <td>0</td>\n",
              "      <td>4</td>\n",
              "    </tr>\n",
              "    <tr>\n",
              "      <th>1</th>\n",
              "      <td>0</td>\n",
              "      <td>1</td>\n",
              "      <td>0</td>\n",
              "      <td>0</td>\n",
              "      <td>1</td>\n",
              "      <td>0</td>\n",
              "      <td>1</td>\n",
              "      <td>3</td>\n",
              "    </tr>\n",
              "    <tr>\n",
              "      <th>2</th>\n",
              "      <td>1</td>\n",
              "      <td>1</td>\n",
              "      <td>1</td>\n",
              "      <td>2</td>\n",
              "      <td>0</td>\n",
              "      <td>0</td>\n",
              "      <td>0</td>\n",
              "      <td>5</td>\n",
              "    </tr>\n",
              "    <tr>\n",
              "      <th>3</th>\n",
              "      <td>0</td>\n",
              "      <td>0</td>\n",
              "      <td>0</td>\n",
              "      <td>1</td>\n",
              "      <td>1</td>\n",
              "      <td>0</td>\n",
              "      <td>2</td>\n",
              "      <td>4</td>\n",
              "    </tr>\n",
              "    <tr>\n",
              "      <th>4</th>\n",
              "      <td>0</td>\n",
              "      <td>1</td>\n",
              "      <td>1</td>\n",
              "      <td>0</td>\n",
              "      <td>0</td>\n",
              "      <td>1</td>\n",
              "      <td>1</td>\n",
              "      <td>4</td>\n",
              "    </tr>\n",
              "  </tbody>\n",
              "</table>\n",
              "</div>"
            ],
            "text/plain": [
              "   couple  fast  fly  fun  furious  love  shoot  count\n",
              "0       1     0    0    1        0     2      0      4\n",
              "1       0     1    0    0        1     0      1      3\n",
              "2       1     1    1    2        0     0      0      5\n",
              "3       0     0    0    1        1     0      2      4\n",
              "4       0     1    1    0        0     1      1      4"
            ]
          },
          "metadata": {
            "tags": []
          },
          "execution_count": 17
        }
      ]
    },
    {
      "cell_type": "markdown",
      "metadata": {
        "id": "Bo5zui4qc7B4",
        "colab_type": "text"
      },
      "source": [
        "### step 6. 범주형 변수를 dummy변수로 변환해주는 작업(One-Hot Encoding!)을 해주어야합니다.\n",
        "#### Q6. label 을 comedy =1, action =0 으로 변환해주세요"
      ]
    },
    {
      "cell_type": "code",
      "metadata": {
        "id": "kA3LmKkAc7CA",
        "colab_type": "code",
        "colab": {}
      },
      "source": [
        "documents[\"label\"]=pd.get_dummies(documents['label'], drop_first=True)"
      ],
      "execution_count": 18,
      "outputs": []
    },
    {
      "cell_type": "code",
      "metadata": {
        "id": "VigKgy48c7Ct",
        "colab_type": "code",
        "colab": {}
      },
      "source": [
        "doc = pd.concat([documents['label'],frequency_matrix],axis=1)"
      ],
      "execution_count": 19,
      "outputs": []
    },
    {
      "cell_type": "code",
      "metadata": {
        "id": "Z4bzNsdbc7DO",
        "colab_type": "code",
        "colab": {
          "base_uri": "https://localhost:8080/",
          "height": 195
        },
        "outputId": "c56df7ad-85e6-4e63-9362-5d387a6abbd1"
      },
      "source": [
        "doc"
      ],
      "execution_count": 20,
      "outputs": [
        {
          "output_type": "execute_result",
          "data": {
            "text/html": [
              "<div>\n",
              "<style scoped>\n",
              "    .dataframe tbody tr th:only-of-type {\n",
              "        vertical-align: middle;\n",
              "    }\n",
              "\n",
              "    .dataframe tbody tr th {\n",
              "        vertical-align: top;\n",
              "    }\n",
              "\n",
              "    .dataframe thead th {\n",
              "        text-align: right;\n",
              "    }\n",
              "</style>\n",
              "<table border=\"1\" class=\"dataframe\">\n",
              "  <thead>\n",
              "    <tr style=\"text-align: right;\">\n",
              "      <th></th>\n",
              "      <th>label</th>\n",
              "      <th>couple</th>\n",
              "      <th>fast</th>\n",
              "      <th>fly</th>\n",
              "      <th>fun</th>\n",
              "      <th>furious</th>\n",
              "      <th>love</th>\n",
              "      <th>shoot</th>\n",
              "      <th>count</th>\n",
              "    </tr>\n",
              "  </thead>\n",
              "  <tbody>\n",
              "    <tr>\n",
              "      <th>0</th>\n",
              "      <td>1</td>\n",
              "      <td>1</td>\n",
              "      <td>0</td>\n",
              "      <td>0</td>\n",
              "      <td>1</td>\n",
              "      <td>0</td>\n",
              "      <td>2</td>\n",
              "      <td>0</td>\n",
              "      <td>4</td>\n",
              "    </tr>\n",
              "    <tr>\n",
              "      <th>1</th>\n",
              "      <td>0</td>\n",
              "      <td>0</td>\n",
              "      <td>1</td>\n",
              "      <td>0</td>\n",
              "      <td>0</td>\n",
              "      <td>1</td>\n",
              "      <td>0</td>\n",
              "      <td>1</td>\n",
              "      <td>3</td>\n",
              "    </tr>\n",
              "    <tr>\n",
              "      <th>2</th>\n",
              "      <td>1</td>\n",
              "      <td>1</td>\n",
              "      <td>1</td>\n",
              "      <td>1</td>\n",
              "      <td>2</td>\n",
              "      <td>0</td>\n",
              "      <td>0</td>\n",
              "      <td>0</td>\n",
              "      <td>5</td>\n",
              "    </tr>\n",
              "    <tr>\n",
              "      <th>3</th>\n",
              "      <td>0</td>\n",
              "      <td>0</td>\n",
              "      <td>0</td>\n",
              "      <td>0</td>\n",
              "      <td>1</td>\n",
              "      <td>1</td>\n",
              "      <td>0</td>\n",
              "      <td>2</td>\n",
              "      <td>4</td>\n",
              "    </tr>\n",
              "    <tr>\n",
              "      <th>4</th>\n",
              "      <td>0</td>\n",
              "      <td>0</td>\n",
              "      <td>1</td>\n",
              "      <td>1</td>\n",
              "      <td>0</td>\n",
              "      <td>0</td>\n",
              "      <td>1</td>\n",
              "      <td>1</td>\n",
              "      <td>4</td>\n",
              "    </tr>\n",
              "  </tbody>\n",
              "</table>\n",
              "</div>"
            ],
            "text/plain": [
              "   label  couple  fast  fly  fun  furious  love  shoot  count\n",
              "0      1       1     0    0    1        0     2      0      4\n",
              "1      0       0     1    0    0        1     0      1      3\n",
              "2      1       1     1    1    2        0     0      0      5\n",
              "3      0       0     0    0    1        1     0      2      4\n",
              "4      0       0     1    1    0        0     1      1      4"
            ]
          },
          "metadata": {
            "tags": []
          },
          "execution_count": 20
        }
      ]
    },
    {
      "cell_type": "markdown",
      "metadata": {
        "id": "D4wlh7MCc7Ds",
        "colab_type": "text"
      },
      "source": [
        "###  step 7. 나이브 베이즈 계산을 해봅시다!\n",
        "\n",
        "#### Q7. 입력문서가 {fast, furious, fun} 을 주요 단어로 가질때, 이 문서는 얼마의 확률로 어떤 문서로 분류가 될까요? ( 계산과정을 채워주세요) "
      ]
    },
    {
      "cell_type": "code",
      "metadata": {
        "id": "9F75xZHAc7Dw",
        "colab_type": "code",
        "colab": {
          "base_uri": "https://localhost:8080/",
          "height": 105
        },
        "outputId": "435230ef-eb76-4004-a622-195cf1eb711e"
      },
      "source": [
        "doc =  np.array(doc, dtype=np.int64)           # dataframe을 np-array로 변환해줍니다.\n",
        "                                               # return값은 np-matrix가 아니라 np-array입니다.\n",
        "doc"
      ],
      "execution_count": 21,
      "outputs": [
        {
          "output_type": "execute_result",
          "data": {
            "text/plain": [
              "array([[1, 1, 0, 0, 1, 0, 2, 0, 4],\n",
              "       [0, 0, 1, 0, 0, 1, 0, 1, 3],\n",
              "       [1, 1, 1, 1, 2, 0, 0, 0, 5],\n",
              "       [0, 0, 0, 0, 1, 1, 0, 2, 4],\n",
              "       [0, 0, 1, 1, 0, 0, 1, 1, 4]])"
            ]
          },
          "metadata": {
            "tags": []
          },
          "execution_count": 21
        }
      ]
    },
    {
      "cell_type": "code",
      "metadata": {
        "id": "nYN5iI1lc7EH",
        "colab_type": "code",
        "colab": {
          "base_uri": "https://localhost:8080/",
          "height": 34
        },
        "outputId": "240a76dc-a0d2-412a-c50d-56e9cad37d02"
      },
      "source": [
        "type(doc)"
      ],
      "execution_count": 22,
      "outputs": [
        {
          "output_type": "execute_result",
          "data": {
            "text/plain": [
              "numpy.ndarray"
            ]
          },
          "metadata": {
            "tags": []
          },
          "execution_count": 22
        }
      ]
    },
    {
      "cell_type": "code",
      "metadata": {
        "id": "jN4oFzskf0O1",
        "colab_type": "code",
        "colab": {
          "base_uri": "https://localhost:8080/",
          "height": 34
        },
        "outputId": "419017c8-f08f-4e5e-b8d1-eee7a37a4491"
      },
      "source": [
        "sum(doc[doc[:,0]==1][:,-1])"
      ],
      "execution_count": 31,
      "outputs": [
        {
          "output_type": "execute_result",
          "data": {
            "text/plain": [
              "9"
            ]
          },
          "metadata": {
            "tags": []
          },
          "execution_count": 31
        }
      ]
    },
    {
      "cell_type": "markdown",
      "metadata": {
        "id": "qMllUBRxc7Ey",
        "colab_type": "text"
      },
      "source": [
        "####  P(Y=comedy), P(Y=action) 계산하기"
      ]
    },
    {
      "cell_type": "code",
      "metadata": {
        "id": "eFnmqWOMc7E8",
        "colab_type": "code",
        "colab": {}
      },
      "source": [
        "# P(Y=comedy)\n",
        "p_comedy = sum(doc[:,0]==1) / len(doc)\n",
        "\n",
        "# P(Y=action)\n",
        "p_action = 1-p_comedy"
      ],
      "execution_count": 25,
      "outputs": []
    },
    {
      "cell_type": "code",
      "metadata": {
        "id": "1XjK9G5Cc7Fb",
        "colab_type": "code",
        "colab": {
          "base_uri": "https://localhost:8080/",
          "height": 52
        },
        "outputId": "7194b620-d8a4-46e8-8a24-27fb96e43686"
      },
      "source": [
        "print('p_comedy : ',p_comedy)\n",
        "print('p_action : ', p_action)"
      ],
      "execution_count": 26,
      "outputs": [
        {
          "output_type": "stream",
          "text": [
            "p_comedy :  0.4\n",
            "p_action :  0.6\n"
          ],
          "name": "stdout"
        }
      ]
    },
    {
      "cell_type": "markdown",
      "metadata": {
        "id": "JtxyrcO7c7Fx",
        "colab_type": "text"
      },
      "source": [
        "#### P(fast=1|comedy=1), P(furious=1|comedy=1), P(fun=1|comedy=1) 계산하기\n",
        "* 참고 : 문서에 두번 등장한 단어 주의"
      ]
    },
    {
      "cell_type": "code",
      "metadata": {
        "id": "OHiIZmPxc7F0",
        "colab_type": "code",
        "colab": {}
      },
      "source": [
        "# P(fast=1|comedy=1)\n",
        "p_comedy_fast = sum(doc[doc[:,0]==1][:,2]) / sum(doc[doc[:,0]==1][:,-1])\n",
        "\n",
        "# P(furious=1|comedy=1)\n",
        "p_comedy_furious = sum(doc[doc[:,0]==1][:,5]) / sum(doc[doc[:,0]==1][:,-1]) \n",
        "\n",
        "# P(fun=1|comedy=1)\n",
        "p_comedy_fun = sum(doc[doc[:,0]==1][:,4]) / sum(doc[doc[:,0]==1][:,-1])"
      ],
      "execution_count": 32,
      "outputs": []
    },
    {
      "cell_type": "code",
      "metadata": {
        "id": "q1ZIPYcAc7Gt",
        "colab_type": "code",
        "colab": {
          "base_uri": "https://localhost:8080/",
          "height": 70
        },
        "outputId": "ffedc2c1-c79b-4e47-dc0f-9c6b6f639a0e"
      },
      "source": [
        "print('p_comedy_fast : ' , p_comedy_fast)\n",
        "print('p_comedy_furious : ' , p_comedy_furious)\n",
        "print('p_comedy_fun : ' , p_comedy_fun)   "
      ],
      "execution_count": 33,
      "outputs": [
        {
          "output_type": "stream",
          "text": [
            "p_comedy_fast :  0.1111111111111111\n",
            "p_comedy_furious :  0.0\n",
            "p_comedy_fun :  0.3333333333333333\n"
          ],
          "name": "stdout"
        }
      ]
    },
    {
      "cell_type": "markdown",
      "metadata": {
        "id": "Jw-lBprpc7HH",
        "colab_type": "text"
      },
      "source": [
        "#### P(fast=1|action=1), P(furious=1|action=1), P(fun=1|action=1) 계산하기\n",
        "* 참고 : 문서에 두번 등장한 단어 주의"
      ]
    },
    {
      "cell_type": "code",
      "metadata": {
        "id": "qFrrPaBcc7HL",
        "colab_type": "code",
        "colab": {}
      },
      "source": [
        "# P(fast=1|action=1)\n",
        "p_action_fast = sum(doc[doc[:,0]==0][:,2]) / sum(doc[doc[:,0]==0][:,-1])\n",
        "\n",
        "# P(furious=1|action=1)\n",
        "p_action_furious = sum(doc[doc[:,0]==0][:,5]) / sum(doc[doc[:,0]==0][:,-1])\n",
        "\n",
        "# P(fun=1|action=1)\n",
        "p_action_fun = sum(doc[doc[:,0]==0][:,4]) / sum(doc[doc[:,0]==0][:,-1])"
      ],
      "execution_count": 34,
      "outputs": []
    },
    {
      "cell_type": "code",
      "metadata": {
        "id": "FFGYFM7Dc7Hg",
        "colab_type": "code",
        "colab": {
          "base_uri": "https://localhost:8080/",
          "height": 70
        },
        "outputId": "c7c081c3-3704-49a0-e032-2bb5a23315b1"
      },
      "source": [
        "print('p_action_fast : ' , p_action_fast)\n",
        "print('p_action_furious : ' , p_action_furious)\n",
        "print('p_action_fun : ' , p_action_fun)  "
      ],
      "execution_count": 35,
      "outputs": [
        {
          "output_type": "stream",
          "text": [
            "p_action_fast :  0.18181818181818182\n",
            "p_action_furious :  0.18181818181818182\n",
            "p_action_fun :  0.09090909090909091\n"
          ],
          "name": "stdout"
        }
      ]
    },
    {
      "cell_type": "markdown",
      "metadata": {
        "id": "dzwGE7XWc7H5",
        "colab_type": "text"
      },
      "source": [
        "#### P(Y = comedy| X = fast, furious, fun) , P(Y = action=1| X = fast, furious, fun) 에서 분자값 계산하기"
      ]
    },
    {
      "cell_type": "code",
      "metadata": {
        "id": "PJiBPpaIc7IA",
        "colab_type": "code",
        "colab": {}
      },
      "source": [
        "#P(Y = comedy & X = fast, furious, fun)\n",
        "proba_comedy = p_comedy_fast * p_comedy_furious * p_comedy_fun * p_comedy \n",
        "\n",
        "#P(Y = action=1 & X = fast, furious, fun)\n",
        "proba_action = p_action_fast * p_action_furious * p_action_fun * p_action "
      ],
      "execution_count": 36,
      "outputs": []
    },
    {
      "cell_type": "code",
      "metadata": {
        "id": "fTVrR0Xgc7Ic",
        "colab_type": "code",
        "colab": {
          "base_uri": "https://localhost:8080/",
          "height": 52
        },
        "outputId": "6c2c35ff-7c1b-49e2-921d-b949829910c9"
      },
      "source": [
        "print('proba_comedy', proba_comedy)\n",
        "print('proba_action', proba_action)"
      ],
      "execution_count": 37,
      "outputs": [
        {
          "output_type": "stream",
          "text": [
            "proba_comedy 0.0\n",
            "proba_action 0.0018031555221637867\n"
          ],
          "name": "stdout"
        }
      ]
    },
    {
      "cell_type": "markdown",
      "metadata": {
        "id": "ciSgcvRUc7I3",
        "colab_type": "text"
      },
      "source": [
        "### step 8. 다음 값을 비교해봅시다.\n",
        "1. P(Y = comedy| X = fast, furious, fun) = 0\n",
        "2. P(Y = action=1| X = fast, furious, fun) = 0.018\n",
        "\n",
        "\n",
        "Q8. 어떤 문제점을 발견할수 있나요? 문제점을 해결하기 위한 방법으로는 어떤게 있을까요?\n",
        "- A. p_comedy_furious가 0이기 때문에 P(Y = comedy| X = fast, furious, fun) 값이 0이 된다.  \n",
        "확률이 0이면 새로운 데이터가 등장했을 때 예측을 할 수 없으므로 **라플라스 스무딩**을 사용한다."
      ]
    },
    {
      "cell_type": "markdown",
      "metadata": {
        "id": "RT1dDsaGc7I8",
        "colab_type": "text"
      },
      "source": [
        "## + scikit-learn을 이용한 Naive Bayes Classifier 실습"
      ]
    },
    {
      "cell_type": "code",
      "metadata": {
        "id": "Ry3wGxLXc7JB",
        "colab_type": "code",
        "colab": {}
      },
      "source": [
        "x = np.array(frequency_matrix.drop(['count'], axis=1), dtype=np.int64)\n",
        "y = np.array(documents['label'],dtype=np.int64)"
      ],
      "execution_count": 38,
      "outputs": []
    },
    {
      "cell_type": "code",
      "metadata": {
        "id": "a-zQaykpc7Jg",
        "colab_type": "code",
        "colab": {
          "base_uri": "https://localhost:8080/",
          "height": 105
        },
        "outputId": "7290186e-8c83-4b6c-f227-f68c96e807c6"
      },
      "source": [
        "x"
      ],
      "execution_count": 39,
      "outputs": [
        {
          "output_type": "execute_result",
          "data": {
            "text/plain": [
              "array([[1, 0, 0, 1, 0, 2, 0],\n",
              "       [0, 1, 0, 0, 1, 0, 1],\n",
              "       [1, 1, 1, 2, 0, 0, 0],\n",
              "       [0, 0, 0, 1, 1, 0, 2],\n",
              "       [0, 1, 1, 0, 0, 1, 1]])"
            ]
          },
          "metadata": {
            "tags": []
          },
          "execution_count": 39
        }
      ]
    },
    {
      "cell_type": "code",
      "metadata": {
        "id": "bvOG_CKlc7J5",
        "colab_type": "code",
        "colab": {}
      },
      "source": [
        "from sklearn.naive_bayes import BernoulliNB\n",
        "model_bern = BernoulliNB().fit(x,y)"
      ],
      "execution_count": 40,
      "outputs": []
    },
    {
      "cell_type": "code",
      "metadata": {
        "id": "rOlXLMwZc7KW",
        "colab_type": "code",
        "colab": {
          "base_uri": "https://localhost:8080/",
          "height": 34
        },
        "outputId": "3a5e616d-9dd8-4fbc-a394-b8748a49a643"
      },
      "source": [
        "model_bern.classes_ # y클래스의 종류"
      ],
      "execution_count": 41,
      "outputs": [
        {
          "output_type": "execute_result",
          "data": {
            "text/plain": [
              "array([0, 1])"
            ]
          },
          "metadata": {
            "tags": []
          },
          "execution_count": 41
        }
      ]
    },
    {
      "cell_type": "code",
      "metadata": {
        "id": "-cUDBEDYc7K8",
        "colab_type": "code",
        "colab": {
          "base_uri": "https://localhost:8080/",
          "height": 34
        },
        "outputId": "0c8dc580-4324-46e7-9e58-8e847d2da7f2"
      },
      "source": [
        "model_bern.class_count_ # y class count"
      ],
      "execution_count": 42,
      "outputs": [
        {
          "output_type": "execute_result",
          "data": {
            "text/plain": [
              "array([3., 2.])"
            ]
          },
          "metadata": {
            "tags": []
          },
          "execution_count": 42
        }
      ]
    },
    {
      "cell_type": "code",
      "metadata": {
        "id": "ubwOeLqwc7LT",
        "colab_type": "code",
        "colab": {
          "base_uri": "https://localhost:8080/",
          "height": 34
        },
        "outputId": "d37f2c5b-a1bf-47b2-cd1e-217729864628"
      },
      "source": [
        "np.exp(model_bern.class_log_prior_) # prior probability"
      ],
      "execution_count": 43,
      "outputs": [
        {
          "output_type": "execute_result",
          "data": {
            "text/plain": [
              "array([0.6, 0.4])"
            ]
          },
          "metadata": {
            "tags": []
          },
          "execution_count": 43
        }
      ]
    },
    {
      "cell_type": "code",
      "metadata": {
        "id": "G2XhOgRMc7Lp",
        "colab_type": "code",
        "colab": {
          "base_uri": "https://localhost:8080/",
          "height": 87
        },
        "outputId": "9f9d5d84-eda2-46fc-f639-167795cd0c15"
      },
      "source": [
        "p = model_bern.feature_count_ / np.repeat(model_bern.class_count_[:,np.newaxis], 7, axis=1)\n",
        "p  # 각 클래스, 특성별로 각각 다른 베르누이 확률변수라고 가정했을 때의 p값"
      ],
      "execution_count": 44,
      "outputs": [
        {
          "output_type": "execute_result",
          "data": {
            "text/plain": [
              "array([[0.        , 0.66666667, 0.33333333, 0.33333333, 0.66666667,\n",
              "        0.33333333, 1.        ],\n",
              "       [1.        , 0.5       , 0.5       , 1.        , 0.        ,\n",
              "        0.5       , 0.        ]])"
            ]
          },
          "metadata": {
            "tags": []
          },
          "execution_count": 44
        }
      ]
    },
    {
      "cell_type": "markdown",
      "metadata": {
        "id": "fkzSJ69oc7MJ",
        "colab_type": "text"
      },
      "source": [
        "그러나 위 값은 model 내에서의 값과 다르다. 왜냐면 model에서 구한 값은 smoothing이 된 값이기 때문이다.  \n",
        "0과 1이 나오는 가상의 데이터를 추가함으로써 추정한 모수의 값이 좀 더 0.5에 가까워지게 만든다.\n",
        "이 때 사용한 alpha값은 다음과 같다."
      ]
    },
    {
      "cell_type": "code",
      "metadata": {
        "id": "WNavAKIBc7MN",
        "colab_type": "code",
        "colab": {
          "base_uri": "https://localhost:8080/",
          "height": 34
        },
        "outputId": "b3a47c08-2972-4c99-8080-c85092dd33ec"
      },
      "source": [
        "model_bern.alpha # alpha = 1 이면 Laplace smoothing (default) / alpha < 1 이면 Lidstone smoothing"
      ],
      "execution_count": 45,
      "outputs": [
        {
          "output_type": "execute_result",
          "data": {
            "text/plain": [
              "1.0"
            ]
          },
          "metadata": {
            "tags": []
          },
          "execution_count": 45
        }
      ]
    },
    {
      "cell_type": "code",
      "metadata": {
        "id": "aouVzKL6c7Mo",
        "colab_type": "code",
        "colab": {
          "base_uri": "https://localhost:8080/",
          "height": 52
        },
        "outputId": "8e0e75ca-670d-4acb-abc2-1abb6110f3d8"
      },
      "source": [
        "theta = np.exp(model_bern.feature_log_prob_)\n",
        "theta # smoothing이 적용된 bernoulli 확률분포의 p값 (모수값)"
      ],
      "execution_count": 46,
      "outputs": [
        {
          "output_type": "execute_result",
          "data": {
            "text/plain": [
              "array([[0.2 , 0.6 , 0.4 , 0.4 , 0.6 , 0.4 , 0.8 ],\n",
              "       [0.75, 0.5 , 0.5 , 0.75, 0.25, 0.5 , 0.25]])"
            ]
          },
          "metadata": {
            "tags": []
          },
          "execution_count": 46
        }
      ]
    },
    {
      "cell_type": "markdown",
      "metadata": {
        "id": "669GjCCec7M9",
        "colab_type": "text"
      },
      "source": [
        "이제 새로운 데이터를 가지고 테스트를 해보려고 한다."
      ]
    },
    {
      "cell_type": "code",
      "metadata": {
        "id": "YIfKPrGXc7NG",
        "colab_type": "code",
        "colab": {
          "base_uri": "https://localhost:8080/",
          "height": 34
        },
        "outputId": "93e89d9c-15ef-421e-c123-6e18159f2007"
      },
      "source": [
        "x_new = np.array([0, 1, 0, 1, 1, 0, 0]) # fast, fun, furious가 들어간 text\n",
        "model_bern.predict_proba([x_new])"
      ],
      "execution_count": 47,
      "outputs": [
        {
          "output_type": "execute_result",
          "data": {
            "text/plain": [
              "array([[0.73898212, 0.26101788]])"
            ]
          },
          "metadata": {
            "tags": []
          },
          "execution_count": 47
        }
      ]
    },
    {
      "cell_type": "markdown",
      "metadata": {
        "id": "3BPUbUMIc7No",
        "colab_type": "text"
      },
      "source": [
        "action일 확률이 0.74, comedy일 확률이 0.26이다. 즉 action으로 분류될 확률이 0.74이다."
      ]
    }
  ]
}