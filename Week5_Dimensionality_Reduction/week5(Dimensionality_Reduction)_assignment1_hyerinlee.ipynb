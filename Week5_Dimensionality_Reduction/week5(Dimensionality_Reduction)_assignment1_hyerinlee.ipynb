{
  "nbformat": 4,
  "nbformat_minor": 0,
  "metadata": {
    "kernelspec": {
      "display_name": "Python 3",
      "language": "python",
      "name": "python3"
    },
    "language_info": {
      "codemirror_mode": {
        "name": "ipython",
        "version": 3
      },
      "file_extension": ".py",
      "mimetype": "text/x-python",
      "name": "python",
      "nbconvert_exporter": "python",
      "pygments_lexer": "ipython3",
      "version": "3.7.6"
    },
    "colab": {
      "name": "week5(Dimensionality Reduction)_assignment1_hyerinlee.ipynb",
      "provenance": [],
      "include_colab_link": true
    }
  },
  "cells": [
    {
      "cell_type": "markdown",
      "metadata": {
        "id": "view-in-github",
        "colab_type": "text"
      },
      "source": [
        "<a href=\"https://colab.research.google.com/github/hyerin0113/tobigs14_assign/blob/master/Week5_Dimensionality_Reduction/week5(Dimensionality_Reduction)_assignment1_hyerinlee.ipynb\" target=\"_parent\"><img src=\"https://colab.research.google.com/assets/colab-badge.svg\" alt=\"Open In Colab\"/></a>"
      ]
    },
    {
      "cell_type": "markdown",
      "metadata": {
        "id": "DqxkPopxH360",
        "colab_type": "text"
      },
      "source": [
        "# 차원축소 Assignment1_Tobigs14_이혜린"
      ]
    },
    {
      "cell_type": "markdown",
      "metadata": {
        "id": "C1LYPrQbH364",
        "colab_type": "text"
      },
      "source": [
        "# ''' ? ''' 이 있는 부분을 채워주세요 \n",
        "\n",
        "참고하셔야 하는 함수들은 링크 달아드렸으니 들어가서 확인해보세요\n",
        "\n",
        "무작정 빈칸 채우기가 아니라 꼭 차원축소 과정을 이해하시면서 과제를 진행하시면 좋겠습니다!ㅎㅎ"
      ]
    },
    {
      "cell_type": "markdown",
      "metadata": {
        "id": "rwma0VrmH368",
        "colab_type": "text"
      },
      "source": [
        "# 1) PCA의 과정 차근차근 밟아보기  (╹◡╹)"
      ]
    },
    {
      "cell_type": "code",
      "metadata": {
        "id": "kOxymKGhH36_",
        "colab_type": "code",
        "colab": {}
      },
      "source": [
        "#기본 모듈 불러오기\n",
        "import numpy as np\n",
        "import numpy.linalg as lin\n",
        "import matplotlib.pyplot as plt\n",
        "import pandas as pd\n",
        "import random"
      ],
      "execution_count": null,
      "outputs": []
    },
    {
      "cell_type": "code",
      "metadata": {
        "id": "fNtTr4ZqH37T",
        "colab_type": "code",
        "colab": {}
      },
      "source": [
        "#설명변수 x1, x2, x3\n",
        "x1 = [95, 91, 66, 94, 68, 63, 12, 73, 93, 51, 13, 70, 63, 63, 97, 56, 67, 96, 75, 6]\n",
        "x2 = [56, 27, 25, 1, 9, 80, 92, 69, 6, 25, 83, 82, 54, 97, 66, 93, 76, 59, 94, 9]\n",
        "x3 = [57, 34, 9, 79, 4, 77, 100, 42, 6, 96, 61, 66, 9, 25, 84, 46, 16, 63, 53, 30]"
      ],
      "execution_count": null,
      "outputs": []
    },
    {
      "cell_type": "code",
      "metadata": {
        "id": "J_ZbXYS8H378",
        "colab_type": "code",
        "colab": {}
      },
      "source": [
        "#   설명변수들을 하나의 행렬로\n",
        "X = np.stack((x1,x2,x3),axis=0)"
      ],
      "execution_count": null,
      "outputs": []
    },
    {
      "cell_type": "code",
      "metadata": {
        "id": "l9cz450wH38O",
        "colab_type": "code",
        "colab": {}
      },
      "source": [
        "X = pd.DataFrame(X.T,columns=['x1','x2','x3'])"
      ],
      "execution_count": null,
      "outputs": []
    },
    {
      "cell_type": "code",
      "metadata": {
        "id": "82NAKe5rH38X",
        "colab_type": "code",
        "colab": {},
        "outputId": "00b45520-2e27-426d-b492-c17f36777140"
      },
      "source": [
        "X"
      ],
      "execution_count": null,
      "outputs": [
        {
          "output_type": "execute_result",
          "data": {
            "text/html": [
              "<div>\n",
              "<style scoped>\n",
              "    .dataframe tbody tr th:only-of-type {\n",
              "        vertical-align: middle;\n",
              "    }\n",
              "\n",
              "    .dataframe tbody tr th {\n",
              "        vertical-align: top;\n",
              "    }\n",
              "\n",
              "    .dataframe thead th {\n",
              "        text-align: right;\n",
              "    }\n",
              "</style>\n",
              "<table border=\"1\" class=\"dataframe\">\n",
              "  <thead>\n",
              "    <tr style=\"text-align: right;\">\n",
              "      <th></th>\n",
              "      <th>x1</th>\n",
              "      <th>x2</th>\n",
              "      <th>x3</th>\n",
              "    </tr>\n",
              "  </thead>\n",
              "  <tbody>\n",
              "    <tr>\n",
              "      <th>0</th>\n",
              "      <td>95</td>\n",
              "      <td>56</td>\n",
              "      <td>57</td>\n",
              "    </tr>\n",
              "    <tr>\n",
              "      <th>1</th>\n",
              "      <td>91</td>\n",
              "      <td>27</td>\n",
              "      <td>34</td>\n",
              "    </tr>\n",
              "    <tr>\n",
              "      <th>2</th>\n",
              "      <td>66</td>\n",
              "      <td>25</td>\n",
              "      <td>9</td>\n",
              "    </tr>\n",
              "    <tr>\n",
              "      <th>3</th>\n",
              "      <td>94</td>\n",
              "      <td>1</td>\n",
              "      <td>79</td>\n",
              "    </tr>\n",
              "    <tr>\n",
              "      <th>4</th>\n",
              "      <td>68</td>\n",
              "      <td>9</td>\n",
              "      <td>4</td>\n",
              "    </tr>\n",
              "    <tr>\n",
              "      <th>5</th>\n",
              "      <td>63</td>\n",
              "      <td>80</td>\n",
              "      <td>77</td>\n",
              "    </tr>\n",
              "    <tr>\n",
              "      <th>6</th>\n",
              "      <td>12</td>\n",
              "      <td>92</td>\n",
              "      <td>100</td>\n",
              "    </tr>\n",
              "    <tr>\n",
              "      <th>7</th>\n",
              "      <td>73</td>\n",
              "      <td>69</td>\n",
              "      <td>42</td>\n",
              "    </tr>\n",
              "    <tr>\n",
              "      <th>8</th>\n",
              "      <td>93</td>\n",
              "      <td>6</td>\n",
              "      <td>6</td>\n",
              "    </tr>\n",
              "    <tr>\n",
              "      <th>9</th>\n",
              "      <td>51</td>\n",
              "      <td>25</td>\n",
              "      <td>96</td>\n",
              "    </tr>\n",
              "    <tr>\n",
              "      <th>10</th>\n",
              "      <td>13</td>\n",
              "      <td>83</td>\n",
              "      <td>61</td>\n",
              "    </tr>\n",
              "    <tr>\n",
              "      <th>11</th>\n",
              "      <td>70</td>\n",
              "      <td>82</td>\n",
              "      <td>66</td>\n",
              "    </tr>\n",
              "    <tr>\n",
              "      <th>12</th>\n",
              "      <td>63</td>\n",
              "      <td>54</td>\n",
              "      <td>9</td>\n",
              "    </tr>\n",
              "    <tr>\n",
              "      <th>13</th>\n",
              "      <td>63</td>\n",
              "      <td>97</td>\n",
              "      <td>25</td>\n",
              "    </tr>\n",
              "    <tr>\n",
              "      <th>14</th>\n",
              "      <td>97</td>\n",
              "      <td>66</td>\n",
              "      <td>84</td>\n",
              "    </tr>\n",
              "    <tr>\n",
              "      <th>15</th>\n",
              "      <td>56</td>\n",
              "      <td>93</td>\n",
              "      <td>46</td>\n",
              "    </tr>\n",
              "    <tr>\n",
              "      <th>16</th>\n",
              "      <td>67</td>\n",
              "      <td>76</td>\n",
              "      <td>16</td>\n",
              "    </tr>\n",
              "    <tr>\n",
              "      <th>17</th>\n",
              "      <td>96</td>\n",
              "      <td>59</td>\n",
              "      <td>63</td>\n",
              "    </tr>\n",
              "    <tr>\n",
              "      <th>18</th>\n",
              "      <td>75</td>\n",
              "      <td>94</td>\n",
              "      <td>53</td>\n",
              "    </tr>\n",
              "    <tr>\n",
              "      <th>19</th>\n",
              "      <td>6</td>\n",
              "      <td>9</td>\n",
              "      <td>30</td>\n",
              "    </tr>\n",
              "  </tbody>\n",
              "</table>\n",
              "</div>"
            ],
            "text/plain": [
              "    x1  x2   x3\n",
              "0   95  56   57\n",
              "1   91  27   34\n",
              "2   66  25    9\n",
              "3   94   1   79\n",
              "4   68   9    4\n",
              "5   63  80   77\n",
              "6   12  92  100\n",
              "7   73  69   42\n",
              "8   93   6    6\n",
              "9   51  25   96\n",
              "10  13  83   61\n",
              "11  70  82   66\n",
              "12  63  54    9\n",
              "13  63  97   25\n",
              "14  97  66   84\n",
              "15  56  93   46\n",
              "16  67  76   16\n",
              "17  96  59   63\n",
              "18  75  94   53\n",
              "19   6   9   30"
            ]
          },
          "metadata": {
            "tags": []
          },
          "execution_count": 5
        }
      ]
    },
    {
      "cell_type": "markdown",
      "metadata": {
        "id": "jqm_wmPSH38m",
        "colab_type": "text"
      },
      "source": [
        "### 1-1) 먼저 PCA를 시작하기 전 데이터 scaling ** 매우 중요합니다!\n",
        "\n",
        "https://datascienceschool.net/view-notebook/f43be7d6515b48c0beb909826993c856/ 를 참고하시면 도움이 될거에요"
      ]
    },
    {
      "cell_type": "code",
      "metadata": {
        "id": "JwCu_qjxH38o",
        "colab_type": "code",
        "colab": {}
      },
      "source": [
        "#scaling\n",
        "from sklearn.preprocessing import StandardScaler\n",
        "scaler = StandardScaler()\n",
        "X_std = scaler.fit_transform(X) #sclaing 후 데이터"
      ],
      "execution_count": null,
      "outputs": []
    },
    {
      "cell_type": "code",
      "metadata": {
        "id": "pjZ1Bb9xH396",
        "colab_type": "code",
        "colab": {},
        "outputId": "f939c24c-314b-4ba5-b851-1f6450f6b2e6"
      },
      "source": [
        "X_std"
      ],
      "execution_count": null,
      "outputs": [
        {
          "output_type": "execute_result",
          "data": {
            "text/plain": [
              "array([[ 1.08573604,  0.02614175,  0.30684189],\n",
              "       [ 0.93801686, -0.86575334, -0.46445467],\n",
              "       [ 0.01477192, -0.92726334, -1.30282049],\n",
              "       [ 1.04880625, -1.66538341,  1.04460382],\n",
              "       [ 0.08863151, -1.41934339, -1.47049366],\n",
              "       [-0.09601747,  0.76426183,  0.97753455],\n",
              "       [-1.97943714,  1.13332186,  1.74883111],\n",
              "       [ 0.2732805 ,  0.42595679, -0.1961776 ],\n",
              "       [ 1.01187645, -1.5116084 , -1.40342439],\n",
              "       [-0.53917504, -0.92726334,  1.61469258],\n",
              "       [-1.94250735,  0.85652683,  0.44098042],\n",
              "       [ 0.16249111,  0.82577183,  0.60865359],\n",
              "       [-0.09601747, -0.03536825, -1.30282049],\n",
              "       [-0.09601747,  1.28709688, -0.76626636],\n",
              "       [ 1.15959564,  0.33369178,  1.21227698],\n",
              "       [-0.35452606,  1.16407687, -0.06203907],\n",
              "       [ 0.05170172,  0.64124181, -1.06807806],\n",
              "       [ 1.12266584,  0.11840676,  0.50804969],\n",
              "       [ 0.3471401 ,  1.19483187,  0.17270336],\n",
              "       [-2.20101593, -1.41934339, -0.5985932 ]])"
            ]
          },
          "metadata": {
            "tags": []
          },
          "execution_count": 7
        }
      ]
    },
    {
      "cell_type": "code",
      "metadata": {
        "id": "fnnVvetGH3-K",
        "colab_type": "code",
        "colab": {}
      },
      "source": [
        "features = X_std.T"
      ],
      "execution_count": null,
      "outputs": []
    },
    {
      "cell_type": "code",
      "metadata": {
        "id": "jhUGsw2pH3-W",
        "colab_type": "code",
        "colab": {},
        "outputId": "a365cc3a-76e5-4972-b9e5-cb4a979c6c12"
      },
      "source": [
        "features"
      ],
      "execution_count": null,
      "outputs": [
        {
          "output_type": "execute_result",
          "data": {
            "text/plain": [
              "array([[ 1.08573604,  0.93801686,  0.01477192,  1.04880625,  0.08863151,\n",
              "        -0.09601747, -1.97943714,  0.2732805 ,  1.01187645, -0.53917504,\n",
              "        -1.94250735,  0.16249111, -0.09601747, -0.09601747,  1.15959564,\n",
              "        -0.35452606,  0.05170172,  1.12266584,  0.3471401 , -2.20101593],\n",
              "       [ 0.02614175, -0.86575334, -0.92726334, -1.66538341, -1.41934339,\n",
              "         0.76426183,  1.13332186,  0.42595679, -1.5116084 , -0.92726334,\n",
              "         0.85652683,  0.82577183, -0.03536825,  1.28709688,  0.33369178,\n",
              "         1.16407687,  0.64124181,  0.11840676,  1.19483187, -1.41934339],\n",
              "       [ 0.30684189, -0.46445467, -1.30282049,  1.04460382, -1.47049366,\n",
              "         0.97753455,  1.74883111, -0.1961776 , -1.40342439,  1.61469258,\n",
              "         0.44098042,  0.60865359, -1.30282049, -0.76626636,  1.21227698,\n",
              "        -0.06203907, -1.06807806,  0.50804969,  0.17270336, -0.5985932 ]])"
            ]
          },
          "metadata": {
            "tags": []
          },
          "execution_count": 9
        }
      ]
    },
    {
      "cell_type": "markdown",
      "metadata": {
        "id": "JQPsZxtJH3-p",
        "colab_type": "text"
      },
      "source": [
        "### 1-2) 다음으로 공분산 행렬을 구합니다\n",
        "\n",
        "https://docs.scipy.org/doc/numpy/reference/generated/numpy.cov.html 를 참고하시면 도움이 될거에요"
      ]
    },
    {
      "cell_type": "code",
      "metadata": {
        "scrolled": true,
        "id": "v8mP7NtGH3-s",
        "colab_type": "code",
        "colab": {}
      },
      "source": [
        "cov_matrix = np.cov(features)"
      ],
      "execution_count": null,
      "outputs": []
    },
    {
      "cell_type": "code",
      "metadata": {
        "id": "3e_SPnXHH3-8",
        "colab_type": "code",
        "colab": {},
        "outputId": "bdab3e87-c801-4ada-d2d8-42fd2db37dac"
      },
      "source": [
        "cov_matrix"
      ],
      "execution_count": null,
      "outputs": [
        {
          "output_type": "execute_result",
          "data": {
            "text/plain": [
              "array([[ 1.05263158, -0.2037104 , -0.12079228],\n",
              "       [-0.2037104 ,  1.05263158,  0.3125801 ],\n",
              "       [-0.12079228,  0.3125801 ,  1.05263158]])"
            ]
          },
          "metadata": {
            "tags": []
          },
          "execution_count": 11
        }
      ]
    },
    {
      "cell_type": "markdown",
      "metadata": {
        "id": "px35SiBfH3_N",
        "colab_type": "text"
      },
      "source": [
        "### 1-3) 이제 고유값과 고유벡터를 구합니다\n",
        "\n",
        "실습코드를 참고해주세요"
      ]
    },
    {
      "cell_type": "code",
      "metadata": {
        "id": "gtEtpHKsH3_O",
        "colab_type": "code",
        "colab": {}
      },
      "source": [
        "import numpy.linalg as lin"
      ],
      "execution_count": null,
      "outputs": []
    },
    {
      "cell_type": "code",
      "metadata": {
        "id": "Y4naV1W3H3_a",
        "colab_type": "code",
        "colab": {}
      },
      "source": [
        "eigenvalues = lin.eig(cov_matrix)[0]\n",
        "eigenvectors = lin.eig(cov_matrix)[1]"
      ],
      "execution_count": null,
      "outputs": []
    },
    {
      "cell_type": "code",
      "metadata": {
        "id": "H_YhZSgvH3_m",
        "colab_type": "code",
        "colab": {},
        "outputId": "efb2e2ed-0910-4bd6-c72b-e9e6c2be458d"
      },
      "source": [
        "print(eigenvalues)\n",
        "print(eigenvectors)"
      ],
      "execution_count": null,
      "outputs": [
        {
          "output_type": "stream",
          "text": [
            "[1.48756162 0.94435407 0.72597904]\n",
            "[[ 0.47018528 -0.85137353 -0.23257022]\n",
            " [-0.64960236 -0.15545725 -0.74421087]\n",
            " [-0.59744671 -0.50099516  0.62614797]]\n"
          ],
          "name": "stdout"
        }
      ]
    },
    {
      "cell_type": "code",
      "metadata": {
        "id": "LeTmg4uPH3_0",
        "colab_type": "code",
        "colab": {}
      },
      "source": [
        "mat = np.zeros((3,3))"
      ],
      "execution_count": null,
      "outputs": []
    },
    {
      "cell_type": "code",
      "metadata": {
        "id": "2b2otaYTH3_9",
        "colab_type": "code",
        "colab": {},
        "outputId": "4ab694e5-1e62-40bb-c709-a5f4b57f7156"
      },
      "source": [
        "mat"
      ],
      "execution_count": null,
      "outputs": [
        {
          "output_type": "execute_result",
          "data": {
            "text/plain": [
              "array([[0., 0., 0.],\n",
              "       [0., 0., 0.],\n",
              "       [0., 0., 0.]])"
            ]
          },
          "metadata": {
            "tags": []
          },
          "execution_count": 16
        }
      ]
    },
    {
      "cell_type": "code",
      "metadata": {
        "id": "3wJvCom2H4AM",
        "colab_type": "code",
        "colab": {}
      },
      "source": [
        "mat[0][0] = eigenvalues[0]\n",
        "mat[1][1] = eigenvalues[1]\n",
        "mat[2][2] = eigenvalues[2]"
      ],
      "execution_count": null,
      "outputs": []
    },
    {
      "cell_type": "markdown",
      "metadata": {
        "id": "t8fUcu2NH4A1",
        "colab_type": "text"
      },
      "source": [
        "$diag(\\lambda)$"
      ]
    },
    {
      "cell_type": "code",
      "metadata": {
        "id": "9op6svA-H4A6",
        "colab_type": "code",
        "colab": {},
        "outputId": "bdc8dfbe-bb9a-4d73-aa6a-7f5c31f2677d"
      },
      "source": [
        "mat"
      ],
      "execution_count": null,
      "outputs": [
        {
          "output_type": "execute_result",
          "data": {
            "text/plain": [
              "array([[1.48756162, 0.        , 0.        ],\n",
              "       [0.        , 0.94435407, 0.        ],\n",
              "       [0.        , 0.        , 0.72597904]])"
            ]
          },
          "metadata": {
            "tags": []
          },
          "execution_count": 18
        }
      ]
    },
    {
      "cell_type": "code",
      "metadata": {
        "id": "_fGuuB4JH4BS",
        "colab_type": "code",
        "colab": {},
        "outputId": "3497f5ff-3c99-41ce-ba4e-8e1db3649f51"
      },
      "source": [
        "eigenvalues"
      ],
      "execution_count": null,
      "outputs": [
        {
          "output_type": "execute_result",
          "data": {
            "text/plain": [
              "array([1.48756162, 0.94435407, 0.72597904])"
            ]
          },
          "metadata": {
            "tags": []
          },
          "execution_count": 19
        }
      ]
    },
    {
      "cell_type": "markdown",
      "metadata": {
        "id": "UiXg1Tv2H4Bo",
        "colab_type": "text"
      },
      "source": [
        "### 1-4) 고유값 분해: 고유값 분해의 곱으로 원래 공분산 행렬을 구해봅니다\n",
        "\n",
        "https://docs.scipy.org/doc/numpy/reference/generated/numpy.dot.html 를 참고해주세요\n",
        "\n",
        "A = 𝑃Λ𝑃`\n",
        "이 식 기억나죠?"
      ]
    },
    {
      "cell_type": "code",
      "metadata": {
        "scrolled": true,
        "id": "T3MIYzFLH4Bz",
        "colab_type": "code",
        "colab": {},
        "outputId": "6cbfdf36-dca5-4719-e778-cb6bc0617762"
      },
      "source": [
        "eigenvectors @ mat @ eigenvectors.T\n",
        "\n",
        "#1-2에서 구했던 공분산과 동일한가요?"
      ],
      "execution_count": null,
      "outputs": [
        {
          "output_type": "execute_result",
          "data": {
            "text/plain": [
              "array([[ 1.05263158, -0.2037104 , -0.12079228],\n",
              "       [-0.2037104 ,  1.05263158,  0.3125801 ],\n",
              "       [-0.12079228,  0.3125801 ,  1.05263158]])"
            ]
          },
          "metadata": {
            "tags": []
          },
          "execution_count": 20
        }
      ]
    },
    {
      "cell_type": "markdown",
      "metadata": {
        "id": "nlkuI51XH4CG",
        "colab_type": "text"
      },
      "source": [
        "동일합니다!"
      ]
    },
    {
      "cell_type": "markdown",
      "metadata": {
        "id": "KTlI9CHzH4CJ",
        "colab_type": "text"
      },
      "source": [
        "### 1-5) 마지막으로 고유 벡터 축으로 값을 변환합니다\n",
        "\n",
        "\n",
        "https://docs.scipy.org/doc/numpy/reference/generated/numpy.concatenate.html"
      ]
    },
    {
      "cell_type": "code",
      "metadata": {
        "id": "istSdXIZH4CX",
        "colab_type": "code",
        "colab": {}
      },
      "source": [
        "def new_coordinates(X,eigenvectors):\n",
        "    for i in range(eigenvectors.shape[0]): # eigenvector의 개수\n",
        "        if i == 0:\n",
        "            new = [X.dot(eigenvectors.T[i])]\n",
        "        else:\n",
        "            new = np.concatenate((new, [X.dot(eigenvectors.T[i])]),axis=0)\n",
        "    return new.T\n",
        "\n",
        "# 모든 eigenvector 축으로 데이터를 projection한 값입니다\n",
        "\n",
        "# 단위행렬에서 eigenvector로 기저를 변환한 결과"
      ],
      "execution_count": null,
      "outputs": []
    },
    {
      "cell_type": "code",
      "metadata": {
        "id": "skoTHyDdH4C0",
        "colab_type": "code",
        "colab": {},
        "outputId": "99632333-befc-4ed0-bd12-6d5a552fe005"
      },
      "source": [
        "new_coordinates(X_std,eigenvectors)\n",
        "\n",
        "# 새로운 축으로 변환되어 나타난 데이터들입니다"
      ],
      "execution_count": null,
      "outputs": [
        {
          "output_type": "execute_result",
          "data": {
            "text/plain": [
              "array([[ 0.31019368, -1.08215716, -0.07983642],\n",
              "       [ 1.28092404, -0.43132556,  0.13533091],\n",
              "       [ 1.38766381,  0.78428014, -0.12911446],\n",
              "       [ 0.95087515, -1.15737142,  1.6495519 ],\n",
              "       [ 1.84222365,  0.88189889,  0.11493111],\n",
              "       [-1.12563709, -0.52680338,  0.06564012],\n",
              "       [-2.71174416,  0.63290138,  0.71195473],\n",
              "       [-0.03100441, -0.20059783, -0.50339479],\n",
              "       [ 2.29618509,  0.07661447,  0.01087174],\n",
              "       [-0.61585248, -0.205764  ,  1.82651199],\n",
              "       [-1.73320252,  1.29971699,  0.09045178],\n",
              "       [-0.82366049, -0.57164535, -0.27123176],\n",
              "       [ 0.75619512,  0.73995175, -0.76710616],\n",
              "       [-0.42344386,  0.26555394, -1.41533681],\n",
              "       [-0.39581307, -1.64646874,  0.24104031],\n",
              "       [-0.88581498,  0.15195119, -0.82271209],\n",
              "       [ 0.24587691,  0.39139878, -1.15801831],\n",
              "       [ 0.14741103, -1.22874561, -0.03110396],\n",
              "       [-0.7161265 , -0.56781471, -0.86180345],\n",
              "       [ 0.24475107,  2.39442622,  1.19337361]])"
            ]
          },
          "metadata": {
            "tags": []
          },
          "execution_count": 22
        }
      ]
    },
    {
      "cell_type": "markdown",
      "metadata": {
        "id": "ph_wUlmdH4DW",
        "colab_type": "text"
      },
      "source": [
        "# 2) PCA를 구현해보기 (╹◡╹)\n",
        "\n",
        "위의 과정을 하나의 함수로 표현해주세요!\n",
        "\n",
        "1)에서 진행한 과정을 그대로 가져오면 됩니다..! , \n",
        "\n",
        "위에서 만든 함수(new_coordinate)도 가져오셔서 사용해도 좋아요!\n",
        "\n",
        "+하지만 이 함수는 number이라는 인자를 받아서 pca에서 주성분 개수를 고려하도록 합니다!\n",
        "\n",
        "고유값이 큰 축 순서로 정렬하는 과정 + 주성분 개수 number을 고려해야한다는 점을 유의해서 함수를 정의해주세요\n"
      ]
    },
    {
      "cell_type": "code",
      "metadata": {
        "id": "0AVvGY7BH4DY",
        "colab_type": "code",
        "colab": {}
      },
      "source": [
        "from sklearn.preprocessing import StandardScaler\n",
        "import numpy.linalg as lin\n",
        "\n",
        "\n",
        "def MYPCA(X,number):\n",
        "    \n",
        "    X_std = StandardScaler().fit_transform(X)\n",
        "    cov_matrix = np.cov(X_std.T)\n",
        "    eigenvalues = lin.eig(cov_matrix)[0] ; eigenvectors = lin.eig(cov_matrix)[1]\n",
        "    eigenvalues_sorted = np.sort(-eigenvalues) # descending \n",
        "    eigenvectors_sorted = eigenvectors[:, np.argsort(-eigenvalues)] # descending \n",
        "    \n",
        "    for i in range(number): # 주성분 개수만큼만 계산\n",
        "        if i == 0:\n",
        "            new = [X_std.dot(eigenvectors_sorted.T[i])] # X_std * 고유벡터의 x[i]축\n",
        "                                                        # (고유벡터 v1, 고유벡터 v2 등을 곱하는 것이 아님을 주의하자)\n",
        "        else:\n",
        "            new = np.concatenate((new, [X_std.dot(eigenvectors_sorted.T[i])]),axis=0)\n",
        "    return new.T\n",
        "    \n",
        "    return new.T #새로운 축으로 변환되어 나타난 데이터 return"
      ],
      "execution_count": null,
      "outputs": []
    },
    {
      "cell_type": "code",
      "metadata": {
        "id": "0YDIoNOzH4D3",
        "colab_type": "code",
        "colab": {},
        "outputId": "9581d518-7b20-44ca-9551-9f2a93df7cb7"
      },
      "source": [
        "MYPCA(X,3)\n",
        "\n",
        "# 고유값이 큰 축 순서로 정렬한 후의 결과. 앞의 결과와 거의 동일합니다!\n",
        "# 여기서 축이라 함은, x1축 x2축 x3축을 의미합니다."
      ],
      "execution_count": null,
      "outputs": [
        {
          "output_type": "execute_result",
          "data": {
            "text/plain": [
              "array([[ 0.31019368, -1.08215716, -0.07983642],\n",
              "       [ 1.28092404, -0.43132556,  0.13533091],\n",
              "       [ 1.38766381,  0.78428014, -0.12911446],\n",
              "       [ 0.95087515, -1.15737142,  1.6495519 ],\n",
              "       [ 1.84222365,  0.88189889,  0.11493111],\n",
              "       [-1.12563709, -0.52680338,  0.06564012],\n",
              "       [-2.71174416,  0.63290138,  0.71195473],\n",
              "       [-0.03100441, -0.20059783, -0.50339479],\n",
              "       [ 2.29618509,  0.07661447,  0.01087174],\n",
              "       [-0.61585248, -0.205764  ,  1.82651199],\n",
              "       [-1.73320252,  1.29971699,  0.09045178],\n",
              "       [-0.82366049, -0.57164535, -0.27123176],\n",
              "       [ 0.75619512,  0.73995175, -0.76710616],\n",
              "       [-0.42344386,  0.26555394, -1.41533681],\n",
              "       [-0.39581307, -1.64646874,  0.24104031],\n",
              "       [-0.88581498,  0.15195119, -0.82271209],\n",
              "       [ 0.24587691,  0.39139878, -1.15801831],\n",
              "       [ 0.14741103, -1.22874561, -0.03110396],\n",
              "       [-0.7161265 , -0.56781471, -0.86180345],\n",
              "       [ 0.24475107,  2.39442622,  1.19337361]])"
            ]
          },
          "metadata": {
            "tags": []
          },
          "execution_count": 52
        }
      ]
    },
    {
      "cell_type": "markdown",
      "metadata": {
        "id": "jLMXPlqlH4E_",
        "colab_type": "text"
      },
      "source": [
        "# 3) sklearn이랑 비교를 해보기 (╹◡╹)\n",
        "\n",
        "https://scikit-learn.org/stable/modules/generated/sklearn.decomposition.PCA.html 를 참고하시면 도움이 될거에요"
      ]
    },
    {
      "cell_type": "code",
      "metadata": {
        "id": "5gUim_5fH4FA",
        "colab_type": "code",
        "colab": {}
      },
      "source": [
        "from sklearn.decomposition import PCA\n",
        "pca = PCA(n_components=3) \n",
        "\n",
        "# sklearn package의 PCA는 자동으로 데이터를 중앙에 맞춰준다.\n",
        "# parameter \n",
        "# n_components : 주성분 개수. 만약 0과 1 사이라면 PCA를 사용해 설명하고 싶은 분산의 양을 의미한다."
      ],
      "execution_count": null,
      "outputs": []
    },
    {
      "cell_type": "code",
      "metadata": {
        "id": "TAUAyhxyH4Fg",
        "colab_type": "code",
        "colab": {},
        "outputId": "5a7da7e8-2c6f-4bc6-924e-0580f19dfd6d"
      },
      "source": [
        "pca.fit_transform(X_std)"
      ],
      "execution_count": null,
      "outputs": [
        {
          "output_type": "execute_result",
          "data": {
            "text/plain": [
              "array([[-0.31019368, -1.08215716, -0.07983642],\n",
              "       [-1.28092404, -0.43132556,  0.13533091],\n",
              "       [-1.38766381,  0.78428014, -0.12911446],\n",
              "       [-0.95087515, -1.15737142,  1.6495519 ],\n",
              "       [-1.84222365,  0.88189889,  0.11493111],\n",
              "       [ 1.12563709, -0.52680338,  0.06564012],\n",
              "       [ 2.71174416,  0.63290138,  0.71195473],\n",
              "       [ 0.03100441, -0.20059783, -0.50339479],\n",
              "       [-2.29618509,  0.07661447,  0.01087174],\n",
              "       [ 0.61585248, -0.205764  ,  1.82651199],\n",
              "       [ 1.73320252,  1.29971699,  0.09045178],\n",
              "       [ 0.82366049, -0.57164535, -0.27123176],\n",
              "       [-0.75619512,  0.73995175, -0.76710616],\n",
              "       [ 0.42344386,  0.26555394, -1.41533681],\n",
              "       [ 0.39581307, -1.64646874,  0.24104031],\n",
              "       [ 0.88581498,  0.15195119, -0.82271209],\n",
              "       [-0.24587691,  0.39139878, -1.15801831],\n",
              "       [-0.14741103, -1.22874561, -0.03110396],\n",
              "       [ 0.7161265 , -0.56781471, -0.86180345],\n",
              "       [-0.24475107,  2.39442622,  1.19337361]])"
            ]
          },
          "metadata": {
            "tags": []
          },
          "execution_count": 54
        }
      ]
    },
    {
      "cell_type": "code",
      "metadata": {
        "id": "UiHJKik6H4Fy",
        "colab_type": "code",
        "colab": {},
        "outputId": "beb8fb6e-871a-46bf-c182-fbf97248723b"
      },
      "source": [
        "MYPCA(X,3)"
      ],
      "execution_count": null,
      "outputs": [
        {
          "output_type": "execute_result",
          "data": {
            "text/plain": [
              "array([[ 0.31019368, -1.08215716, -0.07983642],\n",
              "       [ 1.28092404, -0.43132556,  0.13533091],\n",
              "       [ 1.38766381,  0.78428014, -0.12911446],\n",
              "       [ 0.95087515, -1.15737142,  1.6495519 ],\n",
              "       [ 1.84222365,  0.88189889,  0.11493111],\n",
              "       [-1.12563709, -0.52680338,  0.06564012],\n",
              "       [-2.71174416,  0.63290138,  0.71195473],\n",
              "       [-0.03100441, -0.20059783, -0.50339479],\n",
              "       [ 2.29618509,  0.07661447,  0.01087174],\n",
              "       [-0.61585248, -0.205764  ,  1.82651199],\n",
              "       [-1.73320252,  1.29971699,  0.09045178],\n",
              "       [-0.82366049, -0.57164535, -0.27123176],\n",
              "       [ 0.75619512,  0.73995175, -0.76710616],\n",
              "       [-0.42344386,  0.26555394, -1.41533681],\n",
              "       [-0.39581307, -1.64646874,  0.24104031],\n",
              "       [-0.88581498,  0.15195119, -0.82271209],\n",
              "       [ 0.24587691,  0.39139878, -1.15801831],\n",
              "       [ 0.14741103, -1.22874561, -0.03110396],\n",
              "       [-0.7161265 , -0.56781471, -0.86180345],\n",
              "       [ 0.24475107,  2.39442622,  1.19337361]])"
            ]
          },
          "metadata": {
            "tags": []
          },
          "execution_count": 55
        }
      ]
    },
    {
      "cell_type": "markdown",
      "metadata": {
        "id": "sT_dGkjSH4GD",
        "colab_type": "text"
      },
      "source": [
        "sklearn.decomposition.pca를 이용했을 때도 주성분 개수를 고려한 MYPCA 함수와 살짝 다른 값을 가짐을 알 수 있다."
      ]
    },
    {
      "cell_type": "markdown",
      "metadata": {
        "id": "qErCvOrMH4GN",
        "colab_type": "text"
      },
      "source": [
        "주성분 개수를 다르게 하면서 sklearn과 MYPCA 비교해보기"
      ]
    },
    {
      "cell_type": "code",
      "metadata": {
        "id": "EqwDI9ERH4GP",
        "colab_type": "code",
        "colab": {},
        "outputId": "7f3a0a3c-b96b-4b7a-de03-d9160c546924"
      },
      "source": [
        "pca2 = PCA(n_components=2)\n",
        "pca2.fit_transform(X_std)"
      ],
      "execution_count": null,
      "outputs": [
        {
          "output_type": "execute_result",
          "data": {
            "text/plain": [
              "array([[-0.31019368, -1.08215716],\n",
              "       [-1.28092404, -0.43132556],\n",
              "       [-1.38766381,  0.78428014],\n",
              "       [-0.95087515, -1.15737142],\n",
              "       [-1.84222365,  0.88189889],\n",
              "       [ 1.12563709, -0.52680338],\n",
              "       [ 2.71174416,  0.63290138],\n",
              "       [ 0.03100441, -0.20059783],\n",
              "       [-2.29618509,  0.07661447],\n",
              "       [ 0.61585248, -0.205764  ],\n",
              "       [ 1.73320252,  1.29971699],\n",
              "       [ 0.82366049, -0.57164535],\n",
              "       [-0.75619512,  0.73995175],\n",
              "       [ 0.42344386,  0.26555394],\n",
              "       [ 0.39581307, -1.64646874],\n",
              "       [ 0.88581498,  0.15195119],\n",
              "       [-0.24587691,  0.39139878],\n",
              "       [-0.14741103, -1.22874561],\n",
              "       [ 0.7161265 , -0.56781471],\n",
              "       [-0.24475107,  2.39442622]])"
            ]
          },
          "metadata": {
            "tags": []
          },
          "execution_count": 56
        }
      ]
    },
    {
      "cell_type": "code",
      "metadata": {
        "id": "Y7EDv8R2H4Gh",
        "colab_type": "code",
        "colab": {},
        "outputId": "000dbc05-9064-413b-9b96-38890e75f268"
      },
      "source": [
        "MYPCA(X, 2)"
      ],
      "execution_count": null,
      "outputs": [
        {
          "output_type": "execute_result",
          "data": {
            "text/plain": [
              "array([[ 0.31019368, -1.08215716],\n",
              "       [ 1.28092404, -0.43132556],\n",
              "       [ 1.38766381,  0.78428014],\n",
              "       [ 0.95087515, -1.15737142],\n",
              "       [ 1.84222365,  0.88189889],\n",
              "       [-1.12563709, -0.52680338],\n",
              "       [-2.71174416,  0.63290138],\n",
              "       [-0.03100441, -0.20059783],\n",
              "       [ 2.29618509,  0.07661447],\n",
              "       [-0.61585248, -0.205764  ],\n",
              "       [-1.73320252,  1.29971699],\n",
              "       [-0.82366049, -0.57164535],\n",
              "       [ 0.75619512,  0.73995175],\n",
              "       [-0.42344386,  0.26555394],\n",
              "       [-0.39581307, -1.64646874],\n",
              "       [-0.88581498,  0.15195119],\n",
              "       [ 0.24587691,  0.39139878],\n",
              "       [ 0.14741103, -1.22874561],\n",
              "       [-0.7161265 , -0.56781471],\n",
              "       [ 0.24475107,  2.39442622]])"
            ]
          },
          "metadata": {
            "tags": []
          },
          "execution_count": 57
        }
      ]
    },
    {
      "cell_type": "markdown",
      "metadata": {
        "id": "BKCIrH1cH4Gv",
        "colab_type": "text"
      },
      "source": [
        "함수를 잘 만든 것 같습니다! ㅎㅎ"
      ]
    }
  ]
}