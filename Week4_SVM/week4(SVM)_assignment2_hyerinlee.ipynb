{
 "cells": [
  {
   "cell_type": "markdown",
   "metadata": {
    "colab_type": "text",
    "id": "J15nU7_ONY3E"
   },
   "source": [
    "#### TOBIG'S 14기 정규세션 4주차 SVM \n",
    "### ASSIGNMENT2\n",
    "---\n",
    "\n",
    " Anomaly detection 데이터셋을 SVM을 이용해서 판별하는 과제로 여러가지 방법을 사용해서 트레이닝 해보고 결과를 비교해주면됩니다!\n",
    "\n",
    " 데이터 분포 : True : 0.17프로 나머지 다 False, \n",
    " \n",
    " Row가 약 28만행이기 때문에 data training 시간이 오래 걸립니다.그래도 자고 일어나면 트레이닝 되어있기는 하는 정도니 여유롭게 과제를 시작해주세요 :)\n",
    "\n",
    " 아직 익숙하지 않으신 분들은 멘토에게 물어보고 한 가지 방법으로만 구현해도 과제를 반려하지는 않겠습니다!"
   ]
  },
  {
   "cell_type": "code",
   "execution_count": 1,
   "metadata": {
    "colab": {},
    "colab_type": "code",
    "id": "xpWilxuDNY3F"
   },
   "outputs": [],
   "source": [
    "import numpy as np\n",
    "import pandas as pd\n",
    "import matplotlib.pyplot as plt\n",
    "import seaborn as sns\n",
    "from sklearn.svm import SVC\n",
    "from sklearn.model_selection import train_test_split\n",
    "from sklearn.pipeline import Pipeline\n",
    "from sklearn.preprocessing import StandardScaler\n",
    "from sklearn.preprocessing import RobustScaler\n",
    "from sklearn.model_selection import GridSearchCV\n",
    "from sklearn.metrics import confusion_matrix, precision_score, recall_score, f1_score"
   ]
  },
  {
   "cell_type": "markdown",
   "metadata": {},
   "source": [
    "### Data Preprocessing"
   ]
  },
  {
   "cell_type": "code",
   "execution_count": 2,
   "metadata": {
    "colab": {},
    "colab_type": "code",
    "id": "DEJCvtOeNY3J"
   },
   "outputs": [
    {
     "name": "stdout",
     "output_type": "stream",
     "text": [
      "Index(['Time', 'V1', 'V2', 'V3', 'V4', 'V5', 'V6', 'V7', 'V8', 'V9', 'V10',\n",
      "       'V11', 'V12', 'V13', 'V14', 'V15', 'V16', 'V17', 'V18', 'V19', 'V20',\n",
      "       'V21', 'V22', 'V23', 'V24', 'V25', 'V26', 'V27', 'V28', 'Amount',\n",
      "       'Class'],\n",
      "      dtype='object')\n"
     ]
    }
   ],
   "source": [
    "# Anomaly detection(사기감지 데이터) 로드\n",
    "data = pd.read_csv('creditcard.csv')\n",
    "print(data.columns)"
   ]
  },
  {
   "cell_type": "code",
   "execution_count": 3,
   "metadata": {},
   "outputs": [
    {
     "data": {
      "text/plain": [
       "(284806, 31)"
      ]
     },
     "execution_count": 3,
     "metadata": {},
     "output_type": "execute_result"
    }
   ],
   "source": [
    "data.shape"
   ]
  },
  {
   "cell_type": "code",
   "execution_count": 4,
   "metadata": {},
   "outputs": [
    {
     "name": "stdout",
     "output_type": "stream",
     "text": [
      "<class 'pandas.core.frame.DataFrame'>\n",
      "RangeIndex: 284806 entries, 0 to 284805\n",
      "Data columns (total 31 columns):\n",
      " #   Column  Non-Null Count   Dtype  \n",
      "---  ------  --------------   -----  \n",
      " 0   Time    284806 non-null  float64\n",
      " 1   V1      284806 non-null  float64\n",
      " 2   V2      284806 non-null  float64\n",
      " 3   V3      284806 non-null  float64\n",
      " 4   V4      284806 non-null  float64\n",
      " 5   V5      284806 non-null  float64\n",
      " 6   V6      284806 non-null  float64\n",
      " 7   V7      284806 non-null  float64\n",
      " 8   V8      284806 non-null  float64\n",
      " 9   V9      284806 non-null  float64\n",
      " 10  V10     284806 non-null  float64\n",
      " 11  V11     284806 non-null  float64\n",
      " 12  V12     284806 non-null  float64\n",
      " 13  V13     284806 non-null  float64\n",
      " 14  V14     284806 non-null  float64\n",
      " 15  V15     284806 non-null  float64\n",
      " 16  V16     284806 non-null  float64\n",
      " 17  V17     284806 non-null  float64\n",
      " 18  V18     284806 non-null  float64\n",
      " 19  V19     284806 non-null  float64\n",
      " 20  V20     284806 non-null  float64\n",
      " 21  V21     284806 non-null  float64\n",
      " 22  V22     284806 non-null  float64\n",
      " 23  V23     284806 non-null  float64\n",
      " 24  V24     284806 non-null  float64\n",
      " 25  V25     284806 non-null  float64\n",
      " 26  V26     284806 non-null  float64\n",
      " 27  V27     284806 non-null  float64\n",
      " 28  V28     284806 non-null  float64\n",
      " 29  Amount  284806 non-null  float64\n",
      " 30  Class   284806 non-null  int64  \n",
      "dtypes: float64(30), int64(1)\n",
      "memory usage: 67.4 MB\n"
     ]
    }
   ],
   "source": [
    "data.info()"
   ]
  },
  {
   "cell_type": "code",
   "execution_count": 5,
   "metadata": {},
   "outputs": [
    {
     "data": {
      "text/plain": [
       "Time      0\n",
       "V1        0\n",
       "V2        0\n",
       "V3        0\n",
       "V4        0\n",
       "V5        0\n",
       "V6        0\n",
       "V7        0\n",
       "V8        0\n",
       "V9        0\n",
       "V10       0\n",
       "V11       0\n",
       "V12       0\n",
       "V13       0\n",
       "V14       0\n",
       "V15       0\n",
       "V16       0\n",
       "V17       0\n",
       "V18       0\n",
       "V19       0\n",
       "V20       0\n",
       "V21       0\n",
       "V22       0\n",
       "V23       0\n",
       "V24       0\n",
       "V25       0\n",
       "V26       0\n",
       "V27       0\n",
       "V28       0\n",
       "Amount    0\n",
       "Class     0\n",
       "dtype: int64"
      ]
     },
     "execution_count": 5,
     "metadata": {},
     "output_type": "execute_result"
    }
   ],
   "source": [
    "data.isnull().sum()"
   ]
  },
  {
   "cell_type": "markdown",
   "metadata": {},
   "source": [
    "결측치는 없는 것으로 확인된다."
   ]
  },
  {
   "cell_type": "markdown",
   "metadata": {},
   "source": [
    "#### 데이터 분포"
   ]
  },
  {
   "cell_type": "code",
   "execution_count": 6,
   "metadata": {},
   "outputs": [
    {
     "data": {
      "text/plain": [
       "(0.0, 25691.16)"
      ]
     },
     "execution_count": 6,
     "metadata": {},
     "output_type": "execute_result"
    },
    {
     "data": {
      "image/png": "[encoded data removed]",
      "text/plain": [
       "<Figure size 432x288 with 1 Axes>"
      ]
     },
     "metadata": {
      "needs_background": "light"
     },
     "output_type": "display_data"
    }
   ],
   "source": [
    "ax = plt.subplots()\n",
    "ax = sns.distplot(data['Amount'].values, color='r')\n",
    "ax.set_title('Distribution of Transaction Amount', fontsize=14)\n",
    "ax.set_xlim([min(data['Amount'].values), max(data['Amount'].values)])"
   ]
  },
  {
   "cell_type": "markdown",
   "metadata": {},
   "source": [
    "분포가 상당히 오른쪽으로 치우쳐져 있다. 이상치가 존재한다고 볼수도 있다."
   ]
  },
  {
   "cell_type": "code",
   "execution_count": 7,
   "metadata": {},
   "outputs": [
    {
     "data": {
      "text/plain": [
       "(0.0, 172788.0)"
      ]
     },
     "execution_count": 7,
     "metadata": {},
     "output_type": "execute_result"
    },
    {
     "data": {
      "image/png": "[encoded data removed]",
      "text/plain": [
       "<Figure size 432x288 with 1 Axes>"
      ]
     },
     "metadata": {
      "needs_background": "light"
     },
     "output_type": "display_data"
    }
   ],
   "source": [
    "ax = plt.subplots()\n",
    "ax = sns.distplot(data['Time'].values, color='b')\n",
    "ax.set_title('Distribution of Transaction Time', fontsize=14)\n",
    "ax.set_xlim([min(data['Time'].values), max(data['Time'].values)])"
   ]
  },
  {
   "cell_type": "code",
   "execution_count": 8,
   "metadata": {},
   "outputs": [
    {
     "data": {
      "text/plain": [
       "0    284314\n",
       "1       492\n",
       "Name: Class, dtype: int64"
      ]
     },
     "execution_count": 8,
     "metadata": {},
     "output_type": "execute_result"
    }
   ],
   "source": [
    "data['Class'].value_counts() # imbalanced data임을 알 수 있다."
   ]
  },
  {
   "cell_type": "code",
   "execution_count": 9,
   "metadata": {},
   "outputs": [
    {
     "data": {
      "image/png": "[encoded data removed]",
      "text/plain": [
       "<Figure size 432x288 with 1 Axes>"
      ]
     },
     "metadata": {
      "needs_background": "light"
     },
     "output_type": "display_data"
    }
   ],
   "source": [
    "sns.countplot('Class', data=data, palette = 'husl')\n",
    "plt.title('Unbalanced Distribution of Classes \\n (0 : Not Fraud | 1 : Fraud)', fontsize=14)\n",
    "plt.show()"
   ]
  },
  {
   "cell_type": "markdown",
   "metadata": {},
   "source": [
    "이 데이터는 매우 imbalanced한 데이터이다. 이럴 때는 minority를 oversampling 하는 방법과 majority를 undersampling 하는 방법이 있는데,  \n",
    "나는 두번째 방법을 선택한다. (oversampling은 없는 데이터를 있게 만들어야 하기 때문이다.)"
   ]
  },
  {
   "cell_type": "code",
   "execution_count": 11,
   "metadata": {},
   "outputs": [
    {
     "data": {
      "text/plain": [
       "1    492\n",
       "0    492\n",
       "Name: Class, dtype: int64"
      ]
     },
     "execution_count": 11,
     "metadata": {},
     "output_type": "execute_result"
    }
   ],
   "source": [
    "from sklearn.utils import resample,shuffle\n",
    "data_majority = data[data['Class']==0]\n",
    "data_minority = data[data['Class']==1]\n",
    "data_majority_downsampled = resample(data_majority,replace=False,n_samples=492,random_state = 123) \n",
    "#492 = 기존 데이터셋의 minority 개수\n",
    "dat = pd.concat([data_minority,data_majority_downsampled])\n",
    "dat = shuffle(dat)\n",
    "dat.Class.value_counts() ## balanced 한 dataset = dat"
   ]
  },
  {
   "cell_type": "code",
   "execution_count": 12,
   "metadata": {},
   "outputs": [
    {
     "name": "stdout",
     "output_type": "stream",
     "text": [
      "(984, 31)\n"
     ]
    }
   ],
   "source": [
    "print(dat.shape)"
   ]
  },
  {
   "cell_type": "code",
   "execution_count": 13,
   "metadata": {},
   "outputs": [
    {
     "data": {
      "image/png": "[encoded data removed]",
      "text/plain": [
       "<Figure size 432x288 with 1 Axes>"
      ]
     },
     "metadata": {
      "needs_background": "light"
     },
     "output_type": "display_data"
    }
   ],
   "source": [
    "sns.countplot('Class', data=dat, palette='husl')\n",
    "plt.title('Balanced Distribution of Classes \\n (0 : Not Fraud | 1 : Fraud)', fontsize=14)\n",
    "plt.show()"
   ]
  },
  {
   "cell_type": "markdown",
   "metadata": {},
   "source": [
    "balance한 dataset `dat`를 생성했다."
   ]
  },
  {
   "cell_type": "code",
   "execution_count": 14,
   "metadata": {},
   "outputs": [
    {
     "data": {
      "text/plain": [
       "(0.0, 2125.87)"
      ]
     },
     "execution_count": 14,
     "metadata": {},
     "output_type": "execute_result"
    },
    {
     "data": {
      "image/png": "[encoded data removed]",
      "text/plain": [
       "<Figure size 432x288 with 1 Axes>"
      ]
     },
     "metadata": {
      "needs_background": "light"
     },
     "output_type": "display_data"
    }
   ],
   "source": [
    "ax = plt.subplots()\n",
    "ax = sns.distplot(dat['Amount'].values, color='r')\n",
    "ax.set_title('Distribution of Transaction Amount', fontsize=14)\n",
    "ax.set_xlim([min(dat['Amount'].values), max(dat['Amount'].values)])"
   ]
  },
  {
   "cell_type": "markdown",
   "metadata": {},
   "source": [
    "Unbalanced Data에서는 max가 거의 25000이었던 반면에, 지금은 2000정도이며 덕분에 왼쪽으로 많이 분포가 치우쳤던 것이 완화되었다."
   ]
  },
  {
   "cell_type": "code",
   "execution_count": 15,
   "metadata": {},
   "outputs": [
    {
     "data": {
      "text/plain": [
       "(406.0, 172648.0)"
      ]
     },
     "execution_count": 15,
     "metadata": {},
     "output_type": "execute_result"
    },
    {
     "data": {
      "image/png": "[encoded data removed]",
      "text/plain": [
       "<Figure size 432x288 with 1 Axes>"
      ]
     },
     "metadata": {
      "needs_background": "light"
     },
     "output_type": "display_data"
    }
   ],
   "source": [
    "ax = plt.subplots()\n",
    "ax = sns.distplot(dat['Time'].values, color='b')\n",
    "ax.set_title('Distribution of Transaction Time', fontsize=14)\n",
    "ax.set_xlim([min(dat['Time'].values), max(dat['Time'].values)])"
   ]
  },
  {
   "cell_type": "markdown",
   "metadata": {},
   "source": [
    "#### 상관관계 분석"
   ]
  },
  {
   "cell_type": "code",
   "execution_count": 30,
   "metadata": {},
   "outputs": [
    {
     "data": {
      "text/plain": [
       "Text(0.5, 1, 'Heatmap of Unbalanced Data')"
      ]
     },
     "execution_count": 30,
     "metadata": {},
     "output_type": "execute_result"
    },
    {
     "data": {
      "image/png": "[encoded data removed]",
      "text/plain": [
       "<Figure size 1080x864 with 2 Axes>"
      ]
     },
     "metadata": {
      "needs_background": "light"
     },
     "output_type": "display_data"
    }
   ],
   "source": [
    "ax = plt.subplots(figsize=(15,12))\n",
    "ax = sns.heatmap(data.corr(), cmap='coolwarm_r')\n",
    "ax.set_title('Heatmap of Unbalanced Data', fontsize=14)"
   ]
  },
  {
   "cell_type": "code",
   "execution_count": 31,
   "metadata": {},
   "outputs": [
    {
     "data": {
      "text/plain": [
       "Text(0.5, 1, 'Heatmap of Balanced Data(Sub_Sample)')"
      ]
     },
     "execution_count": 31,
     "metadata": {},
     "output_type": "execute_result"
    },
    {
     "data": {
      "image/png": "[encoded data removed]",
      "text/plain": [
       "<Figure size 1080x864 with 2 Axes>"
      ]
     },
     "metadata": {
      "needs_background": "light"
     },
     "output_type": "display_data"
    }
   ],
   "source": [
    "ax = plt.subplots(figsize=(15,12))\n",
    "ax = sns.heatmap(dat.corr(), cmap='coolwarm_r')\n",
    "ax.set_title('Heatmap of Balanced Data(Sub_Sample)', fontsize=14)"
   ]
  },
  {
   "cell_type": "markdown",
   "metadata": {},
   "source": [
    "기존 데이터셋이 284806개의 obs를 가졌던 반면, under sampling한 데이터셋은 984개의 obs를 가진다.  \n",
    "이는 많은 양의 정보가 손실된다는 단점이 있다.  \n",
    "그러나 확실히 Balanced data가 분석하기에 더 적합한 것은 틀림없다.  \n",
    "target variable인 `Class`와 두드러지게 상관관계가 큰 독립변수들이 생겨나기 때문이다. (의미를 더 확실히 해석할 수 있다.)"
   ]
  },
  {
   "cell_type": "markdown",
   "metadata": {},
   "source": [
    "#### 이상치 처리  \n",
    "  \n",
    "변수의 개수가 굉장히 많으므로 target variable `Class`와 상관관계가 높은 `V2`, `V4`, `V11` 의 분포를 우선적으로 확인한다."
   ]
  },
  {
   "cell_type": "code",
   "execution_count": 18,
   "metadata": {},
   "outputs": [
    {
     "data": {
      "text/plain": [
       "Text(0.5, 1.0, 'Distribution of V11')"
      ]
     },
     "execution_count": 18,
     "metadata": {},
     "output_type": "execute_result"
    },
    {
     "data": {
      "image/png": "[encoded data removed]",
      "text/plain": [
       "<Figure size 864x360 with 3 Axes>"
      ]
     },
     "metadata": {
      "needs_background": "light"
     },
     "output_type": "display_data"
    }
   ],
   "source": [
    "fig, (ax1, ax2, ax3) = plt.subplots(1,3, figsize=(12,5))\n",
    "sns.distplot(dat['V2'].values, color='r', ax=ax1)\n",
    "ax1.set_title('Distribution of V2', fontsize=14)\n",
    "\n",
    "sns.distplot(dat['V4'].values, color='b', ax=ax2)\n",
    "ax2.set_title('Distribution of V4', fontsize=14)\n",
    "\n",
    "sns.distplot(dat['V11'].values, color='g', ax=ax3)\n",
    "ax3.set_title('Distribution of V11', fontsize=14)"
   ]
  },
  {
   "cell_type": "markdown",
   "metadata": {},
   "source": [
    "그닥 이상치는 없어보인다."
   ]
  },
  {
   "cell_type": "markdown",
   "metadata": {},
   "source": [
    "#### Data Split"
   ]
  },
  {
   "cell_type": "code",
   "execution_count": 19,
   "metadata": {},
   "outputs": [],
   "source": [
    "X = dat.drop(['Class'], axis=1)\n",
    "y = dat['Class']"
   ]
  },
  {
   "cell_type": "code",
   "execution_count": 20,
   "metadata": {},
   "outputs": [],
   "source": [
    "X_train, X_test, y_train, y_test = train_test_split(X, y, train_size = 0.8, random_state = 156)"
   ]
  },
  {
   "cell_type": "markdown",
   "metadata": {},
   "source": [
    "scaling하기 전에 미리 train data와 test data를 구분해준다."
   ]
  },
  {
   "cell_type": "markdown",
   "metadata": {},
   "source": [
    "### Data Modeling"
   ]
  },
  {
   "cell_type": "markdown",
   "metadata": {},
   "source": [
    "거리를 이용하는 모델은 데이터를 scaling 해주는 것이 좋다. 앞에서 볼 수 있듯이, 큰 이상치는 없었으나 혹시 모를 상황을 대비해 이상치의 영향을 최소화 해주는 Robust Scaling을 사용한다."
   ]
  },
  {
   "cell_type": "code",
   "execution_count": 21,
   "metadata": {},
   "outputs": [],
   "source": [
    "scaler1 = RobustScaler()\n",
    "X_train_s = scaler1.fit_transform(X_train) # train data로 훈련, transform\n",
    "X_test_s = scaler1.transform(X_test) # train data로 훈련된 scaler에 그대로 transform"
   ]
  },
  {
   "cell_type": "code",
   "execution_count": 22,
   "metadata": {},
   "outputs": [
    {
     "name": "stdout",
     "output_type": "stream",
     "text": [
      "Fitting 3 folds for each of 100 candidates, totalling 300 fits\n",
      "[CV] C=1, gamma=scale, kernel=sigmoid ................................\n",
      "[CV] .... C=1, gamma=scale, kernel=sigmoid, score=0.820, total=   0.1s\n",
      "[CV] C=1, gamma=scale, kernel=sigmoid ................................\n"
     ]
    },
    {
     "name": "stderr",
     "output_type": "stream",
     "text": [
      "[Parallel(n_jobs=1)]: Using backend SequentialBackend with 1 concurrent workers.\n",
      "[Parallel(n_jobs=1)]: Done   1 out of   1 | elapsed:    0.0s remaining:    0.0s\n",
      "[Parallel(n_jobs=1)]: Done   2 out of   2 | elapsed:    0.0s remaining:    0.0s\n"
     ]
    },
    {
     "name": "stdout",
     "output_type": "stream",
     "text": [
      "[CV] .... C=1, gamma=scale, kernel=sigmoid, score=0.842, total=   0.1s\n",
      "[CV] C=1, gamma=scale, kernel=sigmoid ................................\n",
      "[CV] .... C=1, gamma=scale, kernel=sigmoid, score=0.833, total=   0.1s\n",
      "[CV] C=1, gamma=scale, kernel=rbf ....................................\n",
      "[CV] ........ C=1, gamma=scale, kernel=rbf, score=0.887, total=   0.1s\n",
      "[CV] C=1, gamma=scale, kernel=rbf ....................................\n",
      "[CV] ........ C=1, gamma=scale, kernel=rbf, score=0.880, total=   0.1s\n",
      "[CV] C=1, gamma=scale, kernel=rbf ....................................\n",
      "[CV] ........ C=1, gamma=scale, kernel=rbf, score=0.833, total=   0.1s\n",
      "[CV] C=1, gamma=auto, kernel=sigmoid .................................\n",
      "[CV] ..... C=1, gamma=auto, kernel=sigmoid, score=0.782, total=   0.0s\n",
      "[CV] C=1, gamma=auto, kernel=sigmoid .................................\n",
      "[CV] ..... C=1, gamma=auto, kernel=sigmoid, score=0.865, total=   0.0s\n",
      "[CV] C=1, gamma=auto, kernel=sigmoid .................................\n",
      "[CV] ..... C=1, gamma=auto, kernel=sigmoid, score=0.788, total=   0.0s\n",
      "[CV] C=1, gamma=auto, kernel=rbf .....................................\n",
      "[CV] ......... C=1, gamma=auto, kernel=rbf, score=0.887, total=   0.0s\n",
      "[CV] C=1, gamma=auto, kernel=rbf .....................................\n",
      "[CV] ......... C=1, gamma=auto, kernel=rbf, score=0.910, total=   0.1s\n",
      "[CV] C=1, gamma=auto, kernel=rbf .....................................\n",
      "[CV] ......... C=1, gamma=auto, kernel=rbf, score=0.879, total=   0.1s\n",
      "[CV] C=2, gamma=scale, kernel=sigmoid ................................\n",
      "[CV] .... C=2, gamma=scale, kernel=sigmoid, score=0.820, total=   0.0s\n",
      "[CV] C=2, gamma=scale, kernel=sigmoid ................................\n",
      "[CV] .... C=2, gamma=scale, kernel=sigmoid, score=0.842, total=   0.1s\n",
      "[CV] C=2, gamma=scale, kernel=sigmoid ................................\n",
      "[CV] .... C=2, gamma=scale, kernel=sigmoid, score=0.879, total=   0.1s\n",
      "[CV] C=2, gamma=scale, kernel=rbf ....................................\n",
      "[CV] ........ C=2, gamma=scale, kernel=rbf, score=0.880, total=   0.1s\n",
      "[CV] C=2, gamma=scale, kernel=rbf ....................................\n",
      "[CV] ........ C=2, gamma=scale, kernel=rbf, score=0.895, total=   0.1s\n",
      "[CV] C=2, gamma=scale, kernel=rbf ....................................\n",
      "[CV] ........ C=2, gamma=scale, kernel=rbf, score=0.879, total=   0.2s\n",
      "[CV] C=2, gamma=auto, kernel=sigmoid .................................\n",
      "[CV] ..... C=2, gamma=auto, kernel=sigmoid, score=0.767, total=   0.1s\n",
      "[CV] C=2, gamma=auto, kernel=sigmoid .................................\n",
      "[CV] ..... C=2, gamma=auto, kernel=sigmoid, score=0.865, total=   0.1s\n",
      "[CV] C=2, gamma=auto, kernel=sigmoid .................................\n",
      "[CV] ..... C=2, gamma=auto, kernel=sigmoid, score=0.811, total=   0.1s\n",
      "[CV] C=2, gamma=auto, kernel=rbf .....................................\n",
      "[CV] ......... C=2, gamma=auto, kernel=rbf, score=0.887, total=   0.1s\n",
      "[CV] C=2, gamma=auto, kernel=rbf .....................................\n",
      "[CV] ......... C=2, gamma=auto, kernel=rbf, score=0.925, total=   0.1s\n",
      "[CV] C=2, gamma=auto, kernel=rbf .....................................\n",
      "[CV] ......... C=2, gamma=auto, kernel=rbf, score=0.909, total=   0.1s\n",
      "[CV] C=3, gamma=scale, kernel=sigmoid ................................\n",
      "[CV] .... C=3, gamma=scale, kernel=sigmoid, score=0.827, total=   0.1s\n",
      "[CV] C=3, gamma=scale, kernel=sigmoid ................................\n",
      "[CV] .... C=3, gamma=scale, kernel=sigmoid, score=0.850, total=   0.1s\n",
      "[CV] C=3, gamma=scale, kernel=sigmoid ................................\n",
      "[CV] .... C=3, gamma=scale, kernel=sigmoid, score=0.871, total=   0.1s\n",
      "[CV] C=3, gamma=scale, kernel=rbf ....................................\n",
      "[CV] ........ C=3, gamma=scale, kernel=rbf, score=0.887, total=   0.1s\n",
      "[CV] C=3, gamma=scale, kernel=rbf ....................................\n",
      "[CV] ........ C=3, gamma=scale, kernel=rbf, score=0.917, total=   0.1s\n",
      "[CV] C=3, gamma=scale, kernel=rbf ....................................\n",
      "[CV] ........ C=3, gamma=scale, kernel=rbf, score=0.886, total=   0.1s\n",
      "[CV] C=3, gamma=auto, kernel=sigmoid .................................\n",
      "[CV] ..... C=3, gamma=auto, kernel=sigmoid, score=0.767, total=   0.1s\n",
      "[CV] C=3, gamma=auto, kernel=sigmoid .................................\n",
      "[CV] ..... C=3, gamma=auto, kernel=sigmoid, score=0.857, total=   0.1s\n",
      "[CV] C=3, gamma=auto, kernel=sigmoid .................................\n",
      "[CV] ..... C=3, gamma=auto, kernel=sigmoid, score=0.811, total=   0.0s\n",
      "[CV] C=3, gamma=auto, kernel=rbf .....................................\n",
      "[CV] ......... C=3, gamma=auto, kernel=rbf, score=0.887, total=   0.1s\n",
      "[CV] C=3, gamma=auto, kernel=rbf .....................................\n",
      "[CV] ......... C=3, gamma=auto, kernel=rbf, score=0.925, total=   0.0s\n",
      "[CV] C=3, gamma=auto, kernel=rbf .....................................\n",
      "[CV] ......... C=3, gamma=auto, kernel=rbf, score=0.917, total=   0.0s\n",
      "[CV] C=4, gamma=scale, kernel=sigmoid ................................\n",
      "[CV] .... C=4, gamma=scale, kernel=sigmoid, score=0.850, total=   0.0s\n",
      "[CV] C=4, gamma=scale, kernel=sigmoid ................................\n",
      "[CV] .... C=4, gamma=scale, kernel=sigmoid, score=0.850, total=   0.0s\n",
      "[CV] C=4, gamma=scale, kernel=sigmoid ................................\n",
      "[CV] .... C=4, gamma=scale, kernel=sigmoid, score=0.894, total=   0.0s\n",
      "[CV] C=4, gamma=scale, kernel=rbf ....................................\n",
      "[CV] ........ C=4, gamma=scale, kernel=rbf, score=0.887, total=   0.0s\n",
      "[CV] C=4, gamma=scale, kernel=rbf ....................................\n",
      "[CV] ........ C=4, gamma=scale, kernel=rbf, score=0.917, total=   0.1s\n",
      "[CV] C=4, gamma=scale, kernel=rbf ....................................\n",
      "[CV] ........ C=4, gamma=scale, kernel=rbf, score=0.894, total=   0.0s\n",
      "[CV] C=4, gamma=auto, kernel=sigmoid .................................\n",
      "[CV] ..... C=4, gamma=auto, kernel=sigmoid, score=0.805, total=   0.0s\n",
      "[CV] C=4, gamma=auto, kernel=sigmoid .................................\n",
      "[CV] ..... C=4, gamma=auto, kernel=sigmoid, score=0.865, total=   0.0s\n",
      "[CV] C=4, gamma=auto, kernel=sigmoid .................................\n",
      "[CV] ..... C=4, gamma=auto, kernel=sigmoid, score=0.803, total=   0.0s\n",
      "[CV] C=4, gamma=auto, kernel=rbf .....................................\n",
      "[CV] ......... C=4, gamma=auto, kernel=rbf, score=0.887, total=   0.1s\n",
      "[CV] C=4, gamma=auto, kernel=rbf .....................................\n",
      "[CV] ......... C=4, gamma=auto, kernel=rbf, score=0.932, total=   0.1s\n",
      "[CV] C=4, gamma=auto, kernel=rbf .....................................\n",
      "[CV] ......... C=4, gamma=auto, kernel=rbf, score=0.917, total=   0.1s\n",
      "[CV] C=5, gamma=scale, kernel=sigmoid ................................\n",
      "[CV] .... C=5, gamma=scale, kernel=sigmoid, score=0.805, total=   0.0s\n",
      "[CV] C=5, gamma=scale, kernel=sigmoid ................................\n",
      "[CV] .... C=5, gamma=scale, kernel=sigmoid, score=0.850, total=   0.0s\n",
      "[CV] C=5, gamma=scale, kernel=sigmoid ................................\n",
      "[CV] .... C=5, gamma=scale, kernel=sigmoid, score=0.871, total=   0.0s\n",
      "[CV] C=5, gamma=scale, kernel=rbf ....................................\n",
      "[CV] ........ C=5, gamma=scale, kernel=rbf, score=0.887, total=   0.0s\n",
      "[CV] C=5, gamma=scale, kernel=rbf ....................................\n",
      "[CV] ........ C=5, gamma=scale, kernel=rbf, score=0.917, total=   0.1s\n",
      "[CV] C=5, gamma=scale, kernel=rbf ....................................\n",
      "[CV] ........ C=5, gamma=scale, kernel=rbf, score=0.902, total=   0.0s\n",
      "[CV] C=5, gamma=auto, kernel=sigmoid .................................\n",
      "[CV] ..... C=5, gamma=auto, kernel=sigmoid, score=0.805, total=   0.0s\n",
      "[CV] C=5, gamma=auto, kernel=sigmoid .................................\n",
      "[CV] ..... C=5, gamma=auto, kernel=sigmoid, score=0.857, total=   0.0s\n",
      "[CV] C=5, gamma=auto, kernel=sigmoid .................................\n",
      "[CV] ..... C=5, gamma=auto, kernel=sigmoid, score=0.795, total=   0.0s\n",
      "[CV] C=5, gamma=auto, kernel=rbf .....................................\n",
      "[CV] ......... C=5, gamma=auto, kernel=rbf, score=0.895, total=   0.0s\n",
      "[CV] C=5, gamma=auto, kernel=rbf .....................................\n",
      "[CV] ......... C=5, gamma=auto, kernel=rbf, score=0.940, total=   0.0s\n",
      "[CV] C=5, gamma=auto, kernel=rbf .....................................\n"
     ]
    },
    {
     "name": "stdout",
     "output_type": "stream",
     "text": [
      "[CV] ......... C=5, gamma=auto, kernel=rbf, score=0.932, total=   0.0s\n",
      "[CV] C=6, gamma=scale, kernel=sigmoid ................................\n",
      "[CV] .... C=6, gamma=scale, kernel=sigmoid, score=0.805, total=   0.0s\n",
      "[CV] C=6, gamma=scale, kernel=sigmoid ................................\n",
      "[CV] .... C=6, gamma=scale, kernel=sigmoid, score=0.865, total=   0.0s\n",
      "[CV] C=6, gamma=scale, kernel=sigmoid ................................\n",
      "[CV] .... C=6, gamma=scale, kernel=sigmoid, score=0.879, total=   0.0s\n",
      "[CV] C=6, gamma=scale, kernel=rbf ....................................\n",
      "[CV] ........ C=6, gamma=scale, kernel=rbf, score=0.887, total=   0.0s\n",
      "[CV] C=6, gamma=scale, kernel=rbf ....................................\n",
      "[CV] ........ C=6, gamma=scale, kernel=rbf, score=0.917, total=   0.0s\n",
      "[CV] C=6, gamma=scale, kernel=rbf ....................................\n",
      "[CV] ........ C=6, gamma=scale, kernel=rbf, score=0.902, total=   0.0s\n",
      "[CV] C=6, gamma=auto, kernel=sigmoid .................................\n",
      "[CV] ..... C=6, gamma=auto, kernel=sigmoid, score=0.805, total=   0.0s\n",
      "[CV] C=6, gamma=auto, kernel=sigmoid .................................\n",
      "[CV] ..... C=6, gamma=auto, kernel=sigmoid, score=0.865, total=   0.0s\n",
      "[CV] C=6, gamma=auto, kernel=sigmoid .................................\n",
      "[CV] ..... C=6, gamma=auto, kernel=sigmoid, score=0.795, total=   0.0s\n",
      "[CV] C=6, gamma=auto, kernel=rbf .....................................\n",
      "[CV] ......... C=6, gamma=auto, kernel=rbf, score=0.895, total=   0.0s\n",
      "[CV] C=6, gamma=auto, kernel=rbf .....................................\n",
      "[CV] ......... C=6, gamma=auto, kernel=rbf, score=0.940, total=   0.0s\n",
      "[CV] C=6, gamma=auto, kernel=rbf .....................................\n",
      "[CV] ......... C=6, gamma=auto, kernel=rbf, score=0.932, total=   0.0s\n",
      "[CV] C=7, gamma=scale, kernel=sigmoid ................................\n",
      "[CV] .... C=7, gamma=scale, kernel=sigmoid, score=0.850, total=   0.0s\n",
      "[CV] C=7, gamma=scale, kernel=sigmoid ................................\n",
      "[CV] .... C=7, gamma=scale, kernel=sigmoid, score=0.865, total=   0.0s\n",
      "[CV] C=7, gamma=scale, kernel=sigmoid ................................\n",
      "[CV] .... C=7, gamma=scale, kernel=sigmoid, score=0.886, total=   0.0s\n",
      "[CV] C=7, gamma=scale, kernel=rbf ....................................\n",
      "[CV] ........ C=7, gamma=scale, kernel=rbf, score=0.887, total=   0.0s\n",
      "[CV] C=7, gamma=scale, kernel=rbf ....................................\n",
      "[CV] ........ C=7, gamma=scale, kernel=rbf, score=0.932, total=   0.0s\n",
      "[CV] C=7, gamma=scale, kernel=rbf ....................................\n",
      "[CV] ........ C=7, gamma=scale, kernel=rbf, score=0.909, total=   0.0s\n",
      "[CV] C=7, gamma=auto, kernel=sigmoid .................................\n",
      "[CV] ..... C=7, gamma=auto, kernel=sigmoid, score=0.797, total=   0.0s\n",
      "[CV] C=7, gamma=auto, kernel=sigmoid .................................\n",
      "[CV] ..... C=7, gamma=auto, kernel=sigmoid, score=0.865, total=   0.0s\n",
      "[CV] C=7, gamma=auto, kernel=sigmoid .................................\n",
      "[CV] ..... C=7, gamma=auto, kernel=sigmoid, score=0.803, total=   0.0s\n",
      "[CV] C=7, gamma=auto, kernel=rbf .....................................\n",
      "[CV] ......... C=7, gamma=auto, kernel=rbf, score=0.902, total=   0.0s\n",
      "[CV] C=7, gamma=auto, kernel=rbf .....................................\n",
      "[CV] ......... C=7, gamma=auto, kernel=rbf, score=0.940, total=   0.0s\n",
      "[CV] C=7, gamma=auto, kernel=rbf .....................................\n",
      "[CV] ......... C=7, gamma=auto, kernel=rbf, score=0.932, total=   0.0s\n",
      "[CV] C=8, gamma=scale, kernel=sigmoid ................................\n",
      "[CV] .... C=8, gamma=scale, kernel=sigmoid, score=0.820, total=   0.0s\n",
      "[CV] C=8, gamma=scale, kernel=sigmoid ................................\n",
      "[CV] .... C=8, gamma=scale, kernel=sigmoid, score=0.857, total=   0.0s\n",
      "[CV] C=8, gamma=scale, kernel=sigmoid ................................\n",
      "[CV] .... C=8, gamma=scale, kernel=sigmoid, score=0.879, total=   0.0s\n",
      "[CV] C=8, gamma=scale, kernel=rbf ....................................\n",
      "[CV] ........ C=8, gamma=scale, kernel=rbf, score=0.887, total=   0.0s\n",
      "[CV] C=8, gamma=scale, kernel=rbf ....................................\n",
      "[CV] ........ C=8, gamma=scale, kernel=rbf, score=0.932, total=   0.0s\n",
      "[CV] C=8, gamma=scale, kernel=rbf ....................................\n",
      "[CV] ........ C=8, gamma=scale, kernel=rbf, score=0.909, total=   0.0s\n",
      "[CV] C=8, gamma=auto, kernel=sigmoid .................................\n",
      "[CV] ..... C=8, gamma=auto, kernel=sigmoid, score=0.805, total=   0.0s\n",
      "[CV] C=8, gamma=auto, kernel=sigmoid .................................\n",
      "[CV] ..... C=8, gamma=auto, kernel=sigmoid, score=0.865, total=   0.0s\n",
      "[CV] C=8, gamma=auto, kernel=sigmoid .................................\n",
      "[CV] ..... C=8, gamma=auto, kernel=sigmoid, score=0.795, total=   0.0s\n",
      "[CV] C=8, gamma=auto, kernel=rbf .....................................\n",
      "[CV] ......... C=8, gamma=auto, kernel=rbf, score=0.895, total=   0.0s\n",
      "[CV] C=8, gamma=auto, kernel=rbf .....................................\n",
      "[CV] ......... C=8, gamma=auto, kernel=rbf, score=0.940, total=   0.0s\n",
      "[CV] C=8, gamma=auto, kernel=rbf .....................................\n",
      "[CV] ......... C=8, gamma=auto, kernel=rbf, score=0.932, total=   0.0s\n",
      "[CV] C=9, gamma=scale, kernel=sigmoid ................................\n",
      "[CV] .... C=9, gamma=scale, kernel=sigmoid, score=0.820, total=   0.0s\n",
      "[CV] C=9, gamma=scale, kernel=sigmoid ................................\n",
      "[CV] .... C=9, gamma=scale, kernel=sigmoid, score=0.857, total=   0.0s\n",
      "[CV] C=9, gamma=scale, kernel=sigmoid ................................\n",
      "[CV] .... C=9, gamma=scale, kernel=sigmoid, score=0.886, total=   0.0s\n",
      "[CV] C=9, gamma=scale, kernel=rbf ....................................\n",
      "[CV] ........ C=9, gamma=scale, kernel=rbf, score=0.887, total=   0.0s\n",
      "[CV] C=9, gamma=scale, kernel=rbf ....................................\n",
      "[CV] ........ C=9, gamma=scale, kernel=rbf, score=0.932, total=   0.0s\n",
      "[CV] C=9, gamma=scale, kernel=rbf ....................................\n",
      "[CV] ........ C=9, gamma=scale, kernel=rbf, score=0.909, total=   0.0s\n",
      "[CV] C=9, gamma=auto, kernel=sigmoid .................................\n",
      "[CV] ..... C=9, gamma=auto, kernel=sigmoid, score=0.805, total=   0.0s\n",
      "[CV] C=9, gamma=auto, kernel=sigmoid .................................\n",
      "[CV] ..... C=9, gamma=auto, kernel=sigmoid, score=0.842, total=   0.0s\n",
      "[CV] C=9, gamma=auto, kernel=sigmoid .................................\n",
      "[CV] ..... C=9, gamma=auto, kernel=sigmoid, score=0.803, total=   0.0s\n",
      "[CV] C=9, gamma=auto, kernel=rbf .....................................\n",
      "[CV] ......... C=9, gamma=auto, kernel=rbf, score=0.895, total=   0.0s\n",
      "[CV] C=9, gamma=auto, kernel=rbf .....................................\n",
      "[CV] ......... C=9, gamma=auto, kernel=rbf, score=0.940, total=   0.0s\n",
      "[CV] C=9, gamma=auto, kernel=rbf .....................................\n",
      "[CV] ......... C=9, gamma=auto, kernel=rbf, score=0.932, total=   0.0s\n",
      "[CV] C=10, gamma=scale, kernel=sigmoid ...............................\n",
      "[CV] ... C=10, gamma=scale, kernel=sigmoid, score=0.820, total=   0.0s\n",
      "[CV] C=10, gamma=scale, kernel=sigmoid ...............................\n",
      "[CV] ... C=10, gamma=scale, kernel=sigmoid, score=0.865, total=   0.0s\n",
      "[CV] C=10, gamma=scale, kernel=sigmoid ...............................\n",
      "[CV] ... C=10, gamma=scale, kernel=sigmoid, score=0.886, total=   0.0s\n",
      "[CV] C=10, gamma=scale, kernel=rbf ...................................\n",
      "[CV] ....... C=10, gamma=scale, kernel=rbf, score=0.880, total=   0.0s\n",
      "[CV] C=10, gamma=scale, kernel=rbf ...................................\n",
      "[CV] ....... C=10, gamma=scale, kernel=rbf, score=0.932, total=   0.0s\n",
      "[CV] C=10, gamma=scale, kernel=rbf ...................................\n",
      "[CV] ....... C=10, gamma=scale, kernel=rbf, score=0.909, total=   0.0s\n",
      "[CV] C=10, gamma=auto, kernel=sigmoid ................................\n",
      "[CV] .... C=10, gamma=auto, kernel=sigmoid, score=0.812, total=   0.0s\n",
      "[CV] C=10, gamma=auto, kernel=sigmoid ................................\n",
      "[CV] .... C=10, gamma=auto, kernel=sigmoid, score=0.842, total=   0.0s\n",
      "[CV] C=10, gamma=auto, kernel=sigmoid ................................\n",
      "[CV] .... C=10, gamma=auto, kernel=sigmoid, score=0.803, total=   0.0s\n",
      "[CV] C=10, gamma=auto, kernel=rbf ....................................\n"
     ]
    },
    {
     "name": "stdout",
     "output_type": "stream",
     "text": [
      "[CV] ........ C=10, gamma=auto, kernel=rbf, score=0.895, total=   0.1s\n",
      "[CV] C=10, gamma=auto, kernel=rbf ....................................\n",
      "[CV] ........ C=10, gamma=auto, kernel=rbf, score=0.940, total=   0.1s\n",
      "[CV] C=10, gamma=auto, kernel=rbf ....................................\n",
      "[CV] ........ C=10, gamma=auto, kernel=rbf, score=0.932, total=   0.1s\n",
      "[CV] C=11, gamma=scale, kernel=sigmoid ...............................\n",
      "[CV] ... C=11, gamma=scale, kernel=sigmoid, score=0.835, total=   0.0s\n",
      "[CV] C=11, gamma=scale, kernel=sigmoid ...............................\n",
      "[CV] ... C=11, gamma=scale, kernel=sigmoid, score=0.865, total=   0.1s\n",
      "[CV] C=11, gamma=scale, kernel=sigmoid ...............................\n",
      "[CV] ... C=11, gamma=scale, kernel=sigmoid, score=0.826, total=   0.1s\n",
      "[CV] C=11, gamma=scale, kernel=rbf ...................................\n",
      "[CV] ....... C=11, gamma=scale, kernel=rbf, score=0.880, total=   0.1s\n",
      "[CV] C=11, gamma=scale, kernel=rbf ...................................\n",
      "[CV] ....... C=11, gamma=scale, kernel=rbf, score=0.932, total=   0.1s\n",
      "[CV] C=11, gamma=scale, kernel=rbf ...................................\n",
      "[CV] ....... C=11, gamma=scale, kernel=rbf, score=0.909, total=   0.0s\n",
      "[CV] C=11, gamma=auto, kernel=sigmoid ................................\n",
      "[CV] .... C=11, gamma=auto, kernel=sigmoid, score=0.820, total=   0.0s\n",
      "[CV] C=11, gamma=auto, kernel=sigmoid ................................\n",
      "[CV] .... C=11, gamma=auto, kernel=sigmoid, score=0.842, total=   0.0s\n",
      "[CV] C=11, gamma=auto, kernel=sigmoid ................................\n",
      "[CV] .... C=11, gamma=auto, kernel=sigmoid, score=0.833, total=   0.0s\n",
      "[CV] C=11, gamma=auto, kernel=rbf ....................................\n",
      "[CV] ........ C=11, gamma=auto, kernel=rbf, score=0.902, total=   0.1s\n",
      "[CV] C=11, gamma=auto, kernel=rbf ....................................\n",
      "[CV] ........ C=11, gamma=auto, kernel=rbf, score=0.940, total=   0.1s\n",
      "[CV] C=11, gamma=auto, kernel=rbf ....................................\n",
      "[CV] ........ C=11, gamma=auto, kernel=rbf, score=0.932, total=   0.1s\n",
      "[CV] C=12, gamma=scale, kernel=sigmoid ...............................\n",
      "[CV] ... C=12, gamma=scale, kernel=sigmoid, score=0.835, total=   0.0s\n",
      "[CV] C=12, gamma=scale, kernel=sigmoid ...............................\n",
      "[CV] ... C=12, gamma=scale, kernel=sigmoid, score=0.865, total=   0.0s\n",
      "[CV] C=12, gamma=scale, kernel=sigmoid ...............................\n",
      "[CV] ... C=12, gamma=scale, kernel=sigmoid, score=0.826, total=   0.1s\n",
      "[CV] C=12, gamma=scale, kernel=rbf ...................................\n",
      "[CV] ....... C=12, gamma=scale, kernel=rbf, score=0.880, total=   0.1s\n",
      "[CV] C=12, gamma=scale, kernel=rbf ...................................\n",
      "[CV] ....... C=12, gamma=scale, kernel=rbf, score=0.932, total=   0.1s\n",
      "[CV] C=12, gamma=scale, kernel=rbf ...................................\n",
      "[CV] ....... C=12, gamma=scale, kernel=rbf, score=0.917, total=   0.0s\n",
      "[CV] C=12, gamma=auto, kernel=sigmoid ................................\n",
      "[CV] .... C=12, gamma=auto, kernel=sigmoid, score=0.820, total=   0.0s\n",
      "[CV] C=12, gamma=auto, kernel=sigmoid ................................\n",
      "[CV] .... C=12, gamma=auto, kernel=sigmoid, score=0.865, total=   0.0s\n",
      "[CV] C=12, gamma=auto, kernel=sigmoid ................................\n",
      "[CV] .... C=12, gamma=auto, kernel=sigmoid, score=0.833, total=   0.0s\n",
      "[CV] C=12, gamma=auto, kernel=rbf ....................................\n",
      "[CV] ........ C=12, gamma=auto, kernel=rbf, score=0.902, total=   0.1s\n",
      "[CV] C=12, gamma=auto, kernel=rbf ....................................\n",
      "[CV] ........ C=12, gamma=auto, kernel=rbf, score=0.940, total=   0.1s\n",
      "[CV] C=12, gamma=auto, kernel=rbf ....................................\n",
      "[CV] ........ C=12, gamma=auto, kernel=rbf, score=0.932, total=   0.1s\n",
      "[CV] C=13, gamma=scale, kernel=sigmoid ...............................\n",
      "[CV] ... C=13, gamma=scale, kernel=sigmoid, score=0.820, total=   0.0s\n",
      "[CV] C=13, gamma=scale, kernel=sigmoid ...............................\n",
      "[CV] ... C=13, gamma=scale, kernel=sigmoid, score=0.857, total=   0.0s\n",
      "[CV] C=13, gamma=scale, kernel=sigmoid ...............................\n",
      "[CV] ... C=13, gamma=scale, kernel=sigmoid, score=0.826, total=   0.0s\n",
      "[CV] C=13, gamma=scale, kernel=rbf ...................................\n",
      "[CV] ....... C=13, gamma=scale, kernel=rbf, score=0.880, total=   0.0s\n",
      "[CV] C=13, gamma=scale, kernel=rbf ...................................\n",
      "[CV] ....... C=13, gamma=scale, kernel=rbf, score=0.932, total=   0.1s\n",
      "[CV] C=13, gamma=scale, kernel=rbf ...................................\n",
      "[CV] ....... C=13, gamma=scale, kernel=rbf, score=0.917, total=   0.1s\n",
      "[CV] C=13, gamma=auto, kernel=sigmoid ................................\n",
      "[CV] .... C=13, gamma=auto, kernel=sigmoid, score=0.820, total=   0.0s\n",
      "[CV] C=13, gamma=auto, kernel=sigmoid ................................\n",
      "[CV] .... C=13, gamma=auto, kernel=sigmoid, score=0.865, total=   0.0s\n",
      "[CV] C=13, gamma=auto, kernel=sigmoid ................................\n",
      "[CV] .... C=13, gamma=auto, kernel=sigmoid, score=0.803, total=   0.0s\n",
      "[CV] C=13, gamma=auto, kernel=rbf ....................................\n",
      "[CV] ........ C=13, gamma=auto, kernel=rbf, score=0.902, total=   0.1s\n",
      "[CV] C=13, gamma=auto, kernel=rbf ....................................\n",
      "[CV] ........ C=13, gamma=auto, kernel=rbf, score=0.940, total=   0.1s\n",
      "[CV] C=13, gamma=auto, kernel=rbf ....................................\n",
      "[CV] ........ C=13, gamma=auto, kernel=rbf, score=0.932, total=   0.1s\n",
      "[CV] C=14, gamma=scale, kernel=sigmoid ...............................\n",
      "[CV] ... C=14, gamma=scale, kernel=sigmoid, score=0.820, total=   0.0s\n",
      "[CV] C=14, gamma=scale, kernel=sigmoid ...............................\n",
      "[CV] ... C=14, gamma=scale, kernel=sigmoid, score=0.857, total=   0.0s\n",
      "[CV] C=14, gamma=scale, kernel=sigmoid ...............................\n",
      "[CV] ... C=14, gamma=scale, kernel=sigmoid, score=0.826, total=   0.0s\n",
      "[CV] C=14, gamma=scale, kernel=rbf ...................................\n",
      "[CV] ....... C=14, gamma=scale, kernel=rbf, score=0.880, total=   0.0s\n",
      "[CV] C=14, gamma=scale, kernel=rbf ...................................\n",
      "[CV] ....... C=14, gamma=scale, kernel=rbf, score=0.932, total=   0.0s\n",
      "[CV] C=14, gamma=scale, kernel=rbf ...................................\n",
      "[CV] ....... C=14, gamma=scale, kernel=rbf, score=0.917, total=   0.0s\n",
      "[CV] C=14, gamma=auto, kernel=sigmoid ................................\n",
      "[CV] .... C=14, gamma=auto, kernel=sigmoid, score=0.820, total=   0.0s\n",
      "[CV] C=14, gamma=auto, kernel=sigmoid ................................\n",
      "[CV] .... C=14, gamma=auto, kernel=sigmoid, score=0.865, total=   0.0s\n",
      "[CV] C=14, gamma=auto, kernel=sigmoid ................................\n",
      "[CV] .... C=14, gamma=auto, kernel=sigmoid, score=0.795, total=   0.0s\n",
      "[CV] C=14, gamma=auto, kernel=rbf ....................................\n",
      "[CV] ........ C=14, gamma=auto, kernel=rbf, score=0.902, total=   0.1s\n",
      "[CV] C=14, gamma=auto, kernel=rbf ....................................\n",
      "[CV] ........ C=14, gamma=auto, kernel=rbf, score=0.940, total=   0.1s\n",
      "[CV] C=14, gamma=auto, kernel=rbf ....................................\n",
      "[CV] ........ C=14, gamma=auto, kernel=rbf, score=0.932, total=   0.0s\n",
      "[CV] C=15, gamma=scale, kernel=sigmoid ...............................\n",
      "[CV] ... C=15, gamma=scale, kernel=sigmoid, score=0.820, total=   0.0s\n",
      "[CV] C=15, gamma=scale, kernel=sigmoid ...............................\n",
      "[CV] ... C=15, gamma=scale, kernel=sigmoid, score=0.857, total=   0.0s\n",
      "[CV] C=15, gamma=scale, kernel=sigmoid ...............................\n",
      "[CV] ... C=15, gamma=scale, kernel=sigmoid, score=0.833, total=   0.0s\n",
      "[CV] C=15, gamma=scale, kernel=rbf ...................................\n",
      "[CV] ....... C=15, gamma=scale, kernel=rbf, score=0.880, total=   0.1s\n",
      "[CV] C=15, gamma=scale, kernel=rbf ...................................\n",
      "[CV] ....... C=15, gamma=scale, kernel=rbf, score=0.932, total=   0.0s\n",
      "[CV] C=15, gamma=scale, kernel=rbf ...................................\n",
      "[CV] ....... C=15, gamma=scale, kernel=rbf, score=0.917, total=   0.0s\n",
      "[CV] C=15, gamma=auto, kernel=sigmoid ................................\n",
      "[CV] .... C=15, gamma=auto, kernel=sigmoid, score=0.820, total=   0.0s\n",
      "[CV] C=15, gamma=auto, kernel=sigmoid ................................\n"
     ]
    },
    {
     "name": "stdout",
     "output_type": "stream",
     "text": [
      "[CV] .... C=15, gamma=auto, kernel=sigmoid, score=0.865, total=   0.0s\n",
      "[CV] C=15, gamma=auto, kernel=sigmoid ................................\n",
      "[CV] .... C=15, gamma=auto, kernel=sigmoid, score=0.795, total=   0.0s\n",
      "[CV] C=15, gamma=auto, kernel=rbf ....................................\n",
      "[CV] ........ C=15, gamma=auto, kernel=rbf, score=0.902, total=   0.1s\n",
      "[CV] C=15, gamma=auto, kernel=rbf ....................................\n",
      "[CV] ........ C=15, gamma=auto, kernel=rbf, score=0.940, total=   0.1s\n",
      "[CV] C=15, gamma=auto, kernel=rbf ....................................\n",
      "[CV] ........ C=15, gamma=auto, kernel=rbf, score=0.924, total=   0.0s\n",
      "[CV] C=16, gamma=scale, kernel=sigmoid ...............................\n",
      "[CV] ... C=16, gamma=scale, kernel=sigmoid, score=0.812, total=   0.0s\n",
      "[CV] C=16, gamma=scale, kernel=sigmoid ...............................\n",
      "[CV] ... C=16, gamma=scale, kernel=sigmoid, score=0.857, total=   0.0s\n",
      "[CV] C=16, gamma=scale, kernel=sigmoid ...............................\n",
      "[CV] ... C=16, gamma=scale, kernel=sigmoid, score=0.833, total=   0.0s\n",
      "[CV] C=16, gamma=scale, kernel=rbf ...................................\n",
      "[CV] ....... C=16, gamma=scale, kernel=rbf, score=0.880, total=   0.0s\n",
      "[CV] C=16, gamma=scale, kernel=rbf ...................................\n",
      "[CV] ....... C=16, gamma=scale, kernel=rbf, score=0.932, total=   0.0s\n",
      "[CV] C=16, gamma=scale, kernel=rbf ...................................\n",
      "[CV] ....... C=16, gamma=scale, kernel=rbf, score=0.917, total=   0.0s\n",
      "[CV] C=16, gamma=auto, kernel=sigmoid ................................\n",
      "[CV] .... C=16, gamma=auto, kernel=sigmoid, score=0.820, total=   0.0s\n",
      "[CV] C=16, gamma=auto, kernel=sigmoid ................................\n",
      "[CV] .... C=16, gamma=auto, kernel=sigmoid, score=0.865, total=   0.0s\n",
      "[CV] C=16, gamma=auto, kernel=sigmoid ................................\n",
      "[CV] .... C=16, gamma=auto, kernel=sigmoid, score=0.803, total=   0.0s\n",
      "[CV] C=16, gamma=auto, kernel=rbf ....................................\n",
      "[CV] ........ C=16, gamma=auto, kernel=rbf, score=0.902, total=   0.0s\n",
      "[CV] C=16, gamma=auto, kernel=rbf ....................................\n",
      "[CV] ........ C=16, gamma=auto, kernel=rbf, score=0.940, total=   0.1s\n",
      "[CV] C=16, gamma=auto, kernel=rbf ....................................\n",
      "[CV] ........ C=16, gamma=auto, kernel=rbf, score=0.924, total=   0.1s\n",
      "[CV] C=17, gamma=scale, kernel=sigmoid ...............................\n",
      "[CV] ... C=17, gamma=scale, kernel=sigmoid, score=0.812, total=   0.0s\n",
      "[CV] C=17, gamma=scale, kernel=sigmoid ...............................\n",
      "[CV] ... C=17, gamma=scale, kernel=sigmoid, score=0.857, total=   0.0s\n",
      "[CV] C=17, gamma=scale, kernel=sigmoid ...............................\n",
      "[CV] ... C=17, gamma=scale, kernel=sigmoid, score=0.833, total=   0.0s\n",
      "[CV] C=17, gamma=scale, kernel=rbf ...................................\n",
      "[CV] ....... C=17, gamma=scale, kernel=rbf, score=0.880, total=   0.0s\n",
      "[CV] C=17, gamma=scale, kernel=rbf ...................................\n",
      "[CV] ....... C=17, gamma=scale, kernel=rbf, score=0.932, total=   0.0s\n",
      "[CV] C=17, gamma=scale, kernel=rbf ...................................\n",
      "[CV] ....... C=17, gamma=scale, kernel=rbf, score=0.917, total=   0.0s\n",
      "[CV] C=17, gamma=auto, kernel=sigmoid ................................\n",
      "[CV] .... C=17, gamma=auto, kernel=sigmoid, score=0.820, total=   0.0s\n",
      "[CV] C=17, gamma=auto, kernel=sigmoid ................................\n",
      "[CV] .... C=17, gamma=auto, kernel=sigmoid, score=0.865, total=   0.0s\n",
      "[CV] C=17, gamma=auto, kernel=sigmoid ................................\n",
      "[CV] .... C=17, gamma=auto, kernel=sigmoid, score=0.795, total=   0.0s\n",
      "[CV] C=17, gamma=auto, kernel=rbf ....................................\n",
      "[CV] ........ C=17, gamma=auto, kernel=rbf, score=0.902, total=   0.0s\n",
      "[CV] C=17, gamma=auto, kernel=rbf ....................................\n",
      "[CV] ........ C=17, gamma=auto, kernel=rbf, score=0.940, total=   0.0s\n",
      "[CV] C=17, gamma=auto, kernel=rbf ....................................\n",
      "[CV] ........ C=17, gamma=auto, kernel=rbf, score=0.924, total=   0.0s\n",
      "[CV] C=18, gamma=scale, kernel=sigmoid ...............................\n",
      "[CV] ... C=18, gamma=scale, kernel=sigmoid, score=0.812, total=   0.0s\n",
      "[CV] C=18, gamma=scale, kernel=sigmoid ...............................\n",
      "[CV] ... C=18, gamma=scale, kernel=sigmoid, score=0.857, total=   0.0s\n",
      "[CV] C=18, gamma=scale, kernel=sigmoid ...............................\n",
      "[CV] ... C=18, gamma=scale, kernel=sigmoid, score=0.833, total=   0.0s\n",
      "[CV] C=18, gamma=scale, kernel=rbf ...................................\n",
      "[CV] ....... C=18, gamma=scale, kernel=rbf, score=0.880, total=   0.0s\n",
      "[CV] C=18, gamma=scale, kernel=rbf ...................................\n",
      "[CV] ....... C=18, gamma=scale, kernel=rbf, score=0.940, total=   0.0s\n",
      "[CV] C=18, gamma=scale, kernel=rbf ...................................\n",
      "[CV] ....... C=18, gamma=scale, kernel=rbf, score=0.917, total=   0.0s\n",
      "[CV] C=18, gamma=auto, kernel=sigmoid ................................\n",
      "[CV] .... C=18, gamma=auto, kernel=sigmoid, score=0.820, total=   0.0s\n",
      "[CV] C=18, gamma=auto, kernel=sigmoid ................................\n",
      "[CV] .... C=18, gamma=auto, kernel=sigmoid, score=0.865, total=   0.0s\n",
      "[CV] C=18, gamma=auto, kernel=sigmoid ................................\n",
      "[CV] .... C=18, gamma=auto, kernel=sigmoid, score=0.795, total=   0.0s\n",
      "[CV] C=18, gamma=auto, kernel=rbf ....................................\n",
      "[CV] ........ C=18, gamma=auto, kernel=rbf, score=0.910, total=   0.0s\n",
      "[CV] C=18, gamma=auto, kernel=rbf ....................................\n",
      "[CV] ........ C=18, gamma=auto, kernel=rbf, score=0.932, total=   0.0s\n",
      "[CV] C=18, gamma=auto, kernel=rbf ....................................\n",
      "[CV] ........ C=18, gamma=auto, kernel=rbf, score=0.924, total=   0.1s\n",
      "[CV] C=19, gamma=scale, kernel=sigmoid ...............................\n",
      "[CV] ... C=19, gamma=scale, kernel=sigmoid, score=0.812, total=   0.0s\n",
      "[CV] C=19, gamma=scale, kernel=sigmoid ...............................\n",
      "[CV] ... C=19, gamma=scale, kernel=sigmoid, score=0.857, total=   0.0s\n",
      "[CV] C=19, gamma=scale, kernel=sigmoid ...............................\n",
      "[CV] ... C=19, gamma=scale, kernel=sigmoid, score=0.833, total=   0.0s\n",
      "[CV] C=19, gamma=scale, kernel=rbf ...................................\n",
      "[CV] ....... C=19, gamma=scale, kernel=rbf, score=0.880, total=   0.0s\n",
      "[CV] C=19, gamma=scale, kernel=rbf ...................................\n",
      "[CV] ....... C=19, gamma=scale, kernel=rbf, score=0.940, total=   0.0s\n",
      "[CV] C=19, gamma=scale, kernel=rbf ...................................\n",
      "[CV] ....... C=19, gamma=scale, kernel=rbf, score=0.924, total=   0.0s\n",
      "[CV] C=19, gamma=auto, kernel=sigmoid ................................\n",
      "[CV] .... C=19, gamma=auto, kernel=sigmoid, score=0.820, total=   0.0s\n",
      "[CV] C=19, gamma=auto, kernel=sigmoid ................................\n",
      "[CV] .... C=19, gamma=auto, kernel=sigmoid, score=0.865, total=   0.0s\n",
      "[CV] C=19, gamma=auto, kernel=sigmoid ................................\n",
      "[CV] .... C=19, gamma=auto, kernel=sigmoid, score=0.795, total=   0.0s\n",
      "[CV] C=19, gamma=auto, kernel=rbf ....................................\n",
      "[CV] ........ C=19, gamma=auto, kernel=rbf, score=0.910, total=   0.0s\n",
      "[CV] C=19, gamma=auto, kernel=rbf ....................................\n",
      "[CV] ........ C=19, gamma=auto, kernel=rbf, score=0.932, total=   0.0s\n",
      "[CV] C=19, gamma=auto, kernel=rbf ....................................\n",
      "[CV] ........ C=19, gamma=auto, kernel=rbf, score=0.924, total=   0.0s\n",
      "[CV] C=20, gamma=scale, kernel=sigmoid ...............................\n",
      "[CV] ... C=20, gamma=scale, kernel=sigmoid, score=0.812, total=   0.0s\n",
      "[CV] C=20, gamma=scale, kernel=sigmoid ...............................\n",
      "[CV] ... C=20, gamma=scale, kernel=sigmoid, score=0.857, total=   0.0s\n",
      "[CV] C=20, gamma=scale, kernel=sigmoid ...............................\n",
      "[CV] ... C=20, gamma=scale, kernel=sigmoid, score=0.833, total=   0.0s\n",
      "[CV] C=20, gamma=scale, kernel=rbf ...................................\n",
      "[CV] ....... C=20, gamma=scale, kernel=rbf, score=0.880, total=   0.0s\n",
      "[CV] C=20, gamma=scale, kernel=rbf ...................................\n",
      "[CV] ....... C=20, gamma=scale, kernel=rbf, score=0.940, total=   0.0s\n",
      "[CV] C=20, gamma=scale, kernel=rbf ...................................\n",
      "[CV] ....... C=20, gamma=scale, kernel=rbf, score=0.924, total=   0.0s\n",
      "[CV] C=20, gamma=auto, kernel=sigmoid ................................\n",
      "[CV] .... C=20, gamma=auto, kernel=sigmoid, score=0.820, total=   0.0s\n",
      "[CV] C=20, gamma=auto, kernel=sigmoid ................................\n",
      "[CV] .... C=20, gamma=auto, kernel=sigmoid, score=0.842, total=   0.0s\n",
      "[CV] C=20, gamma=auto, kernel=sigmoid ................................\n",
      "[CV] .... C=20, gamma=auto, kernel=sigmoid, score=0.795, total=   0.1s\n",
      "[CV] C=20, gamma=auto, kernel=rbf ....................................\n"
     ]
    },
    {
     "name": "stdout",
     "output_type": "stream",
     "text": [
      "[CV] ........ C=20, gamma=auto, kernel=rbf, score=0.910, total=   0.0s\n",
      "[CV] C=20, gamma=auto, kernel=rbf ....................................\n",
      "[CV] ........ C=20, gamma=auto, kernel=rbf, score=0.932, total=   0.0s\n",
      "[CV] C=20, gamma=auto, kernel=rbf ....................................\n",
      "[CV] ........ C=20, gamma=auto, kernel=rbf, score=0.924, total=   0.0s\n",
      "[CV] C=1, kernel=linear ..............................................\n",
      "[CV] .................. C=1, kernel=linear, score=0.895, total=   0.0s\n",
      "[CV] C=1, kernel=linear ..............................................\n",
      "[CV] .................. C=1, kernel=linear, score=0.910, total=   0.0s\n",
      "[CV] C=1, kernel=linear ..............................................\n",
      "[CV] .................. C=1, kernel=linear, score=0.917, total=   0.1s\n",
      "[CV] C=2, kernel=linear ..............................................\n",
      "[CV] .................. C=2, kernel=linear, score=0.895, total=   0.0s\n",
      "[CV] C=2, kernel=linear ..............................................\n",
      "[CV] .................. C=2, kernel=linear, score=0.910, total=   0.1s\n",
      "[CV] C=2, kernel=linear ..............................................\n",
      "[CV] .................. C=2, kernel=linear, score=0.924, total=   0.0s\n",
      "[CV] C=3, kernel=linear ..............................................\n",
      "[CV] .................. C=3, kernel=linear, score=0.895, total=   0.0s\n",
      "[CV] C=3, kernel=linear ..............................................\n",
      "[CV] .................. C=3, kernel=linear, score=0.917, total=   0.1s\n",
      "[CV] C=3, kernel=linear ..............................................\n",
      "[CV] .................. C=3, kernel=linear, score=0.917, total=   0.1s\n",
      "[CV] C=4, kernel=linear ..............................................\n",
      "[CV] .................. C=4, kernel=linear, score=0.902, total=   0.1s\n",
      "[CV] C=4, kernel=linear ..............................................\n",
      "[CV] .................. C=4, kernel=linear, score=0.917, total=   0.0s\n",
      "[CV] C=4, kernel=linear ..............................................\n",
      "[CV] .................. C=4, kernel=linear, score=0.917, total=   0.0s\n",
      "[CV] C=5, kernel=linear ..............................................\n",
      "[CV] .................. C=5, kernel=linear, score=0.902, total=   0.0s\n",
      "[CV] C=5, kernel=linear ..............................................\n",
      "[CV] .................. C=5, kernel=linear, score=0.917, total=   0.1s\n",
      "[CV] C=5, kernel=linear ..............................................\n",
      "[CV] .................. C=5, kernel=linear, score=0.917, total=   0.1s\n",
      "[CV] C=6, kernel=linear ..............................................\n",
      "[CV] .................. C=6, kernel=linear, score=0.902, total=   0.1s\n",
      "[CV] C=6, kernel=linear ..............................................\n",
      "[CV] .................. C=6, kernel=linear, score=0.917, total=   0.1s\n",
      "[CV] C=6, kernel=linear ..............................................\n",
      "[CV] .................. C=6, kernel=linear, score=0.917, total=   0.0s\n",
      "[CV] C=7, kernel=linear ..............................................\n",
      "[CV] .................. C=7, kernel=linear, score=0.902, total=   0.0s\n",
      "[CV] C=7, kernel=linear ..............................................\n",
      "[CV] .................. C=7, kernel=linear, score=0.917, total=   0.1s\n",
      "[CV] C=7, kernel=linear ..............................................\n",
      "[CV] .................. C=7, kernel=linear, score=0.917, total=   0.1s\n",
      "[CV] C=8, kernel=linear ..............................................\n",
      "[CV] .................. C=8, kernel=linear, score=0.902, total=   0.0s\n",
      "[CV] C=8, kernel=linear ..............................................\n",
      "[CV] .................. C=8, kernel=linear, score=0.917, total=   0.1s\n",
      "[CV] C=8, kernel=linear ..............................................\n",
      "[CV] .................. C=8, kernel=linear, score=0.917, total=   0.1s\n",
      "[CV] C=9, kernel=linear ..............................................\n",
      "[CV] .................. C=9, kernel=linear, score=0.902, total=   0.1s\n",
      "[CV] C=9, kernel=linear ..............................................\n",
      "[CV] .................. C=9, kernel=linear, score=0.917, total=   0.1s\n",
      "[CV] C=9, kernel=linear ..............................................\n",
      "[CV] .................. C=9, kernel=linear, score=0.924, total=   0.1s\n",
      "[CV] C=10, kernel=linear .............................................\n",
      "[CV] ................. C=10, kernel=linear, score=0.902, total=   0.0s\n",
      "[CV] C=10, kernel=linear .............................................\n",
      "[CV] ................. C=10, kernel=linear, score=0.917, total=   0.1s\n",
      "[CV] C=10, kernel=linear .............................................\n",
      "[CV] ................. C=10, kernel=linear, score=0.924, total=   0.1s\n",
      "[CV] C=11, kernel=linear .............................................\n",
      "[CV] ................. C=11, kernel=linear, score=0.902, total=   0.1s\n",
      "[CV] C=11, kernel=linear .............................................\n",
      "[CV] ................. C=11, kernel=linear, score=0.917, total=   0.2s\n",
      "[CV] C=11, kernel=linear .............................................\n",
      "[CV] ................. C=11, kernel=linear, score=0.924, total=   0.1s\n",
      "[CV] C=12, kernel=linear .............................................\n",
      "[CV] ................. C=12, kernel=linear, score=0.902, total=   0.1s\n",
      "[CV] C=12, kernel=linear .............................................\n",
      "[CV] ................. C=12, kernel=linear, score=0.917, total=   0.2s\n",
      "[CV] C=12, kernel=linear .............................................\n",
      "[CV] ................. C=12, kernel=linear, score=0.924, total=   0.1s\n",
      "[CV] C=13, kernel=linear .............................................\n",
      "[CV] ................. C=13, kernel=linear, score=0.902, total=   0.2s\n",
      "[CV] C=13, kernel=linear .............................................\n",
      "[CV] ................. C=13, kernel=linear, score=0.917, total=   0.2s\n",
      "[CV] C=13, kernel=linear .............................................\n",
      "[CV] ................. C=13, kernel=linear, score=0.924, total=   0.1s\n",
      "[CV] C=14, kernel=linear .............................................\n",
      "[CV] ................. C=14, kernel=linear, score=0.902, total=   0.1s\n",
      "[CV] C=14, kernel=linear .............................................\n",
      "[CV] ................. C=14, kernel=linear, score=0.917, total=   0.1s\n",
      "[CV] C=14, kernel=linear .............................................\n",
      "[CV] ................. C=14, kernel=linear, score=0.924, total=   0.1s\n",
      "[CV] C=15, kernel=linear .............................................\n",
      "[CV] ................. C=15, kernel=linear, score=0.902, total=   0.0s\n",
      "[CV] C=15, kernel=linear .............................................\n",
      "[CV] ................. C=15, kernel=linear, score=0.917, total=   0.2s\n",
      "[CV] C=15, kernel=linear .............................................\n",
      "[CV] ................. C=15, kernel=linear, score=0.924, total=   0.1s\n",
      "[CV] C=16, kernel=linear .............................................\n",
      "[CV] ................. C=16, kernel=linear, score=0.902, total=   0.1s\n",
      "[CV] C=16, kernel=linear .............................................\n",
      "[CV] ................. C=16, kernel=linear, score=0.917, total=   0.1s\n",
      "[CV] C=16, kernel=linear .............................................\n",
      "[CV] ................. C=16, kernel=linear, score=0.924, total=   0.2s\n",
      "[CV] C=17, kernel=linear .............................................\n",
      "[CV] ................. C=17, kernel=linear, score=0.902, total=   0.1s\n",
      "[CV] C=17, kernel=linear .............................................\n",
      "[CV] ................. C=17, kernel=linear, score=0.917, total=   0.2s\n",
      "[CV] C=17, kernel=linear .............................................\n",
      "[CV] ................. C=17, kernel=linear, score=0.917, total=   0.1s\n",
      "[CV] C=18, kernel=linear .............................................\n",
      "[CV] ................. C=18, kernel=linear, score=0.902, total=   0.0s\n",
      "[CV] C=18, kernel=linear .............................................\n",
      "[CV] ................. C=18, kernel=linear, score=0.917, total=   0.2s\n",
      "[CV] C=18, kernel=linear .............................................\n",
      "[CV] ................. C=18, kernel=linear, score=0.917, total=   0.1s\n",
      "[CV] C=19, kernel=linear .............................................\n",
      "[CV] ................. C=19, kernel=linear, score=0.902, total=   0.0s\n",
      "[CV] C=19, kernel=linear .............................................\n"
     ]
    },
    {
     "name": "stdout",
     "output_type": "stream",
     "text": [
      "[CV] ................. C=19, kernel=linear, score=0.917, total=   0.1s\n",
      "[CV] C=19, kernel=linear .............................................\n",
      "[CV] ................. C=19, kernel=linear, score=0.917, total=   0.1s\n",
      "[CV] C=20, kernel=linear .............................................\n",
      "[CV] ................. C=20, kernel=linear, score=0.902, total=   0.1s\n",
      "[CV] C=20, kernel=linear .............................................\n",
      "[CV] ................. C=20, kernel=linear, score=0.917, total=   0.2s\n",
      "[CV] C=20, kernel=linear .............................................\n",
      "[CV] ................. C=20, kernel=linear, score=0.917, total=   0.1s\n"
     ]
    },
    {
     "name": "stderr",
     "output_type": "stream",
     "text": [
      "[Parallel(n_jobs=1)]: Done 300 out of 300 | elapsed:   16.7s finished\n"
     ]
    },
    {
     "data": {
      "text/plain": [
       "GridSearchCV(cv=3, error_score=nan,\n",
       "             estimator=SVC(C=1.0, break_ties=False, cache_size=200,\n",
       "                           class_weight=None, coef0=0.0,\n",
       "                           decision_function_shape='ovr', degree=3,\n",
       "                           gamma='scale', kernel='rbf', max_iter=-1,\n",
       "                           probability=False, random_state=None, shrinking=True,\n",
       "                           tol=0.001, verbose=False),\n",
       "             iid='deprecated', n_jobs=None,\n",
       "             param_grid=[{'C': range(1, 21), 'gamma': ['scale', 'auto'],\n",
       "                          'kernel': ['sigmoid', 'rbf']},\n",
       "                         {'C': range(1, 21), 'kernel': ['linear']}],\n",
       "             pre_dispatch='2*n_jobs', refit=True, return_train_score=False,\n",
       "             scoring='recall', verbose=3)"
      ]
     },
     "execution_count": 22,
     "metadata": {},
     "output_type": "execute_result"
    }
   ],
   "source": [
    "param_grid = [\n",
    "    {\n",
    "        'C' : range(1, 21), # 1부터 20까지의 자연수\n",
    "        'kernel' : ['sigmoid', 'rbf'],\n",
    "        'gamma' : ['scale', 'auto'], # gamma = 'scale' 이면, gamma = 1 / (n_features * X.var()) \n",
    "                                     # gamma = 'auto' 이면, gamma = 1 / n_features\n",
    "    },\n",
    "    {\n",
    "       'C' : range(1, 21), # 1부터 20까지의 자연수\n",
    "        'kernel' : ['linear'], #linear SVM에서는 gamma 옵션을 부여하지 않기 때문에 생략\n",
    "    }\n",
    "]\n",
    "\n",
    "grid = GridSearchCV(SVC(), cv=3, param_grid = param_grid, scoring='recall', verbose=3) # recall 재현율 사용\n",
    "grid.fit(X_train_s, y_train)\n",
    "\n",
    "#verbose가 클수록 진행상황을 많이 알려줌. default로 두면 dataset이 커졌을 때 내컴퓨터/파이썬/코드 중에서 어디가 문제인지 모른다."
   ]
  },
  {
   "cell_type": "code",
   "execution_count": 23,
   "metadata": {},
   "outputs": [
    {
     "data": {
      "text/plain": [
       "{'mean_fit_time': array([0.04533799, 0.03599954, 0.01999728, 0.0373311 , 0.03599795,\n",
       "        0.08266656, 0.0439984 , 0.04666448, 0.04133431, 0.05333249,\n",
       "        0.03066317, 0.03599819, 0.02533515, 0.03066365, 0.01466497,\n",
       "        0.0359993 , 0.02266828, 0.02800067, 0.01866666, 0.02933343,\n",
       "        0.01199857, 0.01734598, 0.01334739, 0.01866349, 0.01066502,\n",
       "        0.02000451, 0.01199873, 0.02133393, 0.01200096, 0.01600051,\n",
       "        0.01466672, 0.02534691, 0.01333348, 0.01999966, 0.01066756,\n",
       "        0.02266725, 0.01200151, 0.02666775, 0.01867739, 0.06666501,\n",
       "        0.03600764, 0.04266516, 0.02533213, 0.06533384, 0.03200833,\n",
       "        0.04399967, 0.02266796, 0.05733514, 0.02666664, 0.05733418,\n",
       "        0.02000133, 0.04533315, 0.01999847, 0.02933137, 0.01866579,\n",
       "        0.03866736, 0.01865983, 0.03200213, 0.018665  , 0.03733444,\n",
       "        0.02133115, 0.03066619, 0.01600003, 0.04000123, 0.02133115,\n",
       "        0.02666632, 0.01199873, 0.03199959, 0.01466576, 0.02266431,\n",
       "        0.01466854, 0.03466757, 0.01999799, 0.02266757, 0.01066764,\n",
       "        0.02666926, 0.01066573, 0.02266908, 0.02666918, 0.02666879,\n",
       "        0.03333346, 0.05066705, 0.05066148, 0.05199909, 0.06267023,\n",
       "        0.06399727, 0.06399806, 0.07199979, 0.07066496, 0.06799936,\n",
       "        0.10133378, 0.1293323 , 0.15599553, 0.10533865, 0.11199999,\n",
       "        0.14666724, 0.10666649, 0.12133272, 0.09066629, 0.11733158]),\n",
       " 'std_fit_time': array([4.99148863e-03, 3.26575072e-03, 3.26594497e-03, 4.99042739e-03,\n",
       "        5.65666919e-03, 8.22588239e-03, 1.42366357e-02, 9.42943016e-03,\n",
       "        1.04977750e-02, 8.22165262e-03, 1.23665177e-02, 5.65065660e-03,\n",
       "        1.88357092e-03, 4.98639148e-03, 1.88537047e-03, 3.26720983e-03,\n",
       "        6.79160766e-03, 3.26314037e-03, 1.88458237e-03, 4.98970437e-03,\n",
       "        1.85019918e-06, 1.90498136e-03, 1.87797580e-03, 1.88352217e-03,\n",
       "        1.88604338e-03, 5.65813575e-03, 7.86741172e-07, 1.88497656e-03,\n",
       "        1.83992972e-06, 3.42195036e-06, 1.88643695e-03, 1.87515231e-03,\n",
       "        1.88536918e-03, 3.26555495e-03, 1.88666225e-03, 3.77040119e-03,\n",
       "        3.26672296e-03, 1.88643916e-03, 1.86502716e-03, 4.99407984e-03,\n",
       "        1.13083367e-02, 9.98023724e-03, 1.88823501e-03, 1.79864348e-02,\n",
       "        5.64677858e-03, 8.64352573e-03, 3.77056949e-03, 1.88986569e-03,\n",
       "        6.79871426e-03, 2.53649040e-02, 5.44490596e-06, 7.54394875e-03,\n",
       "        3.26691762e-03, 1.88688633e-03, 1.88446990e-03, 4.98651840e-03,\n",
       "        1.87891161e-03, 5.65824251e-03, 1.88694260e-03, 1.88767307e-03,\n",
       "        1.88542522e-03, 3.77174982e-03, 3.26613922e-03, 6.53003936e-03,\n",
       "        1.88576242e-03, 4.98715576e-03, 1.12391596e-07, 5.65408408e-03,\n",
       "        1.88542542e-03, 1.88480933e-03, 1.88705499e-03, 6.79919746e-03,\n",
       "        1.76637258e-06, 1.88458253e-03, 1.88418922e-03, 4.98488373e-03,\n",
       "        1.88587491e-03, 1.88767325e-03, 1.79864288e-02, 3.77163720e-03,\n",
       "        1.61108495e-02, 2.09985273e-02, 1.35944992e-02, 1.42354078e-02,\n",
       "        2.12543851e-02, 2.03916074e-02, 2.35514641e-02, 3.59268470e-02,\n",
       "        2.36280597e-02, 2.46612836e-02, 3.30392988e-02, 7.71722960e-02,\n",
       "        6.85813258e-02, 2.71875005e-02, 4.57251805e-02, 5.55517197e-02,\n",
       "        5.18800384e-02, 7.02255886e-02, 4.08357360e-02, 3.78531743e-02]),\n",
       " 'mean_score_time': array([0.02132996, 0.01866666, 0.0120213 , 0.01733971, 0.01866794,\n",
       "        0.04533021, 0.03733691, 0.02266828, 0.02933367, 0.02800298,\n",
       "        0.02533801, 0.01466616, 0.01867374, 0.01333435, 0.00933472,\n",
       "        0.01600019, 0.0093259 , 0.01732826, 0.01200287, 0.00933361,\n",
       "        0.00800021, 0.00932089, 0.00666777, 0.00800045, 0.00533398,\n",
       "        0.00666475, 0.00533287, 0.01066605, 0.00401489, 0.0079991 ,\n",
       "        0.0053339 , 0.00666523, 0.00533462, 0.00666761, 0.0066665 ,\n",
       "        0.00799934, 0.00666714, 0.01333324, 0.01199206, 0.02799996,\n",
       "        0.02133155, 0.01466775, 0.0133334 , 0.03333966, 0.01732635,\n",
       "        0.02133274, 0.01600385, 0.02532991, 0.0146699 , 0.01466433,\n",
       "        0.01066383, 0.01600218, 0.01200136, 0.01733406, 0.01066756,\n",
       "        0.01199953, 0.01066669, 0.0133311 , 0.01066852, 0.01466711,\n",
       "        0.01200167, 0.0120132 , 0.00933313, 0.01333221, 0.01200072,\n",
       "        0.01066907, 0.0066665 , 0.01066709, 0.01066796, 0.00801531,\n",
       "        0.0093321 , 0.01601466, 0.0120008 , 0.00800188, 0.00666515,\n",
       "        0.01199675, 0.00800236, 0.01199881, 0.01066526, 0.00933321,\n",
       "        0.00533255, 0.00400082, 0.00667127, 0.00533247, 0.00399947,\n",
       "        0.00666809, 0.00400146, 0.00533557, 0.00266703, 0.00399995,\n",
       "        0.00133371, 0.00266727, 0.00266759, 0.00266727, 0.00133371,\n",
       "        0.00399915, 0.00400106, 0.00266671, 0.00400098, 0.00266743]),\n",
       " 'std_score_time': array([1.88879727e-03, 1.88643677e-03, 2.19241408e-05, 1.89104663e-03,\n",
       "        3.76961474e-03, 1.67607699e-02, 1.79897868e-02, 4.98811146e-03,\n",
       "        7.54338705e-03, 3.26662565e-03, 1.32040457e-02, 1.88469532e-03,\n",
       "        4.99669584e-03, 1.88475089e-03, 1.88419024e-03, 3.26701512e-03,\n",
       "        1.89161327e-03, 1.88953980e-03, 1.07214749e-06, 1.88531339e-03,\n",
       "        9.19964862e-07, 1.89301714e-03, 1.88373941e-03, 5.61957980e-07,\n",
       "        1.88542522e-03, 1.88834740e-03, 1.88621238e-03, 1.88727968e-03,\n",
       "        1.77962430e-05, 3.26623687e-03, 1.88463920e-03, 1.88615577e-03,\n",
       "        1.88413372e-03, 1.88565002e-03, 1.88503186e-03, 1.32507737e-06,\n",
       "        1.88565002e-03, 1.88907916e-03, 1.84250245e-05, 5.65666915e-03,\n",
       "        3.78074636e-03, 3.77163722e-03, 3.76899664e-03, 1.04996830e-02,\n",
       "        4.99234542e-03, 7.53939688e-03, 3.26526392e-03, 7.54220750e-03,\n",
       "        6.79623636e-03, 3.77186209e-03, 1.88823658e-03, 8.92080638e-07,\n",
       "        3.26516563e-03, 1.88660569e-03, 1.88565000e-03, 3.26759901e-03,\n",
       "        1.88806678e-03, 4.98885508e-03, 1.88480732e-03, 1.88452766e-03,\n",
       "        5.61957980e-07, 1.89178795e-05, 1.88632441e-03, 1.88660597e-03,\n",
       "        3.26613895e-03, 1.88688722e-03, 1.88435850e-03, 1.88581860e-03,\n",
       "        1.88441372e-03, 2.01265704e-05, 1.88199809e-03, 5.67375256e-03,\n",
       "        3.26652830e-03, 6.77246802e-06, 1.88795407e-03, 4.49004074e-06,\n",
       "        2.08152149e-06, 5.65447739e-03, 1.88638080e-03, 1.88475178e-03,\n",
       "        1.88677434e-03, 1.07214749e-06, 1.88874864e-03, 1.88531283e-03,\n",
       "        3.26487381e-03, 3.77079430e-03, 6.25769923e-07, 1.88632441e-03,\n",
       "        1.88587479e-03, 2.61898948e-06, 1.88615576e-03, 1.88604353e-03,\n",
       "        1.88626825e-03, 1.88604338e-03, 1.88615576e-03, 1.76637258e-06,\n",
       "        2.97360213e-07, 1.88565002e-03, 2.24783192e-07, 1.88615580e-03]),\n",
       " 'param_C': masked_array(data=[1, 1, 1, 1, 2, 2, 2, 2, 3, 3, 3, 3, 4, 4, 4, 4, 5, 5,\n",
       "                    5, 5, 6, 6, 6, 6, 7, 7, 7, 7, 8, 8, 8, 8, 9, 9, 9, 9,\n",
       "                    10, 10, 10, 10, 11, 11, 11, 11, 12, 12, 12, 12, 13, 13,\n",
       "                    13, 13, 14, 14, 14, 14, 15, 15, 15, 15, 16, 16, 16, 16,\n",
       "                    17, 17, 17, 17, 18, 18, 18, 18, 19, 19, 19, 19, 20, 20,\n",
       "                    20, 20, 1, 2, 3, 4, 5, 6, 7, 8, 9, 10, 11, 12, 13, 14,\n",
       "                    15, 16, 17, 18, 19, 20],\n",
       "              mask=[False, False, False, False, False, False, False, False,\n",
       "                    False, False, False, False, False, False, False, False,\n",
       "                    False, False, False, False, False, False, False, False,\n",
       "                    False, False, False, False, False, False, False, False,\n",
       "                    False, False, False, False, False, False, False, False,\n",
       "                    False, False, False, False, False, False, False, False,\n",
       "                    False, False, False, False, False, False, False, False,\n",
       "                    False, False, False, False, False, False, False, False,\n",
       "                    False, False, False, False, False, False, False, False,\n",
       "                    False, False, False, False, False, False, False, False,\n",
       "                    False, False, False, False, False, False, False, False,\n",
       "                    False, False, False, False, False, False, False, False,\n",
       "                    False, False, False, False],\n",
       "        fill_value='?',\n",
       "             dtype=object),\n",
       " 'param_gamma': masked_array(data=['scale', 'scale', 'auto', 'auto', 'scale', 'scale',\n",
       "                    'auto', 'auto', 'scale', 'scale', 'auto', 'auto',\n",
       "                    'scale', 'scale', 'auto', 'auto', 'scale', 'scale',\n",
       "                    'auto', 'auto', 'scale', 'scale', 'auto', 'auto',\n",
       "                    'scale', 'scale', 'auto', 'auto', 'scale', 'scale',\n",
       "                    'auto', 'auto', 'scale', 'scale', 'auto', 'auto',\n",
       "                    'scale', 'scale', 'auto', 'auto', 'scale', 'scale',\n",
       "                    'auto', 'auto', 'scale', 'scale', 'auto', 'auto',\n",
       "                    'scale', 'scale', 'auto', 'auto', 'scale', 'scale',\n",
       "                    'auto', 'auto', 'scale', 'scale', 'auto', 'auto',\n",
       "                    'scale', 'scale', 'auto', 'auto', 'scale', 'scale',\n",
       "                    'auto', 'auto', 'scale', 'scale', 'auto', 'auto',\n",
       "                    'scale', 'scale', 'auto', 'auto', 'scale', 'scale',\n",
       "                    'auto', 'auto', --, --, --, --, --, --, --, --, --, --,\n",
       "                    --, --, --, --, --, --, --, --, --, --],\n",
       "              mask=[False, False, False, False, False, False, False, False,\n",
       "                    False, False, False, False, False, False, False, False,\n",
       "                    False, False, False, False, False, False, False, False,\n",
       "                    False, False, False, False, False, False, False, False,\n",
       "                    False, False, False, False, False, False, False, False,\n",
       "                    False, False, False, False, False, False, False, False,\n",
       "                    False, False, False, False, False, False, False, False,\n",
       "                    False, False, False, False, False, False, False, False,\n",
       "                    False, False, False, False, False, False, False, False,\n",
       "                    False, False, False, False, False, False, False, False,\n",
       "                     True,  True,  True,  True,  True,  True,  True,  True,\n",
       "                     True,  True,  True,  True,  True,  True,  True,  True,\n",
       "                     True,  True,  True,  True],\n",
       "        fill_value='?',\n",
       "             dtype=object),\n",
       " 'param_kernel': masked_array(data=['sigmoid', 'rbf', 'sigmoid', 'rbf', 'sigmoid', 'rbf',\n",
       "                    'sigmoid', 'rbf', 'sigmoid', 'rbf', 'sigmoid', 'rbf',\n",
       "                    'sigmoid', 'rbf', 'sigmoid', 'rbf', 'sigmoid', 'rbf',\n",
       "                    'sigmoid', 'rbf', 'sigmoid', 'rbf', 'sigmoid', 'rbf',\n",
       "                    'sigmoid', 'rbf', 'sigmoid', 'rbf', 'sigmoid', 'rbf',\n",
       "                    'sigmoid', 'rbf', 'sigmoid', 'rbf', 'sigmoid', 'rbf',\n",
       "                    'sigmoid', 'rbf', 'sigmoid', 'rbf', 'sigmoid', 'rbf',\n",
       "                    'sigmoid', 'rbf', 'sigmoid', 'rbf', 'sigmoid', 'rbf',\n",
       "                    'sigmoid', 'rbf', 'sigmoid', 'rbf', 'sigmoid', 'rbf',\n",
       "                    'sigmoid', 'rbf', 'sigmoid', 'rbf', 'sigmoid', 'rbf',\n",
       "                    'sigmoid', 'rbf', 'sigmoid', 'rbf', 'sigmoid', 'rbf',\n",
       "                    'sigmoid', 'rbf', 'sigmoid', 'rbf', 'sigmoid', 'rbf',\n",
       "                    'sigmoid', 'rbf', 'sigmoid', 'rbf', 'sigmoid', 'rbf',\n",
       "                    'sigmoid', 'rbf', 'linear', 'linear', 'linear',\n",
       "                    'linear', 'linear', 'linear', 'linear', 'linear',\n",
       "                    'linear', 'linear', 'linear', 'linear', 'linear',\n",
       "                    'linear', 'linear', 'linear', 'linear', 'linear',\n",
       "                    'linear', 'linear'],\n",
       "              mask=[False, False, False, False, False, False, False, False,\n",
       "                    False, False, False, False, False, False, False, False,\n",
       "                    False, False, False, False, False, False, False, False,\n",
       "                    False, False, False, False, False, False, False, False,\n",
       "                    False, False, False, False, False, False, False, False,\n",
       "                    False, False, False, False, False, False, False, False,\n",
       "                    False, False, False, False, False, False, False, False,\n",
       "                    False, False, False, False, False, False, False, False,\n",
       "                    False, False, False, False, False, False, False, False,\n",
       "                    False, False, False, False, False, False, False, False,\n",
       "                    False, False, False, False, False, False, False, False,\n",
       "                    False, False, False, False, False, False, False, False,\n",
       "                    False, False, False, False],\n",
       "        fill_value='?',\n",
       "             dtype=object),\n",
       " 'params': [{'C': 1, 'gamma': 'scale', 'kernel': 'sigmoid'},\n",
       "  {'C': 1, 'gamma': 'scale', 'kernel': 'rbf'},\n",
       "  {'C': 1, 'gamma': 'auto', 'kernel': 'sigmoid'},\n",
       "  {'C': 1, 'gamma': 'auto', 'kernel': 'rbf'},\n",
       "  {'C': 2, 'gamma': 'scale', 'kernel': 'sigmoid'},\n",
       "  {'C': 2, 'gamma': 'scale', 'kernel': 'rbf'},\n",
       "  {'C': 2, 'gamma': 'auto', 'kernel': 'sigmoid'},\n",
       "  {'C': 2, 'gamma': 'auto', 'kernel': 'rbf'},\n",
       "  {'C': 3, 'gamma': 'scale', 'kernel': 'sigmoid'},\n",
       "  {'C': 3, 'gamma': 'scale', 'kernel': 'rbf'},\n",
       "  {'C': 3, 'gamma': 'auto', 'kernel': 'sigmoid'},\n",
       "  {'C': 3, 'gamma': 'auto', 'kernel': 'rbf'},\n",
       "  {'C': 4, 'gamma': 'scale', 'kernel': 'sigmoid'},\n",
       "  {'C': 4, 'gamma': 'scale', 'kernel': 'rbf'},\n",
       "  {'C': 4, 'gamma': 'auto', 'kernel': 'sigmoid'},\n",
       "  {'C': 4, 'gamma': 'auto', 'kernel': 'rbf'},\n",
       "  {'C': 5, 'gamma': 'scale', 'kernel': 'sigmoid'},\n",
       "  {'C': 5, 'gamma': 'scale', 'kernel': 'rbf'},\n",
       "  {'C': 5, 'gamma': 'auto', 'kernel': 'sigmoid'},\n",
       "  {'C': 5, 'gamma': 'auto', 'kernel': 'rbf'},\n",
       "  {'C': 6, 'gamma': 'scale', 'kernel': 'sigmoid'},\n",
       "  {'C': 6, 'gamma': 'scale', 'kernel': 'rbf'},\n",
       "  {'C': 6, 'gamma': 'auto', 'kernel': 'sigmoid'},\n",
       "  {'C': 6, 'gamma': 'auto', 'kernel': 'rbf'},\n",
       "  {'C': 7, 'gamma': 'scale', 'kernel': 'sigmoid'},\n",
       "  {'C': 7, 'gamma': 'scale', 'kernel': 'rbf'},\n",
       "  {'C': 7, 'gamma': 'auto', 'kernel': 'sigmoid'},\n",
       "  {'C': 7, 'gamma': 'auto', 'kernel': 'rbf'},\n",
       "  {'C': 8, 'gamma': 'scale', 'kernel': 'sigmoid'},\n",
       "  {'C': 8, 'gamma': 'scale', 'kernel': 'rbf'},\n",
       "  {'C': 8, 'gamma': 'auto', 'kernel': 'sigmoid'},\n",
       "  {'C': 8, 'gamma': 'auto', 'kernel': 'rbf'},\n",
       "  {'C': 9, 'gamma': 'scale', 'kernel': 'sigmoid'},\n",
       "  {'C': 9, 'gamma': 'scale', 'kernel': 'rbf'},\n",
       "  {'C': 9, 'gamma': 'auto', 'kernel': 'sigmoid'},\n",
       "  {'C': 9, 'gamma': 'auto', 'kernel': 'rbf'},\n",
       "  {'C': 10, 'gamma': 'scale', 'kernel': 'sigmoid'},\n",
       "  {'C': 10, 'gamma': 'scale', 'kernel': 'rbf'},\n",
       "  {'C': 10, 'gamma': 'auto', 'kernel': 'sigmoid'},\n",
       "  {'C': 10, 'gamma': 'auto', 'kernel': 'rbf'},\n",
       "  {'C': 11, 'gamma': 'scale', 'kernel': 'sigmoid'},\n",
       "  {'C': 11, 'gamma': 'scale', 'kernel': 'rbf'},\n",
       "  {'C': 11, 'gamma': 'auto', 'kernel': 'sigmoid'},\n",
       "  {'C': 11, 'gamma': 'auto', 'kernel': 'rbf'},\n",
       "  {'C': 12, 'gamma': 'scale', 'kernel': 'sigmoid'},\n",
       "  {'C': 12, 'gamma': 'scale', 'kernel': 'rbf'},\n",
       "  {'C': 12, 'gamma': 'auto', 'kernel': 'sigmoid'},\n",
       "  {'C': 12, 'gamma': 'auto', 'kernel': 'rbf'},\n",
       "  {'C': 13, 'gamma': 'scale', 'kernel': 'sigmoid'},\n",
       "  {'C': 13, 'gamma': 'scale', 'kernel': 'rbf'},\n",
       "  {'C': 13, 'gamma': 'auto', 'kernel': 'sigmoid'},\n",
       "  {'C': 13, 'gamma': 'auto', 'kernel': 'rbf'},\n",
       "  {'C': 14, 'gamma': 'scale', 'kernel': 'sigmoid'},\n",
       "  {'C': 14, 'gamma': 'scale', 'kernel': 'rbf'},\n",
       "  {'C': 14, 'gamma': 'auto', 'kernel': 'sigmoid'},\n",
       "  {'C': 14, 'gamma': 'auto', 'kernel': 'rbf'},\n",
       "  {'C': 15, 'gamma': 'scale', 'kernel': 'sigmoid'},\n",
       "  {'C': 15, 'gamma': 'scale', 'kernel': 'rbf'},\n",
       "  {'C': 15, 'gamma': 'auto', 'kernel': 'sigmoid'},\n",
       "  {'C': 15, 'gamma': 'auto', 'kernel': 'rbf'},\n",
       "  {'C': 16, 'gamma': 'scale', 'kernel': 'sigmoid'},\n",
       "  {'C': 16, 'gamma': 'scale', 'kernel': 'rbf'},\n",
       "  {'C': 16, 'gamma': 'auto', 'kernel': 'sigmoid'},\n",
       "  {'C': 16, 'gamma': 'auto', 'kernel': 'rbf'},\n",
       "  {'C': 17, 'gamma': 'scale', 'kernel': 'sigmoid'},\n",
       "  {'C': 17, 'gamma': 'scale', 'kernel': 'rbf'},\n",
       "  {'C': 17, 'gamma': 'auto', 'kernel': 'sigmoid'},\n",
       "  {'C': 17, 'gamma': 'auto', 'kernel': 'rbf'},\n",
       "  {'C': 18, 'gamma': 'scale', 'kernel': 'sigmoid'},\n",
       "  {'C': 18, 'gamma': 'scale', 'kernel': 'rbf'},\n",
       "  {'C': 18, 'gamma': 'auto', 'kernel': 'sigmoid'},\n",
       "  {'C': 18, 'gamma': 'auto', 'kernel': 'rbf'},\n",
       "  {'C': 19, 'gamma': 'scale', 'kernel': 'sigmoid'},\n",
       "  {'C': 19, 'gamma': 'scale', 'kernel': 'rbf'},\n",
       "  {'C': 19, 'gamma': 'auto', 'kernel': 'sigmoid'},\n",
       "  {'C': 19, 'gamma': 'auto', 'kernel': 'rbf'},\n",
       "  {'C': 20, 'gamma': 'scale', 'kernel': 'sigmoid'},\n",
       "  {'C': 20, 'gamma': 'scale', 'kernel': 'rbf'},\n",
       "  {'C': 20, 'gamma': 'auto', 'kernel': 'sigmoid'},\n",
       "  {'C': 20, 'gamma': 'auto', 'kernel': 'rbf'},\n",
       "  {'C': 1, 'kernel': 'linear'},\n",
       "  {'C': 2, 'kernel': 'linear'},\n",
       "  {'C': 3, 'kernel': 'linear'},\n",
       "  {'C': 4, 'kernel': 'linear'},\n",
       "  {'C': 5, 'kernel': 'linear'},\n",
       "  {'C': 6, 'kernel': 'linear'},\n",
       "  {'C': 7, 'kernel': 'linear'},\n",
       "  {'C': 8, 'kernel': 'linear'},\n",
       "  {'C': 9, 'kernel': 'linear'},\n",
       "  {'C': 10, 'kernel': 'linear'},\n",
       "  {'C': 11, 'kernel': 'linear'},\n",
       "  {'C': 12, 'kernel': 'linear'},\n",
       "  {'C': 13, 'kernel': 'linear'},\n",
       "  {'C': 14, 'kernel': 'linear'},\n",
       "  {'C': 15, 'kernel': 'linear'},\n",
       "  {'C': 16, 'kernel': 'linear'},\n",
       "  {'C': 17, 'kernel': 'linear'},\n",
       "  {'C': 18, 'kernel': 'linear'},\n",
       "  {'C': 19, 'kernel': 'linear'},\n",
       "  {'C': 20, 'kernel': 'linear'}],\n",
       " 'split0_test_score': array([0.81954887, 0.88721805, 0.78195489, 0.88721805, 0.81954887,\n",
       "        0.87969925, 0.76691729, 0.88721805, 0.82706767, 0.88721805,\n",
       "        0.76691729, 0.88721805, 0.84962406, 0.88721805, 0.80451128,\n",
       "        0.88721805, 0.80451128, 0.88721805, 0.80451128, 0.89473684,\n",
       "        0.80451128, 0.88721805, 0.80451128, 0.89473684, 0.84962406,\n",
       "        0.88721805, 0.79699248, 0.90225564, 0.81954887, 0.88721805,\n",
       "        0.80451128, 0.89473684, 0.81954887, 0.88721805, 0.80451128,\n",
       "        0.89473684, 0.81954887, 0.87969925, 0.81203008, 0.89473684,\n",
       "        0.83458647, 0.87969925, 0.81954887, 0.90225564, 0.83458647,\n",
       "        0.87969925, 0.81954887, 0.90225564, 0.81954887, 0.87969925,\n",
       "        0.81954887, 0.90225564, 0.81954887, 0.87969925, 0.81954887,\n",
       "        0.90225564, 0.81954887, 0.87969925, 0.81954887, 0.90225564,\n",
       "        0.81203008, 0.87969925, 0.81954887, 0.90225564, 0.81203008,\n",
       "        0.87969925, 0.81954887, 0.90225564, 0.81203008, 0.87969925,\n",
       "        0.81954887, 0.90977444, 0.81203008, 0.87969925, 0.81954887,\n",
       "        0.90977444, 0.81203008, 0.87969925, 0.81954887, 0.90977444,\n",
       "        0.89473684, 0.89473684, 0.89473684, 0.90225564, 0.90225564,\n",
       "        0.90225564, 0.90225564, 0.90225564, 0.90225564, 0.90225564,\n",
       "        0.90225564, 0.90225564, 0.90225564, 0.90225564, 0.90225564,\n",
       "        0.90225564, 0.90225564, 0.90225564, 0.90225564, 0.90225564]),\n",
       " 'split1_test_score': array([0.84210526, 0.87969925, 0.86466165, 0.90977444, 0.84210526,\n",
       "        0.89473684, 0.86466165, 0.92481203, 0.84962406, 0.91729323,\n",
       "        0.85714286, 0.92481203, 0.84962406, 0.91729323, 0.86466165,\n",
       "        0.93233083, 0.84962406, 0.91729323, 0.85714286, 0.93984962,\n",
       "        0.86466165, 0.91729323, 0.86466165, 0.93984962, 0.86466165,\n",
       "        0.93233083, 0.86466165, 0.93984962, 0.85714286, 0.93233083,\n",
       "        0.86466165, 0.93984962, 0.85714286, 0.93233083, 0.84210526,\n",
       "        0.93984962, 0.86466165, 0.93233083, 0.84210526, 0.93984962,\n",
       "        0.86466165, 0.93233083, 0.84210526, 0.93984962, 0.86466165,\n",
       "        0.93233083, 0.86466165, 0.93984962, 0.85714286, 0.93233083,\n",
       "        0.86466165, 0.93984962, 0.85714286, 0.93233083, 0.86466165,\n",
       "        0.93984962, 0.85714286, 0.93233083, 0.86466165, 0.93984962,\n",
       "        0.85714286, 0.93233083, 0.86466165, 0.93984962, 0.85714286,\n",
       "        0.93233083, 0.86466165, 0.93984962, 0.85714286, 0.93984962,\n",
       "        0.86466165, 0.93233083, 0.85714286, 0.93984962, 0.86466165,\n",
       "        0.93233083, 0.85714286, 0.93984962, 0.84210526, 0.93233083,\n",
       "        0.90977444, 0.90977444, 0.91729323, 0.91729323, 0.91729323,\n",
       "        0.91729323, 0.91729323, 0.91729323, 0.91729323, 0.91729323,\n",
       "        0.91729323, 0.91729323, 0.91729323, 0.91729323, 0.91729323,\n",
       "        0.91729323, 0.91729323, 0.91729323, 0.91729323, 0.91729323]),\n",
       " 'split2_test_score': array([0.83333333, 0.83333333, 0.78787879, 0.87878788, 0.87878788,\n",
       "        0.87878788, 0.81060606, 0.90909091, 0.87121212, 0.88636364,\n",
       "        0.81060606, 0.91666667, 0.89393939, 0.89393939, 0.8030303 ,\n",
       "        0.91666667, 0.87121212, 0.90151515, 0.79545455, 0.93181818,\n",
       "        0.87878788, 0.90151515, 0.79545455, 0.93181818, 0.88636364,\n",
       "        0.90909091, 0.8030303 , 0.93181818, 0.87878788, 0.90909091,\n",
       "        0.79545455, 0.93181818, 0.88636364, 0.90909091, 0.8030303 ,\n",
       "        0.93181818, 0.88636364, 0.90909091, 0.8030303 , 0.93181818,\n",
       "        0.82575758, 0.90909091, 0.83333333, 0.93181818, 0.82575758,\n",
       "        0.91666667, 0.83333333, 0.93181818, 0.82575758, 0.91666667,\n",
       "        0.8030303 , 0.93181818, 0.82575758, 0.91666667, 0.79545455,\n",
       "        0.93181818, 0.83333333, 0.91666667, 0.79545455, 0.92424242,\n",
       "        0.83333333, 0.91666667, 0.8030303 , 0.92424242, 0.83333333,\n",
       "        0.91666667, 0.79545455, 0.92424242, 0.83333333, 0.91666667,\n",
       "        0.79545455, 0.92424242, 0.83333333, 0.92424242, 0.79545455,\n",
       "        0.92424242, 0.83333333, 0.92424242, 0.79545455, 0.92424242,\n",
       "        0.91666667, 0.92424242, 0.91666667, 0.91666667, 0.91666667,\n",
       "        0.91666667, 0.91666667, 0.91666667, 0.92424242, 0.92424242,\n",
       "        0.92424242, 0.92424242, 0.92424242, 0.92424242, 0.92424242,\n",
       "        0.92424242, 0.91666667, 0.91666667, 0.91666667, 0.91666667]),\n",
       " 'mean_test_score': array([0.83166249, 0.86675021, 0.81149844, 0.89192679, 0.846814  ,\n",
       "        0.88440799, 0.81406167, 0.90704033, 0.84930128, 0.8969583 ,\n",
       "        0.8115554 , 0.90956558, 0.86439584, 0.89948356, 0.82406775,\n",
       "        0.91207185, 0.84178249, 0.90200881, 0.81903623, 0.92213488,\n",
       "        0.84932027, 0.90200881, 0.82154249, 0.92213488, 0.86688312,\n",
       "        0.90954659, 0.82156148, 0.92464115, 0.85182654, 0.90954659,\n",
       "        0.82154249, 0.92213488, 0.85435179, 0.90954659, 0.81654895,\n",
       "        0.92213488, 0.85685805, 0.90704033, 0.81905521, 0.92213488,\n",
       "        0.84166857, 0.90704033, 0.83166249, 0.92464115, 0.84166857,\n",
       "        0.90956558, 0.83918129, 0.92464115, 0.83414977, 0.90956558,\n",
       "        0.82908028, 0.92464115, 0.83414977, 0.90956558, 0.82655502,\n",
       "        0.92464115, 0.83667502, 0.90956558, 0.82655502, 0.9221159 ,\n",
       "        0.83416876, 0.90956558, 0.82908028, 0.9221159 , 0.83416876,\n",
       "        0.90956558, 0.82655502, 0.9221159 , 0.83416876, 0.91207185,\n",
       "        0.82655502, 0.9221159 , 0.83416876, 0.9145971 , 0.82655502,\n",
       "        0.9221159 , 0.83416876, 0.9145971 , 0.81903623, 0.9221159 ,\n",
       "        0.90705931, 0.90958457, 0.90956558, 0.91207185, 0.91207185,\n",
       "        0.91207185, 0.91207185, 0.91207185, 0.9145971 , 0.9145971 ,\n",
       "        0.9145971 , 0.9145971 , 0.9145971 , 0.9145971 , 0.9145971 ,\n",
       "        0.9145971 , 0.91207185, 0.91207185, 0.91207185, 0.91207185]),\n",
       " 'std_test_score': array([0.00928409, 0.02382784, 0.03766978, 0.01308105, 0.02441235,\n",
       "        0.00731307, 0.03997871, 0.01541602, 0.01802334, 0.0143832 ,\n",
       "        0.03684055, 0.01614819, 0.02089045, 0.01288882, 0.0287106 ,\n",
       "        0.01870161, 0.02778931, 0.01228311, 0.02719795, 0.01964884,\n",
       "        0.0322053 , 0.01228311, 0.03071322, 0.01964884, 0.0150809 ,\n",
       "        0.01842003, 0.03057594, 0.01616497, 0.02447465, 0.01842003,\n",
       "        0.03071322, 0.01964884, 0.02734832, 0.01842003, 0.01808116,\n",
       "        0.01964884, 0.02782954, 0.02153562, 0.01670783, 0.01964884,\n",
       "        0.01665331, 0.02153562, 0.00928409, 0.01616497, 0.01665331,\n",
       "        0.02206566, 0.01887573, 0.01616497, 0.01645496, 0.02206566,\n",
       "        0.02604793, 0.01616497, 0.01645496, 0.02206566, 0.02868473,\n",
       "        0.01616497, 0.01552851, 0.02206566, 0.02868473, 0.01542117,\n",
       "        0.01842669, 0.02206566, 0.02604793, 0.01542117, 0.01842669,\n",
       "        0.02206566, 0.02868473, 0.01542117, 0.01842669, 0.02477029,\n",
       "        0.02868473, 0.00933057, 0.01842669, 0.02548583, 0.02868473,\n",
       "        0.00933057, 0.01842669, 0.02548583, 0.01904853, 0.00933057,\n",
       "        0.00915635, 0.01204635, 0.01048862, 0.00694582, 0.00694582,\n",
       "        0.00694582, 0.00694582, 0.00694582, 0.00917629, 0.00917629,\n",
       "        0.00917629, 0.00917629, 0.00917629, 0.00917629, 0.00917629,\n",
       "        0.00917629, 0.00694582, 0.00694582, 0.00694582, 0.00694582]),\n",
       " 'rank_test_score': array([ 81,  61, 100,  58,  68,  59,  98,  51,  67,  57,  99,  39,  62,\n",
       "         56,  90,  27,  69,  54,  95,   6,  66,  54,  92,   6,  60,  47,\n",
       "         91,   1,  65,  47,  92,   6,  64,  47,  97,   6,  63,  51,  94,\n",
       "          6,  70,  51,  81,   1,  70,  39,  72,   1,  79,  39,  83,   1,\n",
       "         79,  39,  85,   1,  73,  39,  85,  11,  74,  39,  83,  11,  74,\n",
       "         39,  85,  11,  74,  27,  85,  11,  74,  17,  85,  11,  74,  17,\n",
       "         95,  11,  50,  38,  39,  27,  27,  27,  27,  27,  17,  17,  17,\n",
       "         17,  17,  17,  17,  17,  27,  27,  27,  27])}"
      ]
     },
     "execution_count": 23,
     "metadata": {},
     "output_type": "execute_result"
    }
   ],
   "source": [
    "grid.cv_results_"
   ]
  },
  {
   "cell_type": "code",
   "execution_count": 24,
   "metadata": {},
   "outputs": [
    {
     "name": "stdout",
     "output_type": "stream",
     "text": [
      "{'C': 7, 'gamma': 'auto', 'kernel': 'rbf'}\n",
      "0.9246411483253588\n"
     ]
    }
   ],
   "source": [
    "print(grid.best_params_)\n",
    "print(grid.best_score_) # best parameter로 얻은 best Recall (재현율) 값"
   ]
  },
  {
   "cell_type": "markdown",
   "metadata": {},
   "source": [
    "* Linear SVM과 Non-linear SVM 중 sigmoid kernel, 그리고 gaussian kernel을 사용한 SVM.  \n",
    "총 3가지의 SVM Model들을 사용했고, 재현율(Recall)을 기준으로 가장 좋은 모델은 Gaussian SVM 이었다."
   ]
  },
  {
   "cell_type": "markdown",
   "metadata": {},
   "source": [
    "* scoring 기준은 데이터 특성 상 recall(진짜 양성 중 예측 양성)을 선택하였다.  \n",
    "사기인지(=True인지) 사기가 아닌지(=False인지)를 구별해내야 하는 경우 accuracy가 낮더라도  \n",
    "실제 사기인 것 중에서 예측한 사기의 비율이 높으면 (높은 확률로 사기임을 예측해내면) 좋은 모델이기 때문이다."
   ]
  },
  {
   "cell_type": "code",
   "execution_count": 25,
   "metadata": {},
   "outputs": [
    {
     "data": {
      "text/plain": [
       "array([[385,   4],\n",
       "       [ 17, 381]], dtype=int64)"
      ]
     },
     "execution_count": 25,
     "metadata": {},
     "output_type": "execute_result"
    }
   ],
   "source": [
    "model1 = SVC(C=9, gamma = 'auto', kernel='rbf') # Non-linear SVM & Gaussian kernel 사용\n",
    "model1.fit(X_train_s, y_train)\n",
    "model1_pred = model1.predict(X_train_s)\n",
    "confusion_matrix(y_train, model1_pred) # X_train을 가지고 예측한 값과 y_train의 confusion matrix"
   ]
  },
  {
   "cell_type": "markdown",
   "metadata": {},
   "source": [
    "True와 False 모두가 대체로 올바르게 분류되고 있다."
   ]
  },
  {
   "cell_type": "code",
   "execution_count": 26,
   "metadata": {},
   "outputs": [
    {
     "data": {
      "text/plain": [
       "array([106, 133])"
      ]
     },
     "execution_count": 26,
     "metadata": {},
     "output_type": "execute_result"
    }
   ],
   "source": [
    "model1.n_support_ # 각 클래스당 서포트의 개수"
   ]
  },
  {
   "cell_type": "markdown",
   "metadata": {},
   "source": [
    "### Data Scores"
   ]
  },
  {
   "cell_type": "markdown",
   "metadata": {},
   "source": [
    "Test data를 가지고 모델을 평가한 결과는 다음과 같다."
   ]
  },
  {
   "cell_type": "code",
   "execution_count": 27,
   "metadata": {},
   "outputs": [
    {
     "name": "stdout",
     "output_type": "stream",
     "text": [
      "accuracy :  0.9238578680203046\n",
      "precision :  0.9247311827956989\n",
      "recall :  0.9148936170212766\n",
      "f1_score :  0.9197860962566845\n"
     ]
    }
   ],
   "source": [
    "print('accuracy : ', model1.score(X_test_s, y_test)) # Accuracy (정확한 예측 비율)\n",
    "print('precision : ', precision_score(y_test, model1.predict(X_test_s))) # Precision (예측 사기 중 진짜 사기)\n",
    "print('recall : ', recall_score(y_test, model1.predict(X_test_s))) # Recall (진짜 사기 중 예측 사기)\n",
    "print('f1_score : ', f1_score(y_test, model1.predict(X_test_s))) # Precision과 Recall의 조화 평균"
   ]
  },
  {
   "cell_type": "markdown",
   "metadata": {},
   "source": [
    "모든 score가 대체로 적당히 높다. Balanced Dataset에서 이정도의 모델 평가 지표를 갖는 다는 것은 위 모델이 아주 적합한 모델이라고 말할 수 있다."
   ]
  },
  {
   "cell_type": "markdown",
   "metadata": {},
   "source": [
    "### Conclusion \n",
    "  \n",
    "  \n",
    "  \n",
    "1. Imbalanced한 데이터를 다루는 데에는 minority의 sample을 더 만들어내는 oversampling과, majority의 sample을 랜덤하게 제거하는 undersampling이 있다. 위 과제에서는 후자를 선택하여 진행하였고, 그 결과 변수 간 상관관계를 증가시킨 data를 분석에 사용할 수 있었다.  \n",
    "  \n",
    "  \n",
    "2. GridSearch 에서 test한 svm은 Linear SVM, sigmoid kernel을 사용한 Nonlinear SVM, gaussian kernel을 사용한 Nonlinear SVM 총 세가지이다.\n",
    "  이 중 optimal model로 선택된 것은 gaussian kernel을 사용한 Nonlinear SVM이다. (거의 대부분 그렇다고 한다.)  \n",
    "  \n",
    "  \n",
    "3. 사실 Gaussian kernel의 단점은 데이터가 크면 시간이 많이 걸린다는 것인데, 위 분석에서는 big data를 undersampling 하였기 때문에 불편함을 느끼진 않았다.  \n",
    "  \n",
    "  \n",
    "4. 또한 사기 데이터 특성 상, 실제 사기 케이스를 얼마나 올바르게 예측해내냐가 중요하기 때문에 Grid Search 에서 scoring 옵션을 재현율(recall)로 설정하였다. 물론 다른 accuracy, precision, f1_score 등도 적당히 높은 값을 보인다."
   ]
  }
 ],
 "metadata": {
  "colab": {
   "name": "assignment_2.ipynb의 사본",
   "provenance": []
  },
  "file_extension": ".py",
  "kernelspec": {
   "display_name": "Python 3",
   "language": "python",
   "name": "python3"
  },
  "language_info": {
   "codemirror_mode": {
    "name": "ipython",
    "version": 3
   },
   "file_extension": ".py",
   "mimetype": "text/x-python",
   "name": "python",
   "nbconvert_exporter": "python",
   "pygments_lexer": "ipython3",
   "version": "3.7.6"
  },
  "mimetype": "text/x-python",
  "name": "python",
  "npconvert_exporter": "python",
  "pygments_lexer": "ipython3",
  "version": 3
 },
 "nbformat": 4,
 "nbformat_minor": 1
}
