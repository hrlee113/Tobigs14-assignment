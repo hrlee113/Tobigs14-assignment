{
 "cells": [
  {
   "cell_type": "markdown",
   "metadata": {},
   "source": [
    "# Crawling_assignment1_Tobigs14_이혜린"
   ]
  },
  {
   "cell_type": "markdown",
   "metadata": {
    "colab_type": "text",
    "id": "sBJnrfCe78tk"
   },
   "source": [
    "# 네이버 자주 본 뉴스 크롤링\n",
    "\n",
    "1) 수집내용\n",
    "\n",
    "    1) 많이본뉴스–섹션별(정치~IT/과학)Top5기사제목,신문사,뷰 \n",
    "    2) 해당 기사별 기사 내용, 리액션 (좋아요 ~ 후속기사 원해요)\n",
    "    \n",
    "2) 수집방법(택1)\n",
    "\n",
    "    1) [기본] Requests , BeautifulSoup, Selenium\n",
    "    2) [심화] Requests, BeautifulSoup (+ 멀티프로세싱)\n",
    "    \n",
    "3) 수집범위 및 저장\n",
    "\n",
    "    1) 2019년7월21일~2020년8월20일(동작가능,실제구동x)\n",
    "    2) 하나의 파일로 저장 (방식 자유)\n",
    "    3) Ex)총6섹션*Top5*365일=10950rows"
   ]
  },
  {
   "cell_type": "code",
   "execution_count": 1,
   "metadata": {
    "colab": {},
    "colab_type": "code",
    "id": "0bo9BROi78tv"
   },
   "outputs": [],
   "source": [
    "import requests\n",
    "import pandas as pd\n",
    "from bs4 import BeautifulSoup\n",
    "\n",
    "from IPython.display import Image\n",
    "import os\n",
    "from pathlib import Path\n",
    "import glob\n",
    "\n",
    "import datetime"
   ]
  },
  {
   "cell_type": "markdown",
   "metadata": {
    "colab_type": "text",
    "id": "c9AxGo0w78vU"
   },
   "source": [
    "## 날짜 String 생성"
   ]
  },
  {
   "cell_type": "code",
   "execution_count": 2,
   "metadata": {
    "colab": {
     "base_uri": "https://localhost:8080/",
     "height": 35
    },
    "colab_type": "code",
    "executionInfo": {
     "elapsed": 1555,
     "status": "ok",
     "timestamp": 1598079170810,
     "user": {
      "displayName": "‎이혜린(자연과학대학 통계학과)",
      "photoUrl": "",
      "userId": "17465505332261896018"
     },
     "user_tz": -540
    },
    "id": "gOKFFucr78vX",
    "outputId": "1a1d9d8d-3c12-48e7-8860-606eb042b61c"
   },
   "outputs": [],
   "source": [
    "start_date = datetime.datetime(2019, 7, 21, 3, 22, 32)\n",
    "# start_date.strftime(\"%Y%m%d %Y-%m-%d 시간 표시외 %H:%M:%S 아무거나 넣어도 됩니다.\") #strftime 활용 예시"
   ]
  },
  {
   "cell_type": "code",
   "execution_count": 3,
   "metadata": {
    "colab": {},
    "colab_type": "code",
    "id": "dnG5COY878v2"
   },
   "outputs": [],
   "source": [
    "def get_date_string(start_date, period=365):\n",
    "    # 20190721 형태의 Date String List 생성\n",
    "    return [\n",
    "        (start_date + datetime.timedelta(days=day)).strftime(\"%Y%m%d\")\n",
    "        for day in range(period)\n",
    "    ]"
   ]
  },
  {
   "cell_type": "code",
   "execution_count": 4,
   "metadata": {
    "colab": {},
    "colab_type": "code",
    "id": "YjpVgwdx78wH"
   },
   "outputs": [],
   "source": [
    "date_string_list = get_date_string(start_date, 366)"
   ]
  },
  {
   "cell_type": "code",
   "execution_count": 5,
   "metadata": {
    "colab": {
     "base_uri": "https://localhost:8080/",
     "height": 34
    },
    "colab_type": "code",
    "executionInfo": {
     "elapsed": 1193,
     "status": "ok",
     "timestamp": 1598079178273,
     "user": {
      "displayName": "‎이혜린(자연과학대학 통계학과)",
      "photoUrl": "",
      "userId": "17465505332261896018"
     },
     "user_tz": -540
    },
    "id": "qvl7qPfx78ws",
    "outputId": "7d8c32df-c3d6-4fa5-af40-a7e9ff69fe5a"
   },
   "outputs": [
    {
     "data": {
      "text/plain": [
       "('20190721', '20200720')"
      ]
     },
     "execution_count": 5,
     "metadata": {},
     "output_type": "execute_result"
    }
   ],
   "source": [
    "date_string_list[0], date_string_list[-1] # 생성 완료"
   ]
  },
  {
   "cell_type": "markdown",
   "metadata": {
    "colab_type": "text",
    "id": "rIFcdE7M78xB"
   },
   "source": [
    "## Part 1. Request를 이용한 크롤링"
   ]
  },
  {
   "cell_type": "code",
   "execution_count": 6,
   "metadata": {
    "colab": {},
    "colab_type": "code",
    "id": "Ll9lndB578xG"
   },
   "outputs": [],
   "source": [
    "def get_top_news(date):\n",
    "    \"\"\"\n",
    "    해당 날짜의 자주 본 뉴스 25개에 대한 정보를 반환하는 함수입니다.\n",
    "    \"\"\"\n",
    "    url = f\"https://news.naver.com/main/ranking/popularDay.nhn?rankingType=popular_day&date={date}\" \n",
    "    # 이부분을 잘 채워넣어주세요 (네이버 뉴스 자주보는 뉴스 링크에서 date를 제외한 부분)\n",
    "    \n",
    "    res = requests.get(url)\n",
    "    soup = BeautifulSoup(res.text, \"html.parser\", from_encoding='euc-kr')\n",
    "\n",
    "    # 1. 신문 제목\n",
    "    titles_html = soup.select('.ranking_section > ol > li > dl > dt > a')\n",
    "\n",
    "    # 2. 기사 링크\n",
    "    link_list = []\n",
    "    for a in soup.select(\"li > dl > dt > a \"):\n",
    "        link_list.append(a['href'])\n",
    "\n",
    "    # 3. 신문사명\n",
    "    name_list = []\n",
    "    for dl in soup.select(\"li > dl\"):\n",
    "        name_list.append(dl.select('span')[-2].text.strip())\n",
    "\n",
    "    # 4. View\n",
    "    view_html = soup.select('li i')\n",
    "    \n",
    "    result = []\n",
    "\n",
    "    for i in range(len(titles_html)):\n",
    "        result.append([titles_html[i].text, link_list[i], name_list[i], view_html[i].text])\n",
    "    \n",
    "    \n",
    "    # soup.select를 잘 활용하여\n",
    "    # 1. 신문 제목\n",
    "    # 2. 기사 링크 (a tag의 href 속성) \n",
    "    # 3. 신문사명\n",
    "    # 4. View\n",
    "    \n",
    "    return result"
   ]
  },
  {
   "cell_type": "code",
   "execution_count": 7,
   "metadata": {
    "colab": {},
    "colab_type": "code",
    "id": "yofbh7_R78xd"
   },
   "outputs": [
    {
     "name": "stderr",
     "output_type": "stream",
     "text": [
      "C:\\Users\\hyeli\\anaconda3\\lib\\site-packages\\bs4\\__init__.py:203: UserWarning: You provided Unicode markup but also provided a value for from_encoding. Your from_encoding will be ignored.\n",
      "  warnings.warn(\"You provided Unicode markup but also provided a value for from_encoding. Your from_encoding will be ignored.\")\n"
     ]
    }
   ],
   "source": [
    "TEST_DATE_RANGE = 20 # 1년치 전체를 하는 것이 아닌 앞 20일치만 테스트 해보기 위함 (개인적으로 바꿔도 무방)\n",
    "\n",
    "news_data = []\n",
    "for date in date_string_list[:TEST_DATE_RANGE]:\n",
    "     news_data.extend(get_top_news(date)) # 결과로 나온 20개를 이어 붙임"
   ]
  },
  {
   "cell_type": "code",
   "execution_count": 8,
   "metadata": {
    "colab": {
     "base_uri": "https://localhost:8080/",
     "height": 34
    },
    "colab_type": "code",
    "executionInfo": {
     "elapsed": 5665,
     "status": "ok",
     "timestamp": 1598086576423,
     "user": {
      "displayName": "‎이혜린(자연과학대학 통계학과)",
      "photoUrl": "",
      "userId": "17465505332261896018"
     },
     "user_tz": -540
    },
    "id": "IsB57YCl78xz",
    "outputId": "4eefbe37-1ecb-4cd9-95a0-2c9f7512c0c6"
   },
   "outputs": [
    {
     "data": {
      "text/plain": [
       "600"
      ]
     },
     "execution_count": 8,
     "metadata": {},
     "output_type": "execute_result"
    }
   ],
   "source": [
    "len(news_data) # 20일 * 30개 = 600개 >>>> CORRECT!!!"
   ]
  },
  {
   "cell_type": "code",
   "execution_count": 9,
   "metadata": {
    "colab": {
     "base_uri": "https://localhost:8080/",
     "height": 369
    },
    "colab_type": "code",
    "executionInfo": {
     "elapsed": 3631,
     "status": "ok",
     "timestamp": 1598086576427,
     "user": {
      "displayName": "‎이혜린(자연과학대학 통계학과)",
      "photoUrl": "",
      "userId": "17465505332261896018"
     },
     "user_tz": -540
    },
    "id": "-T_MPecU78yC",
    "outputId": "f4c5cc85-9058-4e6b-cf35-f623f8cc832f"
   },
   "outputs": [
    {
     "data": {
      "text/plain": [
       "[['[단독] 황교안 딸 운영 사이트, 대학 진학 후 왜 문 닫았나',\n",
       "  '/main/ranking/read.nhn?mid=etc&sid1=111&rankingType=popular_day&oid=032&aid=0002952683&date=20190721&type=1&rankingSectionId=100&rankingSeq=1',\n",
       "  '경향신문',\n",
       "  '201,039'],\n",
       " ['조국 폭풍페북, 日주장 정면반박…\"친일파\" 표현은 野 반발',\n",
       "  '/main/ranking/read.nhn?mid=etc&sid1=111&rankingType=popular_day&oid=008&aid=0004251344&date=20190721&type=1&rankingSectionId=100&rankingSeq=2',\n",
       "  '머니투데이',\n",
       "  '185,396'],\n",
       " ['조국, 연일 對日 \\'항전\\' 주문…\"겁먹고 쫄지말자…싸워 이겨…',\n",
       "  '/main/ranking/read.nhn?mid=etc&sid1=111&rankingType=popular_day&oid=001&aid=0010969325&date=20190721&type=1&rankingSectionId=100&rankingSeq=3',\n",
       "  '연합뉴스',\n",
       "  '130,198'],\n",
       " ['[김순덕의 도발]복수를 하려면 아일랜드처럼!',\n",
       "  '/main/ranking/read.nhn?mid=etc&sid1=111&rankingType=popular_day&oid=020&aid=0003230442&date=20190721&type=1&rankingSectionId=100&rankingSeq=4',\n",
       "  '동아일보',\n",
       "  '120,897'],\n",
       " ['조국, 또 페북에 反日 선전전...\"文정부, 서희·이순신 역할…',\n",
       "  '/main/ranking/read.nhn?mid=etc&sid1=111&rankingType=popular_day&oid=023&aid=0003462170&date=20190721&type=1&rankingSectionId=100&rankingSeq=5',\n",
       "  '조선일보',\n",
       "  '119,463']]"
      ]
     },
     "execution_count": 9,
     "metadata": {},
     "output_type": "execute_result"
    }
   ],
   "source": [
    "news_data[:5] # 결과 예시"
   ]
  },
  {
   "cell_type": "code",
   "execution_count": 10,
   "metadata": {
    "colab": {},
    "colab_type": "code",
    "id": "WX1lxPMQ78yR"
   },
   "outputs": [],
   "source": [
    "# 결과물을 데이터 프레임으로 변환 및 Column Name 부여\n",
    "df_top_news = pd.DataFrame(news_data, columns=[\"title\", \"url\", \"press\", \"views\"])"
   ]
  },
  {
   "cell_type": "code",
   "execution_count": 11,
   "metadata": {
    "colab": {
     "base_uri": "https://localhost:8080/",
     "height": 402
    },
    "colab_type": "code",
    "executionInfo": {
     "elapsed": 1312,
     "status": "ok",
     "timestamp": 1598086584202,
     "user": {
      "displayName": "‎이혜린(자연과학대학 통계학과)",
      "photoUrl": "",
      "userId": "17465505332261896018"
     },
     "user_tz": -540
    },
    "id": "QLm6ljp178ym",
    "outputId": "60ad597e-6aea-4ac0-a2cf-7ceef8653d4d"
   },
   "outputs": [
    {
     "data": {
      "text/html": [
       "<div>\n",
       "<style scoped>\n",
       "    .dataframe tbody tr th:only-of-type {\n",
       "        vertical-align: middle;\n",
       "    }\n",
       "\n",
       "    .dataframe tbody tr th {\n",
       "        vertical-align: top;\n",
       "    }\n",
       "\n",
       "    .dataframe thead th {\n",
       "        text-align: right;\n",
       "    }\n",
       "</style>\n",
       "<table border=\"1\" class=\"dataframe\">\n",
       "  <thead>\n",
       "    <tr style=\"text-align: right;\">\n",
       "      <th></th>\n",
       "      <th>title</th>\n",
       "      <th>url</th>\n",
       "      <th>press</th>\n",
       "      <th>views</th>\n",
       "    </tr>\n",
       "  </thead>\n",
       "  <tbody>\n",
       "    <tr>\n",
       "      <th>0</th>\n",
       "      <td>[단독] 황교안 딸 운영 사이트, 대학 진학 후 왜 문 닫았나</td>\n",
       "      <td>/main/ranking/read.nhn?mid=etc&amp;sid1=111&amp;rankin...</td>\n",
       "      <td>경향신문</td>\n",
       "      <td>201,039</td>\n",
       "    </tr>\n",
       "    <tr>\n",
       "      <th>1</th>\n",
       "      <td>조국 폭풍페북, 日주장 정면반박…\"친일파\" 표현은 野 반발</td>\n",
       "      <td>/main/ranking/read.nhn?mid=etc&amp;sid1=111&amp;rankin...</td>\n",
       "      <td>머니투데이</td>\n",
       "      <td>185,396</td>\n",
       "    </tr>\n",
       "    <tr>\n",
       "      <th>2</th>\n",
       "      <td>조국, 연일 對日 '항전' 주문…\"겁먹고 쫄지말자…싸워 이겨…</td>\n",
       "      <td>/main/ranking/read.nhn?mid=etc&amp;sid1=111&amp;rankin...</td>\n",
       "      <td>연합뉴스</td>\n",
       "      <td>130,198</td>\n",
       "    </tr>\n",
       "    <tr>\n",
       "      <th>3</th>\n",
       "      <td>[김순덕의 도발]복수를 하려면 아일랜드처럼!</td>\n",
       "      <td>/main/ranking/read.nhn?mid=etc&amp;sid1=111&amp;rankin...</td>\n",
       "      <td>동아일보</td>\n",
       "      <td>120,897</td>\n",
       "    </tr>\n",
       "    <tr>\n",
       "      <th>4</th>\n",
       "      <td>조국, 또 페북에 反日 선전전...\"文정부, 서희·이순신 역할…</td>\n",
       "      <td>/main/ranking/read.nhn?mid=etc&amp;sid1=111&amp;rankin...</td>\n",
       "      <td>조선일보</td>\n",
       "      <td>119,463</td>\n",
       "    </tr>\n",
       "    <tr>\n",
       "      <th>...</th>\n",
       "      <td>...</td>\n",
       "      <td>...</td>\n",
       "      <td>...</td>\n",
       "      <td>...</td>\n",
       "    </tr>\n",
       "    <tr>\n",
       "      <th>595</th>\n",
       "      <td>갤노트10 만져본 미국인들 \"실물 보고싶어 일부러 찾아와\"</td>\n",
       "      <td>/main/ranking/read.nhn?mid=etc&amp;sid1=111&amp;rankin...</td>\n",
       "      <td>서울경제</td>\n",
       "      <td>173,703</td>\n",
       "    </tr>\n",
       "    <tr>\n",
       "      <th>596</th>\n",
       "      <td>\"유튜브 뛰어드니\"…월급 295만→536만원 '껑충' vs 소득 '…</td>\n",
       "      <td>/main/ranking/read.nhn?mid=etc&amp;sid1=111&amp;rankin...</td>\n",
       "      <td>뉴스1</td>\n",
       "      <td>134,014</td>\n",
       "    </tr>\n",
       "    <tr>\n",
       "      <th>597</th>\n",
       "      <td>[SNS 세상] \"공감이 최고의 위로\" 암 투병기 연재하는 뷰티…</td>\n",
       "      <td>/main/ranking/read.nhn?mid=etc&amp;sid1=111&amp;rankin...</td>\n",
       "      <td>연합뉴스</td>\n",
       "      <td>111,786</td>\n",
       "    </tr>\n",
       "    <tr>\n",
       "      <th>598</th>\n",
       "      <td>네이버·카카오 2분기 성적표 '희비'…하반기 '페이전쟁' 격…</td>\n",
       "      <td>/main/ranking/read.nhn?mid=etc&amp;sid1=111&amp;rankin...</td>\n",
       "      <td>뉴스1</td>\n",
       "      <td>77,278</td>\n",
       "    </tr>\n",
       "    <tr>\n",
       "      <th>599</th>\n",
       "      <td>삼성전자 사장, 처음으로 '위기'를 말하다</td>\n",
       "      <td>/main/ranking/read.nhn?mid=etc&amp;sid1=111&amp;rankin...</td>\n",
       "      <td>조선일보</td>\n",
       "      <td>68,369</td>\n",
       "    </tr>\n",
       "  </tbody>\n",
       "</table>\n",
       "<p>600 rows × 4 columns</p>\n",
       "</div>"
      ],
      "text/plain": [
       "                                      title  \\\n",
       "0        [단독] 황교안 딸 운영 사이트, 대학 진학 후 왜 문 닫았나   \n",
       "1          조국 폭풍페북, 日주장 정면반박…\"친일파\" 표현은 野 반발   \n",
       "2        조국, 연일 對日 '항전' 주문…\"겁먹고 쫄지말자…싸워 이겨…   \n",
       "3                  [김순덕의 도발]복수를 하려면 아일랜드처럼!   \n",
       "4       조국, 또 페북에 反日 선전전...\"文정부, 서희·이순신 역할…   \n",
       "..                                      ...   \n",
       "595        갤노트10 만져본 미국인들 \"실물 보고싶어 일부러 찾아와\"   \n",
       "596  \"유튜브 뛰어드니\"…월급 295만→536만원 '껑충' vs 소득 '…   \n",
       "597    [SNS 세상] \"공감이 최고의 위로\" 암 투병기 연재하는 뷰티…   \n",
       "598      네이버·카카오 2분기 성적표 '희비'…하반기 '페이전쟁' 격…   \n",
       "599                 삼성전자 사장, 처음으로 '위기'를 말하다   \n",
       "\n",
       "                                                   url  press    views  \n",
       "0    /main/ranking/read.nhn?mid=etc&sid1=111&rankin...   경향신문  201,039  \n",
       "1    /main/ranking/read.nhn?mid=etc&sid1=111&rankin...  머니투데이  185,396  \n",
       "2    /main/ranking/read.nhn?mid=etc&sid1=111&rankin...   연합뉴스  130,198  \n",
       "3    /main/ranking/read.nhn?mid=etc&sid1=111&rankin...   동아일보  120,897  \n",
       "4    /main/ranking/read.nhn?mid=etc&sid1=111&rankin...   조선일보  119,463  \n",
       "..                                                 ...    ...      ...  \n",
       "595  /main/ranking/read.nhn?mid=etc&sid1=111&rankin...   서울경제  173,703  \n",
       "596  /main/ranking/read.nhn?mid=etc&sid1=111&rankin...    뉴스1  134,014  \n",
       "597  /main/ranking/read.nhn?mid=etc&sid1=111&rankin...   연합뉴스  111,786  \n",
       "598  /main/ranking/read.nhn?mid=etc&sid1=111&rankin...    뉴스1   77,278  \n",
       "599  /main/ranking/read.nhn?mid=etc&sid1=111&rankin...   조선일보   68,369  \n",
       "\n",
       "[600 rows x 4 columns]"
      ]
     },
     "execution_count": 11,
     "metadata": {},
     "output_type": "execute_result"
    }
   ],
   "source": [
    "df_top_news"
   ]
  },
  {
   "cell_type": "code",
   "execution_count": 12,
   "metadata": {
    "colab": {},
    "colab_type": "code",
    "id": "0J4OEExx78y_"
   },
   "outputs": [],
   "source": [
    "# URL 앞에  \"https://news.naver.com\" 붙이기\n",
    "df_top_news.url = \"https://news.naver.com\" + df_top_news.url "
   ]
  },
  {
   "cell_type": "code",
   "execution_count": 13,
   "metadata": {
    "colab": {
     "base_uri": "https://localhost:8080/",
     "height": 402
    },
    "colab_type": "code",
    "executionInfo": {
     "elapsed": 758,
     "status": "ok",
     "timestamp": 1598086622042,
     "user": {
      "displayName": "‎이혜린(자연과학대학 통계학과)",
      "photoUrl": "",
      "userId": "17465505332261896018"
     },
     "user_tz": -540
    },
    "id": "U8watSSq78zT",
    "outputId": "eb23d103-9b63-4ff1-9fb1-05d44bab3d32"
   },
   "outputs": [
    {
     "data": {
      "text/html": [
       "<div>\n",
       "<style scoped>\n",
       "    .dataframe tbody tr th:only-of-type {\n",
       "        vertical-align: middle;\n",
       "    }\n",
       "\n",
       "    .dataframe tbody tr th {\n",
       "        vertical-align: top;\n",
       "    }\n",
       "\n",
       "    .dataframe thead th {\n",
       "        text-align: right;\n",
       "    }\n",
       "</style>\n",
       "<table border=\"1\" class=\"dataframe\">\n",
       "  <thead>\n",
       "    <tr style=\"text-align: right;\">\n",
       "      <th></th>\n",
       "      <th>title</th>\n",
       "      <th>url</th>\n",
       "      <th>press</th>\n",
       "      <th>views</th>\n",
       "    </tr>\n",
       "  </thead>\n",
       "  <tbody>\n",
       "    <tr>\n",
       "      <th>0</th>\n",
       "      <td>[단독] 황교안 딸 운영 사이트, 대학 진학 후 왜 문 닫았나</td>\n",
       "      <td>https://news.naver.com/main/ranking/read.nhn?m...</td>\n",
       "      <td>경향신문</td>\n",
       "      <td>201,039</td>\n",
       "    </tr>\n",
       "    <tr>\n",
       "      <th>1</th>\n",
       "      <td>조국 폭풍페북, 日주장 정면반박…\"친일파\" 표현은 野 반발</td>\n",
       "      <td>https://news.naver.com/main/ranking/read.nhn?m...</td>\n",
       "      <td>머니투데이</td>\n",
       "      <td>185,396</td>\n",
       "    </tr>\n",
       "    <tr>\n",
       "      <th>2</th>\n",
       "      <td>조국, 연일 對日 '항전' 주문…\"겁먹고 쫄지말자…싸워 이겨…</td>\n",
       "      <td>https://news.naver.com/main/ranking/read.nhn?m...</td>\n",
       "      <td>연합뉴스</td>\n",
       "      <td>130,198</td>\n",
       "    </tr>\n",
       "    <tr>\n",
       "      <th>3</th>\n",
       "      <td>[김순덕의 도발]복수를 하려면 아일랜드처럼!</td>\n",
       "      <td>https://news.naver.com/main/ranking/read.nhn?m...</td>\n",
       "      <td>동아일보</td>\n",
       "      <td>120,897</td>\n",
       "    </tr>\n",
       "    <tr>\n",
       "      <th>4</th>\n",
       "      <td>조국, 또 페북에 反日 선전전...\"文정부, 서희·이순신 역할…</td>\n",
       "      <td>https://news.naver.com/main/ranking/read.nhn?m...</td>\n",
       "      <td>조선일보</td>\n",
       "      <td>119,463</td>\n",
       "    </tr>\n",
       "    <tr>\n",
       "      <th>...</th>\n",
       "      <td>...</td>\n",
       "      <td>...</td>\n",
       "      <td>...</td>\n",
       "      <td>...</td>\n",
       "    </tr>\n",
       "    <tr>\n",
       "      <th>595</th>\n",
       "      <td>갤노트10 만져본 미국인들 \"실물 보고싶어 일부러 찾아와\"</td>\n",
       "      <td>https://news.naver.com/main/ranking/read.nhn?m...</td>\n",
       "      <td>서울경제</td>\n",
       "      <td>173,703</td>\n",
       "    </tr>\n",
       "    <tr>\n",
       "      <th>596</th>\n",
       "      <td>\"유튜브 뛰어드니\"…월급 295만→536만원 '껑충' vs 소득 '…</td>\n",
       "      <td>https://news.naver.com/main/ranking/read.nhn?m...</td>\n",
       "      <td>뉴스1</td>\n",
       "      <td>134,014</td>\n",
       "    </tr>\n",
       "    <tr>\n",
       "      <th>597</th>\n",
       "      <td>[SNS 세상] \"공감이 최고의 위로\" 암 투병기 연재하는 뷰티…</td>\n",
       "      <td>https://news.naver.com/main/ranking/read.nhn?m...</td>\n",
       "      <td>연합뉴스</td>\n",
       "      <td>111,786</td>\n",
       "    </tr>\n",
       "    <tr>\n",
       "      <th>598</th>\n",
       "      <td>네이버·카카오 2분기 성적표 '희비'…하반기 '페이전쟁' 격…</td>\n",
       "      <td>https://news.naver.com/main/ranking/read.nhn?m...</td>\n",
       "      <td>뉴스1</td>\n",
       "      <td>77,278</td>\n",
       "    </tr>\n",
       "    <tr>\n",
       "      <th>599</th>\n",
       "      <td>삼성전자 사장, 처음으로 '위기'를 말하다</td>\n",
       "      <td>https://news.naver.com/main/ranking/read.nhn?m...</td>\n",
       "      <td>조선일보</td>\n",
       "      <td>68,369</td>\n",
       "    </tr>\n",
       "  </tbody>\n",
       "</table>\n",
       "<p>600 rows × 4 columns</p>\n",
       "</div>"
      ],
      "text/plain": [
       "                                      title  \\\n",
       "0        [단독] 황교안 딸 운영 사이트, 대학 진학 후 왜 문 닫았나   \n",
       "1          조국 폭풍페북, 日주장 정면반박…\"친일파\" 표현은 野 반발   \n",
       "2        조국, 연일 對日 '항전' 주문…\"겁먹고 쫄지말자…싸워 이겨…   \n",
       "3                  [김순덕의 도발]복수를 하려면 아일랜드처럼!   \n",
       "4       조국, 또 페북에 反日 선전전...\"文정부, 서희·이순신 역할…   \n",
       "..                                      ...   \n",
       "595        갤노트10 만져본 미국인들 \"실물 보고싶어 일부러 찾아와\"   \n",
       "596  \"유튜브 뛰어드니\"…월급 295만→536만원 '껑충' vs 소득 '…   \n",
       "597    [SNS 세상] \"공감이 최고의 위로\" 암 투병기 연재하는 뷰티…   \n",
       "598      네이버·카카오 2분기 성적표 '희비'…하반기 '페이전쟁' 격…   \n",
       "599                 삼성전자 사장, 처음으로 '위기'를 말하다   \n",
       "\n",
       "                                                   url  press    views  \n",
       "0    https://news.naver.com/main/ranking/read.nhn?m...   경향신문  201,039  \n",
       "1    https://news.naver.com/main/ranking/read.nhn?m...  머니투데이  185,396  \n",
       "2    https://news.naver.com/main/ranking/read.nhn?m...   연합뉴스  130,198  \n",
       "3    https://news.naver.com/main/ranking/read.nhn?m...   동아일보  120,897  \n",
       "4    https://news.naver.com/main/ranking/read.nhn?m...   조선일보  119,463  \n",
       "..                                                 ...    ...      ...  \n",
       "595  https://news.naver.com/main/ranking/read.nhn?m...   서울경제  173,703  \n",
       "596  https://news.naver.com/main/ranking/read.nhn?m...    뉴스1  134,014  \n",
       "597  https://news.naver.com/main/ranking/read.nhn?m...   연합뉴스  111,786  \n",
       "598  https://news.naver.com/main/ranking/read.nhn?m...    뉴스1   77,278  \n",
       "599  https://news.naver.com/main/ranking/read.nhn?m...   조선일보   68,369  \n",
       "\n",
       "[600 rows x 4 columns]"
      ]
     },
     "execution_count": 13,
     "metadata": {},
     "output_type": "execute_result"
    }
   ],
   "source": [
    "df_top_news"
   ]
  },
  {
   "cell_type": "markdown",
   "metadata": {
    "colab_type": "text",
    "id": "jkkVpowH78zi"
   },
   "source": [
    "## Part 2. Selenium을 이용한 크롤링"
   ]
  },
  {
   "cell_type": "code",
   "execution_count": 14,
   "metadata": {
    "colab": {
     "base_uri": "https://localhost:8080/",
     "height": 122
    },
    "colab_type": "code",
    "executionInfo": {
     "elapsed": 7169,
     "status": "ok",
     "timestamp": 1598088669232,
     "user": {
      "displayName": "‎이혜린(자연과학대학 통계학과)",
      "photoUrl": "",
      "userId": "17465505332261896018"
     },
     "user_tz": -540
    },
    "id": "j222hmIbgLZp",
    "outputId": "fb581096-7eaa-4ca7-ee9c-0a24c0b535e3"
   },
   "outputs": [
    {
     "name": "stdout",
     "output_type": "stream",
     "text": [
      "Requirement already satisfied: selenium in c:\\users\\hyeli\\anaconda3\\lib\\site-packages (3.141.0)\n",
      "Requirement already satisfied: urllib3 in c:\\users\\hyeli\\anaconda3\\lib\\site-packages (from selenium) (1.25.8)\n"
     ]
    }
   ],
   "source": [
    "!pip install selenium"
   ]
  },
  {
   "cell_type": "code",
   "execution_count": 19,
   "metadata": {
    "colab": {},
    "colab_type": "code",
    "executionInfo": {
     "elapsed": 822,
     "status": "ok",
     "timestamp": 1598088672784,
     "user": {
      "displayName": "‎이혜린(자연과학대학 통계학과)",
      "photoUrl": "",
      "userId": "17465505332261896018"
     },
     "user_tz": -540
    },
    "id": "E9_ehXVt78zj"
   },
   "outputs": [],
   "source": [
    "from selenium import webdriver\n",
    "from selenium.webdriver.chrome.options import Options\n",
    "\n",
    "options = Options()\n",
    "options.headless = True # True면 창이 안뜸\n",
    "driver_path = 'C://Users/hyeli/Desktop/2020/2020-2/투빅스/Week5_Crawling/chromedriver.exe' # driver 경로 설정\n",
    "\n",
    "driver = webdriver.Chrome(driver_path) # Chrome driver 실행"
   ]
  },
  {
   "cell_type": "code",
   "execution_count": 20,
   "metadata": {
    "colab": {},
    "colab_type": "code",
    "id": "c36PcxbM780A",
    "outputId": "ad69f81f-bc35-4407-a2c7-5f6fcd906e81"
   },
   "outputs": [
    {
     "data": {
      "text/plain": [
       "0    https://news.naver.com/main/ranking/read.nhn?m...\n",
       "1    https://news.naver.com/main/ranking/read.nhn?m...\n",
       "2    https://news.naver.com/main/ranking/read.nhn?m...\n",
       "3    https://news.naver.com/main/ranking/read.nhn?m...\n",
       "4    https://news.naver.com/main/ranking/read.nhn?m...\n",
       "5    https://news.naver.com/main/ranking/read.nhn?m...\n",
       "6    https://news.naver.com/main/ranking/read.nhn?m...\n",
       "7    https://news.naver.com/main/ranking/read.nhn?m...\n",
       "8    https://news.naver.com/main/ranking/read.nhn?m...\n",
       "9    https://news.naver.com/main/ranking/read.nhn?m...\n",
       "Name: url, dtype: object"
      ]
     },
     "execution_count": 20,
     "metadata": {},
     "output_type": "execute_result"
    }
   ],
   "source": [
    "df_top_news.url[:10]"
   ]
  },
  {
   "cell_type": "code",
   "execution_count": 21,
   "metadata": {
    "colab": {},
    "colab_type": "code",
    "id": "ywszA41x780L"
   },
   "outputs": [],
   "source": [
    "NEWS_TEST_RANGE = 10\n",
    "for idx, news_url in enumerate(df_top_news.url[:NEWS_TEST_RANGE]):\n",
    "    driver.get(df_top_news.url[idx]) # 드라이버 내에서 해당 URL로 이동\n",
    "    html = driver.page_source\n",
    "    soup = BeautifulSoup(html, \"html.parser\", from_encoding='euc-kr')\n",
    "    \n",
    "    # 기사 내용 크롤링\n",
    "    content = soup.select_one('#articleBodyContents')\n",
    "    output = ''\n",
    "    for item in content.contents:\n",
    "        stripped = str(item).strip()\n",
    "        if stripped == \"\":\n",
    "            continue\n",
    "        if stripped[0] not in [\"<\", \"/\"]:\n",
    "            output += str(item).strip('')\n",
    "    output.replace('&apos;', '')\n",
    "\n",
    "    # content 변수에 기사 내용 저장\n",
    "    df_top_news.loc[idx,\"content\"] = output\n",
    "\n",
    "    \n",
    "    # 리액션 크롤링 및 변수에 저장\n",
    "    df_top_news.loc[idx,\"react_good\"] = driver.find_elements_by_xpath('//*[@id=\"spiLayer\"]/div[1]/ul/li/a/span[2]')[0].text \n",
    "    # 좋아요 투표 수\n",
    "    df_top_news.loc[idx,\"react_kind\"] = driver.find_elements_by_xpath('//*[@id=\"spiLayer\"]/div[1]/ul/li/a/span[2]')[1].text \n",
    "    # 훈훈해요 투표 수\n",
    "    df_top_news.loc[idx,\"react_sad\"] = driver.find_elements_by_xpath('//*[@id=\"spiLayer\"]/div[1]/ul/li/a/span[2]')[2].text \n",
    "    # 슬퍼요 투표 수\n",
    "    df_top_news.loc[idx,\"react_upset\"] = driver.find_elements_by_xpath('//*[@id=\"spiLayer\"]/div[1]/ul/li/a/span[2]')[3].text \n",
    "    # 화나요 투표 수\n",
    "    df_top_news.loc[idx,\"react_want\"] = driver.find_elements_by_xpath('//*[@id=\"spiLayer\"]/div[1]/ul/li/a/span[2]')[4].text \n",
    "    # 후속기사원해요 투표 수"
   ]
  },
  {
   "cell_type": "code",
   "execution_count": 22,
   "metadata": {
    "colab": {},
    "colab_type": "code",
    "id": "7eA6rR3o780g",
    "outputId": "105569b0-74a7-4757-d91b-58c50cd7f704"
   },
   "outputs": [
    {
     "data": {
      "text/html": [
       "<div>\n",
       "<style scoped>\n",
       "    .dataframe tbody tr th:only-of-type {\n",
       "        vertical-align: middle;\n",
       "    }\n",
       "\n",
       "    .dataframe tbody tr th {\n",
       "        vertical-align: top;\n",
       "    }\n",
       "\n",
       "    .dataframe thead th {\n",
       "        text-align: right;\n",
       "    }\n",
       "</style>\n",
       "<table border=\"1\" class=\"dataframe\">\n",
       "  <thead>\n",
       "    <tr style=\"text-align: right;\">\n",
       "      <th></th>\n",
       "      <th>title</th>\n",
       "      <th>url</th>\n",
       "      <th>press</th>\n",
       "      <th>views</th>\n",
       "      <th>content</th>\n",
       "      <th>react_good</th>\n",
       "      <th>react_kind</th>\n",
       "      <th>react_sad</th>\n",
       "      <th>react_upset</th>\n",
       "      <th>react_want</th>\n",
       "    </tr>\n",
       "  </thead>\n",
       "  <tbody>\n",
       "    <tr>\n",
       "      <th>0</th>\n",
       "      <td>[단독] 황교안 딸 운영 사이트, 대학 진학 후 왜 문 닫았나</td>\n",
       "      <td>https://news.naver.com/main/ranking/read.nhn?m...</td>\n",
       "      <td>경향신문</td>\n",
       "      <td>201,039</td>\n",
       "      <td>본문 내용  TV플레이어 “대체로 다 그랬던 것 같다. 봉사 스펙으로 대학에 가는...</td>\n",
       "      <td>131</td>\n",
       "      <td>16</td>\n",
       "      <td>17</td>\n",
       "      <td>2,605</td>\n",
       "      <td>121</td>\n",
       "    </tr>\n",
       "    <tr>\n",
       "      <th>1</th>\n",
       "      <td>조국 폭풍페북, 日주장 정면반박…\"친일파\" 표현은 野 반발</td>\n",
       "      <td>https://news.naver.com/main/ranking/read.nhn?m...</td>\n",
       "      <td>머니투데이</td>\n",
       "      <td>185,396</td>\n",
       "      <td>본문 내용  TV플레이어 \\n\\t\\n\\t[머니투데이 김성휘 ,백지수  기자] [[...</td>\n",
       "      <td>1,710</td>\n",
       "      <td>32</td>\n",
       "      <td>13</td>\n",
       "      <td>6,058</td>\n",
       "      <td>48</td>\n",
       "    </tr>\n",
       "    <tr>\n",
       "      <th>2</th>\n",
       "      <td>조국, 연일 對日 '항전' 주문…\"겁먹고 쫄지말자…싸워 이겨…</td>\n",
       "      <td>https://news.naver.com/main/ranking/read.nhn?m...</td>\n",
       "      <td>연합뉴스</td>\n",
       "      <td>130,198</td>\n",
       "      <td>본문 내용  TV플레이어 \\n\\t\\n\\t\"文정부, 서희와 이순신 역할 함께 수행…...</td>\n",
       "      <td>1,799</td>\n",
       "      <td>19</td>\n",
       "      <td>13</td>\n",
       "      <td>9,120</td>\n",
       "      <td>30</td>\n",
       "    </tr>\n",
       "    <tr>\n",
       "      <th>3</th>\n",
       "      <td>[김순덕의 도발]복수를 하려면 아일랜드처럼!</td>\n",
       "      <td>https://news.naver.com/main/ranking/read.nhn?m...</td>\n",
       "      <td>동아일보</td>\n",
       "      <td>120,897</td>\n",
       "      <td>본문 내용  TV플레이어 \\n\\t\\n\\t친일잔재를 청산하고 한번도 경험하지 못한 ...</td>\n",
       "      <td>3,017</td>\n",
       "      <td>19</td>\n",
       "      <td>16</td>\n",
       "      <td>623</td>\n",
       "      <td>37</td>\n",
       "    </tr>\n",
       "    <tr>\n",
       "      <th>4</th>\n",
       "      <td>조국, 또 페북에 反日 선전전...\"文정부, 서희·이순신 역할…</td>\n",
       "      <td>https://news.naver.com/main/ranking/read.nhn?m...</td>\n",
       "      <td>조선일보</td>\n",
       "      <td>119,463</td>\n",
       "      <td>본문 내용  TV플레이어 조국 청와대 민정수석은 21일 \"문재인 정부는 국익 수호...</td>\n",
       "      <td>374</td>\n",
       "      <td>13</td>\n",
       "      <td>14</td>\n",
       "      <td>11,468</td>\n",
       "      <td>38</td>\n",
       "    </tr>\n",
       "  </tbody>\n",
       "</table>\n",
       "</div>"
      ],
      "text/plain": [
       "                                 title  \\\n",
       "0   [단독] 황교안 딸 운영 사이트, 대학 진학 후 왜 문 닫았나   \n",
       "1     조국 폭풍페북, 日주장 정면반박…\"친일파\" 표현은 野 반발   \n",
       "2   조국, 연일 對日 '항전' 주문…\"겁먹고 쫄지말자…싸워 이겨…   \n",
       "3             [김순덕의 도발]복수를 하려면 아일랜드처럼!   \n",
       "4  조국, 또 페북에 反日 선전전...\"文정부, 서희·이순신 역할…   \n",
       "\n",
       "                                                 url  press    views  \\\n",
       "0  https://news.naver.com/main/ranking/read.nhn?m...   경향신문  201,039   \n",
       "1  https://news.naver.com/main/ranking/read.nhn?m...  머니투데이  185,396   \n",
       "2  https://news.naver.com/main/ranking/read.nhn?m...   연합뉴스  130,198   \n",
       "3  https://news.naver.com/main/ranking/read.nhn?m...   동아일보  120,897   \n",
       "4  https://news.naver.com/main/ranking/read.nhn?m...   조선일보  119,463   \n",
       "\n",
       "                                             content react_good react_kind  \\\n",
       "0   본문 내용  TV플레이어 “대체로 다 그랬던 것 같다. 봉사 스펙으로 대학에 가는...        131         16   \n",
       "1   본문 내용  TV플레이어 \\n\\t\\n\\t[머니투데이 김성휘 ,백지수  기자] [[...      1,710         32   \n",
       "2   본문 내용  TV플레이어 \\n\\t\\n\\t\"文정부, 서희와 이순신 역할 함께 수행…...      1,799         19   \n",
       "3   본문 내용  TV플레이어 \\n\\t\\n\\t친일잔재를 청산하고 한번도 경험하지 못한 ...      3,017         19   \n",
       "4   본문 내용  TV플레이어 조국 청와대 민정수석은 21일 \"문재인 정부는 국익 수호...        374         13   \n",
       "\n",
       "  react_sad react_upset react_want  \n",
       "0        17       2,605        121  \n",
       "1        13       6,058         48  \n",
       "2        13       9,120         30  \n",
       "3        16         623         37  \n",
       "4        14      11,468         38  "
      ]
     },
     "execution_count": 22,
     "metadata": {},
     "output_type": "execute_result"
    }
   ],
   "source": [
    "df_top_news.head(5)"
   ]
  },
  {
   "cell_type": "code",
   "execution_count": 23,
   "metadata": {},
   "outputs": [],
   "source": [
    "for i in range(df_top_news.shape[0]): \n",
    "    df_top_news['content'][i] = str(df_top_news['content'][i]).replace(' 본문 내용  TV플레이어 ', '').strip()"
   ]
  },
  {
   "cell_type": "code",
   "execution_count": 24,
   "metadata": {},
   "outputs": [
    {
     "data": {
      "text/html": [
       "<div>\n",
       "<style scoped>\n",
       "    .dataframe tbody tr th:only-of-type {\n",
       "        vertical-align: middle;\n",
       "    }\n",
       "\n",
       "    .dataframe tbody tr th {\n",
       "        vertical-align: top;\n",
       "    }\n",
       "\n",
       "    .dataframe thead th {\n",
       "        text-align: right;\n",
       "    }\n",
       "</style>\n",
       "<table border=\"1\" class=\"dataframe\">\n",
       "  <thead>\n",
       "    <tr style=\"text-align: right;\">\n",
       "      <th></th>\n",
       "      <th>title</th>\n",
       "      <th>url</th>\n",
       "      <th>press</th>\n",
       "      <th>views</th>\n",
       "      <th>content</th>\n",
       "      <th>react_good</th>\n",
       "      <th>react_kind</th>\n",
       "      <th>react_sad</th>\n",
       "      <th>react_upset</th>\n",
       "      <th>react_want</th>\n",
       "    </tr>\n",
       "  </thead>\n",
       "  <tbody>\n",
       "    <tr>\n",
       "      <th>0</th>\n",
       "      <td>[단독] 황교안 딸 운영 사이트, 대학 진학 후 왜 문 닫았나</td>\n",
       "      <td>https://news.naver.com/main/ranking/read.nhn?m...</td>\n",
       "      <td>경향신문</td>\n",
       "      <td>201,039</td>\n",
       "      <td>“대체로 다 그랬던 것 같다. 봉사 스펙으로 대학에 가는 경우는 외고 같은 데에서도...</td>\n",
       "      <td>131</td>\n",
       "      <td>16</td>\n",
       "      <td>17</td>\n",
       "      <td>2,605</td>\n",
       "      <td>121</td>\n",
       "    </tr>\n",
       "    <tr>\n",
       "      <th>1</th>\n",
       "      <td>조국 폭풍페북, 日주장 정면반박…\"친일파\" 표현은 野 반발</td>\n",
       "      <td>https://news.naver.com/main/ranking/read.nhn?m...</td>\n",
       "      <td>머니투데이</td>\n",
       "      <td>185,396</td>\n",
       "      <td>[머니투데이 김성휘 ,백지수  기자] [[300]징용판결 해설 글 \"대통령 법률보좌...</td>\n",
       "      <td>1,710</td>\n",
       "      <td>32</td>\n",
       "      <td>13</td>\n",
       "      <td>6,058</td>\n",
       "      <td>48</td>\n",
       "    </tr>\n",
       "    <tr>\n",
       "      <th>2</th>\n",
       "      <td>조국, 연일 對日 '항전' 주문…\"겁먹고 쫄지말자…싸워 이겨…</td>\n",
       "      <td>https://news.naver.com/main/ranking/read.nhn?m...</td>\n",
       "      <td>연합뉴스</td>\n",
       "      <td>130,198</td>\n",
       "      <td>\"文정부, 서희와 이순신 역할 함께 수행…지레 겁먹지 말아야\"\"文정부 매도 정치인·...</td>\n",
       "      <td>1,799</td>\n",
       "      <td>19</td>\n",
       "      <td>13</td>\n",
       "      <td>9,120</td>\n",
       "      <td>30</td>\n",
       "    </tr>\n",
       "    <tr>\n",
       "      <th>3</th>\n",
       "      <td>[김순덕의 도발]복수를 하려면 아일랜드처럼!</td>\n",
       "      <td>https://news.naver.com/main/ranking/read.nhn?m...</td>\n",
       "      <td>동아일보</td>\n",
       "      <td>120,897</td>\n",
       "      <td>친일잔재를 청산하고 한번도 경험하지 못한 나라로 가는 것이 목적이라면, 문재인 정부...</td>\n",
       "      <td>3,017</td>\n",
       "      <td>19</td>\n",
       "      <td>16</td>\n",
       "      <td>623</td>\n",
       "      <td>37</td>\n",
       "    </tr>\n",
       "    <tr>\n",
       "      <th>4</th>\n",
       "      <td>조국, 또 페북에 反日 선전전...\"文정부, 서희·이순신 역할…</td>\n",
       "      <td>https://news.naver.com/main/ranking/read.nhn?m...</td>\n",
       "      <td>조선일보</td>\n",
       "      <td>119,463</td>\n",
       "      <td>조국 청와대 민정수석은 21일 \"문재인 정부는 국익 수호를 위해 '서희'의 역할과 ...</td>\n",
       "      <td>374</td>\n",
       "      <td>13</td>\n",
       "      <td>14</td>\n",
       "      <td>11,468</td>\n",
       "      <td>38</td>\n",
       "    </tr>\n",
       "  </tbody>\n",
       "</table>\n",
       "</div>"
      ],
      "text/plain": [
       "                                 title  \\\n",
       "0   [단독] 황교안 딸 운영 사이트, 대학 진학 후 왜 문 닫았나   \n",
       "1     조국 폭풍페북, 日주장 정면반박…\"친일파\" 표현은 野 반발   \n",
       "2   조국, 연일 對日 '항전' 주문…\"겁먹고 쫄지말자…싸워 이겨…   \n",
       "3             [김순덕의 도발]복수를 하려면 아일랜드처럼!   \n",
       "4  조국, 또 페북에 反日 선전전...\"文정부, 서희·이순신 역할…   \n",
       "\n",
       "                                                 url  press    views  \\\n",
       "0  https://news.naver.com/main/ranking/read.nhn?m...   경향신문  201,039   \n",
       "1  https://news.naver.com/main/ranking/read.nhn?m...  머니투데이  185,396   \n",
       "2  https://news.naver.com/main/ranking/read.nhn?m...   연합뉴스  130,198   \n",
       "3  https://news.naver.com/main/ranking/read.nhn?m...   동아일보  120,897   \n",
       "4  https://news.naver.com/main/ranking/read.nhn?m...   조선일보  119,463   \n",
       "\n",
       "                                             content react_good react_kind  \\\n",
       "0  “대체로 다 그랬던 것 같다. 봉사 스펙으로 대학에 가는 경우는 외고 같은 데에서도...        131         16   \n",
       "1  [머니투데이 김성휘 ,백지수  기자] [[300]징용판결 해설 글 \"대통령 법률보좌...      1,710         32   \n",
       "2  \"文정부, 서희와 이순신 역할 함께 수행…지레 겁먹지 말아야\"\"文정부 매도 정치인·...      1,799         19   \n",
       "3  친일잔재를 청산하고 한번도 경험하지 못한 나라로 가는 것이 목적이라면, 문재인 정부...      3,017         19   \n",
       "4  조국 청와대 민정수석은 21일 \"문재인 정부는 국익 수호를 위해 '서희'의 역할과 ...        374         13   \n",
       "\n",
       "  react_sad react_upset react_want  \n",
       "0        17       2,605        121  \n",
       "1        13       6,058         48  \n",
       "2        13       9,120         30  \n",
       "3        16         623         37  \n",
       "4        14      11,468         38  "
      ]
     },
     "execution_count": 24,
     "metadata": {},
     "output_type": "execute_result"
    }
   ],
   "source": [
    "df_top_news.head()"
   ]
  },
  {
   "cell_type": "markdown",
   "metadata": {
    "colab_type": "text",
    "id": "7sVh9uzr781M"
   },
   "source": [
    "# 데이터 저장\n",
    "\n",
    "> 파일 형태로 크롤링한 데이터를 저장"
   ]
  },
  {
   "cell_type": "code",
   "execution_count": 25,
   "metadata": {
    "colab": {},
    "colab_type": "code",
    "id": "X8D4LMFi781S"
   },
   "outputs": [],
   "source": [
    "df_top_news.to_csv('Crawling_assignment.csv', mode='w', encoding='utf-8-sig')"
   ]
  }
 ],
 "metadata": {
  "colab": {
   "name": "week5(Crawling)_assignment1_hyerinlee.ipynb",
   "provenance": []
  },
  "kernelspec": {
   "display_name": "Python 3",
   "language": "python",
   "name": "python3"
  },
  "language_info": {
   "codemirror_mode": {
    "name": "ipython",
    "version": 3
   },
   "file_extension": ".py",
   "mimetype": "text/x-python",
   "name": "python",
   "nbconvert_exporter": "python",
   "pygments_lexer": "ipython3",
   "version": "3.7.6"
  }
 },
 "nbformat": 4,
 "nbformat_minor": 1
}
