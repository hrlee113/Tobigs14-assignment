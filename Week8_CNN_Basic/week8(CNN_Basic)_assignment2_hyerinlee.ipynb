{
 "cells": [
  {
   "cell_type": "markdown",
   "metadata": {},
   "source": [
    "# Week8(CNN_Basic) Assignment2 - Tobigs14 이혜린"
   ]
  },
  {
   "cell_type": "markdown",
   "metadata": {},
   "source": [
    "AlexNet 모델을 pytorch를 이용하여 구현해보았습니다!  \n",
    "\n",
    "### Main features\n",
    "\n",
    "* 구조 : 5 Convolution layers (with 3 MaxPool layers) + 3 fully connected layers  \n",
    "* activation function : ReLU  \n",
    "* 2nd, 4th, 5th convolution layer에 weight initializer (평균 0, se 0.01의 gaussian dist)  \n",
    "* 1st, 2nd fully connected layer에 weight initializer (constant1)  \n",
    "* 1st, 2nd fully connected layer에 dropout(0.5) "
   ]
  },
  {
   "cell_type": "code",
   "execution_count": 5,
   "metadata": {},
   "outputs": [],
   "source": [
    "import torch.nn as nn"
   ]
  },
  {
   "cell_type": "code",
   "execution_count": 16,
   "metadata": {},
   "outputs": [],
   "source": [
    "class AlexNet(torch.nn.Module):\n",
    "    \n",
    "    def __init__(self, num_classes=1000):\n",
    "        super(__class__, self).__init__()\n",
    "        \n",
    "        ### nn.Conv2d(input_channel, output_channel, kernel_size, stride, padding)\n",
    "        ### nn.MaxPool2d(kernel_size, stride, padding)\n",
    "        \n",
    "        conv1 = nn.Conv2d(3, 96, kernel_size=11, stride=4, padding=2)      #layer1 (Convolution layer1)\n",
    "        pool1 = nn.MaxPool2d(kernel_size=3, stride=2)                      #layer2 (MaxPool layer1)\n",
    "\n",
    "        conv2 = nn.Conv2d(96, 256, kernel_size=5, stride=1, padding=2)     #layer3 (Convolution layer2)\n",
    "        pool2 = nn.MaxPool2d(kernel_size=3, stride=2)                      #layer4 (MaxPool layer2)\n",
    "\n",
    "        conv3 = nn.Conv2d(256, 384, kernel_size=3, stride=1, padding=1)    #layer5 (Convolution layer3)\n",
    "\n",
    "        conv4 = nn.Conv2d(384, 384, kernel_size=3, stride=1, padding=1)    #layer6 (Convolution layer4)\n",
    "\n",
    "        conv5 = nn.Conv2d(384, 256, kernel_size=3, stride=1, padding=1)    #layer7 (Convolution layer5)\n",
    "        pool3 = nn.MaxPool2d(kernel_size=3, stride=2)                      #layer8 (MaxPool layer)\n",
    "        \n",
    "        lin1 = nn.Linear(256*6*6, 4096)                                    #layer9 (Fully connected layer1)\n",
    "        lin2 = nn.Linear(4096, 4096)                                       #layer10 (Fully connected layer2)\n",
    "        lin3 = nn.Linear(4096, num_classes)                                #layer11 (Fully connected layer3)\n",
    "        \n",
    "        relu = nn.ReLU(inplace=True)\n",
    "        \n",
    "        \n",
    "        # weight initializer\n",
    "        nn.init.normal_(conv2.weight, mean=0.0, std=0.01)\n",
    "        nn.init.normal_(conv4.weight, mean=0.0, std=0.01)\n",
    "        nn.init.normal_(conv5.weight, mean=0.0, std=0.01)\n",
    "        nn.init.ones_(lin1.weight)\n",
    "        nn.init.ones_(lin2.weight)\n",
    "        \n",
    "        self.features = nn.Sequential(conv1, relu, pool1, conv2, relu, pool2, \n",
    "                                      conv3, relu, conv4, relu, conv5, relu, pool3)\n",
    "        \n",
    "        self.classifier = nn.Sequential(nn.Dropout(0.5), lin1, relu, nn.Dropout(0.5), lin2, relu, lin3)\n",
    "        \n",
    "        def forward(self, x):\n",
    "            x = self.features(x)\n",
    "            x = x.view(x.size(0), 256*6*6)\n",
    "            x = self.classifier(x)\n",
    "            return x\n",
    "        \n",
    "def alexNet(num_output_classes):\n",
    "    \n",
    "    model = AlexNet(num_output_classes)\n",
    "    \n",
    "    return model"
   ]
  },
  {
   "cell_type": "code",
   "execution_count": 20,
   "metadata": {},
   "outputs": [],
   "source": [
    "model = alexNet(1000)\n",
    "optimizer = torch.optim.SGD(model.parameters(), lr=0.001, momentum=0.9, weight_decay=0.0005 )\n",
    "\n",
    "# 참고로 논문에선 batch size를 128 로 뒀습니다!"
   ]
  }
 ],
 "metadata": {
  "kernelspec": {
   "display_name": "Python 3",
   "language": "python",
   "name": "python3"
  },
  "language_info": {
   "codemirror_mode": {
    "name": "ipython",
    "version": 3
   },
   "file_extension": ".py",
   "mimetype": "text/x-python",
   "name": "python",
   "nbconvert_exporter": "python",
   "pygments_lexer": "ipython3",
   "version": "3.8.3"
  }
 },
 "nbformat": 4,
 "nbformat_minor": 4
}
