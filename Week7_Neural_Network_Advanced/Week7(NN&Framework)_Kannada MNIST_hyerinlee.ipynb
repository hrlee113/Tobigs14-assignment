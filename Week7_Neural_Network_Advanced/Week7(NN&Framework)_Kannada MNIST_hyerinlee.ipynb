{
 "cells": [
  {
   "cell_type": "markdown",
   "metadata": {},
   "source": [
    "# Kannada MNIST - Hyerin Lee"
   ]
  },
  {
   "cell_type": "code",
   "execution_count": 1,
   "metadata": {},
   "outputs": [],
   "source": [
    "import numpy as np\n",
    "import pandas as pd\n",
    "import seaborn as sns\n",
    "import matplotlib.pyplot as plt\n",
    "import warnings\n",
    "\n",
    "%matplotlib inline\n",
    "warnings.filterwarnings('ignore')"
   ]
  },
  {
   "cell_type": "code",
   "execution_count": 2,
   "metadata": {},
   "outputs": [
    {
     "data": {
      "text/html": [
       "<div>\n",
       "<style scoped>\n",
       "    .dataframe tbody tr th:only-of-type {\n",
       "        vertical-align: middle;\n",
       "    }\n",
       "\n",
       "    .dataframe tbody tr th {\n",
       "        vertical-align: top;\n",
       "    }\n",
       "\n",
       "    .dataframe thead th {\n",
       "        text-align: right;\n",
       "    }\n",
       "</style>\n",
       "<table border=\"1\" class=\"dataframe\">\n",
       "  <thead>\n",
       "    <tr style=\"text-align: right;\">\n",
       "      <th></th>\n",
       "      <th>label</th>\n",
       "      <th>pixel0</th>\n",
       "      <th>pixel1</th>\n",
       "      <th>pixel2</th>\n",
       "      <th>pixel3</th>\n",
       "      <th>pixel4</th>\n",
       "      <th>pixel5</th>\n",
       "      <th>pixel6</th>\n",
       "      <th>pixel7</th>\n",
       "      <th>pixel8</th>\n",
       "      <th>...</th>\n",
       "      <th>pixel774</th>\n",
       "      <th>pixel775</th>\n",
       "      <th>pixel776</th>\n",
       "      <th>pixel777</th>\n",
       "      <th>pixel778</th>\n",
       "      <th>pixel779</th>\n",
       "      <th>pixel780</th>\n",
       "      <th>pixel781</th>\n",
       "      <th>pixel782</th>\n",
       "      <th>pixel783</th>\n",
       "    </tr>\n",
       "  </thead>\n",
       "  <tbody>\n",
       "    <tr>\n",
       "      <th>0</th>\n",
       "      <td>7</td>\n",
       "      <td>0</td>\n",
       "      <td>0</td>\n",
       "      <td>0</td>\n",
       "      <td>0</td>\n",
       "      <td>0</td>\n",
       "      <td>0</td>\n",
       "      <td>0</td>\n",
       "      <td>0</td>\n",
       "      <td>0</td>\n",
       "      <td>...</td>\n",
       "      <td>0</td>\n",
       "      <td>0</td>\n",
       "      <td>0</td>\n",
       "      <td>0</td>\n",
       "      <td>0</td>\n",
       "      <td>0</td>\n",
       "      <td>0</td>\n",
       "      <td>0</td>\n",
       "      <td>0</td>\n",
       "      <td>0</td>\n",
       "    </tr>\n",
       "    <tr>\n",
       "      <th>1</th>\n",
       "      <td>8</td>\n",
       "      <td>0</td>\n",
       "      <td>0</td>\n",
       "      <td>0</td>\n",
       "      <td>0</td>\n",
       "      <td>0</td>\n",
       "      <td>0</td>\n",
       "      <td>0</td>\n",
       "      <td>0</td>\n",
       "      <td>0</td>\n",
       "      <td>...</td>\n",
       "      <td>0</td>\n",
       "      <td>0</td>\n",
       "      <td>0</td>\n",
       "      <td>0</td>\n",
       "      <td>0</td>\n",
       "      <td>0</td>\n",
       "      <td>0</td>\n",
       "      <td>0</td>\n",
       "      <td>0</td>\n",
       "      <td>0</td>\n",
       "    </tr>\n",
       "    <tr>\n",
       "      <th>2</th>\n",
       "      <td>7</td>\n",
       "      <td>0</td>\n",
       "      <td>0</td>\n",
       "      <td>0</td>\n",
       "      <td>0</td>\n",
       "      <td>0</td>\n",
       "      <td>0</td>\n",
       "      <td>0</td>\n",
       "      <td>0</td>\n",
       "      <td>0</td>\n",
       "      <td>...</td>\n",
       "      <td>0</td>\n",
       "      <td>0</td>\n",
       "      <td>0</td>\n",
       "      <td>0</td>\n",
       "      <td>0</td>\n",
       "      <td>0</td>\n",
       "      <td>0</td>\n",
       "      <td>0</td>\n",
       "      <td>0</td>\n",
       "      <td>0</td>\n",
       "    </tr>\n",
       "    <tr>\n",
       "      <th>3</th>\n",
       "      <td>6</td>\n",
       "      <td>0</td>\n",
       "      <td>0</td>\n",
       "      <td>0</td>\n",
       "      <td>0</td>\n",
       "      <td>0</td>\n",
       "      <td>0</td>\n",
       "      <td>0</td>\n",
       "      <td>0</td>\n",
       "      <td>0</td>\n",
       "      <td>...</td>\n",
       "      <td>0</td>\n",
       "      <td>0</td>\n",
       "      <td>0</td>\n",
       "      <td>0</td>\n",
       "      <td>0</td>\n",
       "      <td>0</td>\n",
       "      <td>0</td>\n",
       "      <td>0</td>\n",
       "      <td>0</td>\n",
       "      <td>0</td>\n",
       "    </tr>\n",
       "    <tr>\n",
       "      <th>4</th>\n",
       "      <td>5</td>\n",
       "      <td>0</td>\n",
       "      <td>0</td>\n",
       "      <td>0</td>\n",
       "      <td>0</td>\n",
       "      <td>0</td>\n",
       "      <td>0</td>\n",
       "      <td>0</td>\n",
       "      <td>0</td>\n",
       "      <td>0</td>\n",
       "      <td>...</td>\n",
       "      <td>0</td>\n",
       "      <td>0</td>\n",
       "      <td>0</td>\n",
       "      <td>0</td>\n",
       "      <td>0</td>\n",
       "      <td>0</td>\n",
       "      <td>0</td>\n",
       "      <td>0</td>\n",
       "      <td>0</td>\n",
       "      <td>0</td>\n",
       "    </tr>\n",
       "  </tbody>\n",
       "</table>\n",
       "<p>5 rows × 785 columns</p>\n",
       "</div>"
      ],
      "text/plain": [
       "   label  pixel0  pixel1  pixel2  pixel3  pixel4  pixel5  pixel6  pixel7  \\\n",
       "0      7       0       0       0       0       0       0       0       0   \n",
       "1      8       0       0       0       0       0       0       0       0   \n",
       "2      7       0       0       0       0       0       0       0       0   \n",
       "3      6       0       0       0       0       0       0       0       0   \n",
       "4      5       0       0       0       0       0       0       0       0   \n",
       "\n",
       "   pixel8  ...  pixel774  pixel775  pixel776  pixel777  pixel778  pixel779  \\\n",
       "0       0  ...         0         0         0         0         0         0   \n",
       "1       0  ...         0         0         0         0         0         0   \n",
       "2       0  ...         0         0         0         0         0         0   \n",
       "3       0  ...         0         0         0         0         0         0   \n",
       "4       0  ...         0         0         0         0         0         0   \n",
       "\n",
       "   pixel780  pixel781  pixel782  pixel783  \n",
       "0         0         0         0         0  \n",
       "1         0         0         0         0  \n",
       "2         0         0         0         0  \n",
       "3         0         0         0         0  \n",
       "4         0         0         0         0  \n",
       "\n",
       "[5 rows x 785 columns]"
      ]
     },
     "execution_count": 2,
     "metadata": {},
     "output_type": "execute_result"
    }
   ],
   "source": [
    "train = pd.read_csv('train_df.csv')\n",
    "test = pd.read_csv('test_df.csv')\n",
    "\n",
    "train.head()"
   ]
  },
  {
   "cell_type": "code",
   "execution_count": 3,
   "metadata": {},
   "outputs": [
    {
     "data": {
      "text/html": [
       "<div>\n",
       "<style scoped>\n",
       "    .dataframe tbody tr th:only-of-type {\n",
       "        vertical-align: middle;\n",
       "    }\n",
       "\n",
       "    .dataframe tbody tr th {\n",
       "        vertical-align: top;\n",
       "    }\n",
       "\n",
       "    .dataframe thead th {\n",
       "        text-align: right;\n",
       "    }\n",
       "</style>\n",
       "<table border=\"1\" class=\"dataframe\">\n",
       "  <thead>\n",
       "    <tr style=\"text-align: right;\">\n",
       "      <th></th>\n",
       "      <th>Unnamed: 0</th>\n",
       "      <th>pixel0</th>\n",
       "      <th>pixel1</th>\n",
       "      <th>pixel2</th>\n",
       "      <th>pixel3</th>\n",
       "      <th>pixel4</th>\n",
       "      <th>pixel5</th>\n",
       "      <th>pixel6</th>\n",
       "      <th>pixel7</th>\n",
       "      <th>pixel8</th>\n",
       "      <th>...</th>\n",
       "      <th>pixel774</th>\n",
       "      <th>pixel775</th>\n",
       "      <th>pixel776</th>\n",
       "      <th>pixel777</th>\n",
       "      <th>pixel778</th>\n",
       "      <th>pixel779</th>\n",
       "      <th>pixel780</th>\n",
       "      <th>pixel781</th>\n",
       "      <th>pixel782</th>\n",
       "      <th>pixel783</th>\n",
       "    </tr>\n",
       "  </thead>\n",
       "  <tbody>\n",
       "    <tr>\n",
       "      <th>0</th>\n",
       "      <td>57808</td>\n",
       "      <td>0</td>\n",
       "      <td>0</td>\n",
       "      <td>0</td>\n",
       "      <td>0</td>\n",
       "      <td>0</td>\n",
       "      <td>0</td>\n",
       "      <td>0</td>\n",
       "      <td>0</td>\n",
       "      <td>0</td>\n",
       "      <td>...</td>\n",
       "      <td>0</td>\n",
       "      <td>0</td>\n",
       "      <td>0</td>\n",
       "      <td>0</td>\n",
       "      <td>0</td>\n",
       "      <td>0</td>\n",
       "      <td>0</td>\n",
       "      <td>0</td>\n",
       "      <td>0</td>\n",
       "      <td>0</td>\n",
       "    </tr>\n",
       "    <tr>\n",
       "      <th>1</th>\n",
       "      <td>4960</td>\n",
       "      <td>0</td>\n",
       "      <td>0</td>\n",
       "      <td>0</td>\n",
       "      <td>0</td>\n",
       "      <td>0</td>\n",
       "      <td>0</td>\n",
       "      <td>0</td>\n",
       "      <td>0</td>\n",
       "      <td>0</td>\n",
       "      <td>...</td>\n",
       "      <td>0</td>\n",
       "      <td>0</td>\n",
       "      <td>0</td>\n",
       "      <td>0</td>\n",
       "      <td>0</td>\n",
       "      <td>0</td>\n",
       "      <td>0</td>\n",
       "      <td>0</td>\n",
       "      <td>0</td>\n",
       "      <td>0</td>\n",
       "    </tr>\n",
       "    <tr>\n",
       "      <th>2</th>\n",
       "      <td>35755</td>\n",
       "      <td>0</td>\n",
       "      <td>0</td>\n",
       "      <td>0</td>\n",
       "      <td>0</td>\n",
       "      <td>0</td>\n",
       "      <td>0</td>\n",
       "      <td>0</td>\n",
       "      <td>0</td>\n",
       "      <td>0</td>\n",
       "      <td>...</td>\n",
       "      <td>0</td>\n",
       "      <td>0</td>\n",
       "      <td>0</td>\n",
       "      <td>0</td>\n",
       "      <td>0</td>\n",
       "      <td>0</td>\n",
       "      <td>0</td>\n",
       "      <td>0</td>\n",
       "      <td>0</td>\n",
       "      <td>0</td>\n",
       "    </tr>\n",
       "    <tr>\n",
       "      <th>3</th>\n",
       "      <td>15543</td>\n",
       "      <td>0</td>\n",
       "      <td>0</td>\n",
       "      <td>0</td>\n",
       "      <td>0</td>\n",
       "      <td>0</td>\n",
       "      <td>0</td>\n",
       "      <td>0</td>\n",
       "      <td>0</td>\n",
       "      <td>0</td>\n",
       "      <td>...</td>\n",
       "      <td>0</td>\n",
       "      <td>0</td>\n",
       "      <td>0</td>\n",
       "      <td>0</td>\n",
       "      <td>0</td>\n",
       "      <td>0</td>\n",
       "      <td>0</td>\n",
       "      <td>0</td>\n",
       "      <td>0</td>\n",
       "      <td>0</td>\n",
       "    </tr>\n",
       "    <tr>\n",
       "      <th>4</th>\n",
       "      <td>48968</td>\n",
       "      <td>0</td>\n",
       "      <td>0</td>\n",
       "      <td>0</td>\n",
       "      <td>0</td>\n",
       "      <td>0</td>\n",
       "      <td>0</td>\n",
       "      <td>0</td>\n",
       "      <td>0</td>\n",
       "      <td>0</td>\n",
       "      <td>...</td>\n",
       "      <td>0</td>\n",
       "      <td>0</td>\n",
       "      <td>0</td>\n",
       "      <td>0</td>\n",
       "      <td>0</td>\n",
       "      <td>0</td>\n",
       "      <td>0</td>\n",
       "      <td>0</td>\n",
       "      <td>0</td>\n",
       "      <td>0</td>\n",
       "    </tr>\n",
       "  </tbody>\n",
       "</table>\n",
       "<p>5 rows × 785 columns</p>\n",
       "</div>"
      ],
      "text/plain": [
       "   Unnamed: 0  pixel0  pixel1  pixel2  pixel3  pixel4  pixel5  pixel6  pixel7  \\\n",
       "0       57808       0       0       0       0       0       0       0       0   \n",
       "1        4960       0       0       0       0       0       0       0       0   \n",
       "2       35755       0       0       0       0       0       0       0       0   \n",
       "3       15543       0       0       0       0       0       0       0       0   \n",
       "4       48968       0       0       0       0       0       0       0       0   \n",
       "\n",
       "   pixel8  ...  pixel774  pixel775  pixel776  pixel777  pixel778  pixel779  \\\n",
       "0       0  ...         0         0         0         0         0         0   \n",
       "1       0  ...         0         0         0         0         0         0   \n",
       "2       0  ...         0         0         0         0         0         0   \n",
       "3       0  ...         0         0         0         0         0         0   \n",
       "4       0  ...         0         0         0         0         0         0   \n",
       "\n",
       "   pixel780  pixel781  pixel782  pixel783  \n",
       "0         0         0         0         0  \n",
       "1         0         0         0         0  \n",
       "2         0         0         0         0  \n",
       "3         0         0         0         0  \n",
       "4         0         0         0         0  \n",
       "\n",
       "[5 rows x 785 columns]"
      ]
     },
     "execution_count": 3,
     "metadata": {},
     "output_type": "execute_result"
    }
   ],
   "source": [
    "test.head()"
   ]
  },
  {
   "cell_type": "code",
   "execution_count": 4,
   "metadata": {},
   "outputs": [],
   "source": [
    "X_train = train.drop(['label'], axis=1).values\n",
    "y = train['label'].values\n",
    "\n",
    "X_test = test.iloc[:,1:].values\n",
    "test_id = test.iloc[:,0]"
   ]
  },
  {
   "cell_type": "code",
   "execution_count": 5,
   "metadata": {},
   "outputs": [
    {
     "data": {
      "text/plain": [
       "array([[0., 0., 0., ..., 1., 0., 0.],\n",
       "       [0., 0., 0., ..., 0., 1., 0.],\n",
       "       [0., 0., 0., ..., 1., 0., 0.],\n",
       "       ...,\n",
       "       [0., 0., 0., ..., 0., 0., 1.],\n",
       "       [0., 0., 0., ..., 0., 0., 0.],\n",
       "       [0., 0., 0., ..., 0., 0., 0.]], dtype=float32)"
      ]
     },
     "execution_count": 5,
     "metadata": {},
     "output_type": "execute_result"
    }
   ],
   "source": [
    "from keras.utils import to_categorical\n",
    "y_train = to_categorical(y)\n",
    "y_train"
   ]
  },
  {
   "cell_type": "code",
   "execution_count": 6,
   "metadata": {},
   "outputs": [
    {
     "name": "stdout",
     "output_type": "stream",
     "text": [
      "(42000, 784) (42000, 10) (18000, 784)\n",
      "int64 float32 int64\n"
     ]
    }
   ],
   "source": [
    "print(X_train.shape, y_train.shape, X_test.shape) #28*28 크기의 2D 배열\n",
    "print(X_train.dtype, y_train.dtype, X_test.dtype) #각 feature은 픽셀의 강도를 의미(0부터 255까지의 정수)"
   ]
  },
  {
   "cell_type": "code",
   "execution_count": 7,
   "metadata": {},
   "outputs": [
    {
     "data": {
      "image/png": "[encoded data removed]",
      "text/plain": [
       "<Figure size 432x288 with 10 Axes>"
      ]
     },
     "metadata": {},
     "output_type": "display_data"
    }
   ],
   "source": [
    "# train data 일부 나타내기\n",
    "\n",
    "fig = plt.figure()\n",
    "rn = np.random.choice(X_train.shape[0], 10, replace=False)\n",
    "\n",
    "for i in range(10):\n",
    "    subplot = fig.add_subplot(2,5,i+1)\n",
    "    subplot.set_xticks([])\n",
    "    subplot.set_yticks([]) \n",
    "    \n",
    "    image = X_train[rn[i]].reshape(28,28)\n",
    "    subplot.imshow(image, 'viridis')\n",
    "    subplot.set_title('%s' %y[rn[i]])"
   ]
  },
  {
   "cell_type": "code",
   "execution_count": 8,
   "metadata": {},
   "outputs": [
    {
     "name": "stdout",
     "output_type": "stream",
     "text": [
      "(37800, 784) (4200, 784)\n",
      "(37800, 10) (4200, 10)\n"
     ]
    }
   ],
   "source": [
    "from sklearn.model_selection import train_test_split \n",
    "\n",
    "X_train, X_valid, y_train, y_valid = train_test_split(X_train, y_train, test_size=0.1, random_state=42)\n",
    "print(X_train.shape, X_valid.shape)\n",
    "print(y_train.shape, y_valid.shape)"
   ]
  },
  {
   "cell_type": "code",
   "execution_count": 9,
   "metadata": {},
   "outputs": [],
   "source": [
    "import tensorflow as tf\n",
    "import keras"
   ]
  },
  {
   "cell_type": "code",
   "execution_count": 10,
   "metadata": {},
   "outputs": [
    {
     "name": "stdout",
     "output_type": "stream",
     "text": [
      "2.3.0\n",
      "2.4.3\n"
     ]
    }
   ],
   "source": [
    "print(tf.__version__)\n",
    "print(keras.__version__)"
   ]
  },
  {
   "cell_type": "code",
   "execution_count": 11,
   "metadata": {},
   "outputs": [
    {
     "data": {
      "text/plain": [
       "[name: \"/device:CPU:0\"\n",
       " device_type: \"CPU\"\n",
       " memory_limit: 268435456\n",
       " locality {\n",
       " }\n",
       " incarnation: 856937750444179524,\n",
       " name: \"/device:XLA_CPU:0\"\n",
       " device_type: \"XLA_CPU\"\n",
       " memory_limit: 17179869184\n",
       " locality {\n",
       " }\n",
       " incarnation: 1795832632251451622\n",
       " physical_device_desc: \"device: XLA_CPU device\",\n",
       " name: \"/device:XLA_GPU:0\"\n",
       " device_type: \"XLA_GPU\"\n",
       " memory_limit: 17179869184\n",
       " locality {\n",
       " }\n",
       " incarnation: 10705787679859588919\n",
       " physical_device_desc: \"device: XLA_GPU device\"]"
      ]
     },
     "execution_count": 11,
     "metadata": {},
     "output_type": "execute_result"
    }
   ],
   "source": [
    "# GPU 셋팅 확인\n",
    "from tensorflow.python.client import device_lib\n",
    "device_lib.list_local_devices()"
   ]
  },
  {
   "cell_type": "markdown",
   "metadata": {},
   "source": [
    "## Neural Network"
   ]
  },
  {
   "cell_type": "code",
   "execution_count": 12,
   "metadata": {},
   "outputs": [],
   "source": [
    "from tensorflow.keras.models import Sequential\n",
    "from tensorflow.keras.layers import Dense, InputLayer, BatchNormalization, Dropout\n",
    "from keras.wrappers.scikit_learn import KerasClassifier\n",
    "from sklearn.model_selection import RandomizedSearchCV"
   ]
  },
  {
   "cell_type": "markdown",
   "metadata": {},
   "source": [
    "### Vanishing Gradient & Exploding Gradient \n",
    "  \n",
    "vanishing gradient는 알고리즘이 하위층으로 진행될수록 그레디언트가 점점 작아져서 훈련이 좋은 솔루션으로 미치지 않는 것이고,  \n",
    "exploding gradient는 그레디언트가 점점 커져서 알고리즘이 발산하는 문제이다.  \n",
    "\n",
    "특히 2000년 초까지 심층 신경망을 사용할 때 로지스틱 시그모이드 활성화 함수와 가중치를 평균이 0이고 분산이 1인 정규분포로 초기화하는 법을 많이 사용했는데 이는 각 층에서 출력의 분산이 입력의 분산보다 크게 만들어, 알고리즘을 발산하게끔 만들었다고 한다. (2000년대 초까지 심층 신경망을 많이 사용하지 않았던 이유.)  \n",
    "  \n",
    "이 때, gradient의 불안정성을 완화할 수 있는 방법(=입출력의 분산을 비슷하게 만드는 방법)은 다음과 같다.\n",
    "> 1. 가중치 초기화  \n",
    "> 2. 수렴하지 않는 활성화 함수 사용(LeakyRELU, ELU, SELU)  \n",
    "> 3. Batch Normalization  "
   ]
  },
  {
   "cell_type": "markdown",
   "metadata": {},
   "source": [
    "### model1\n",
    "> val_acc : 0.9802  \n",
    "\n",
    "hidden layers | activation function | Initializer | Batch Normalization | Dropout | Optimizer | epochs\n",
    ":-: | :-: | :-: | :-: | :-: | :-: | :-:\n",
    "3 | relu | He_Uniform | True | 0.2 | adam | 20\n",
    "  \n",
    "값이 음수일 때 gradient가 소실되는 문제가 있는 relu 함수를 사용하는 대신, He_Uniform 초기화를 사용해주었다."
   ]
  },
  {
   "cell_type": "code",
   "execution_count": 16,
   "metadata": {},
   "outputs": [],
   "source": [
    "model1 = Sequential()\n",
    "model1.add(Dense(32, activation='relu', input_shape=(784,)))\n",
    "model1.add(Dense(64, activation='relu', kernel_initializer='he_uniform'))\n",
    "model1.add(BatchNormalization())\n",
    "model1.add(Dropout(0.2))\n",
    "model1.add(Dense(128, activation='relu', kernel_initializer='he_uniform'))\n",
    "model1.add(BatchNormalization())\n",
    "model1.add(Dropout(0.2))\n",
    "model1.add(Dense(256, activation='relu', kernel_initializer='he_uniform'))\n",
    "model1.add(BatchNormalization())\n",
    "model1.add(Dropout(0.2))\n",
    "model1.add(Dense(10, activation='softmax'))\n",
    "model1.compile(loss='categorical_crossentropy', optimizer='adam', metrics=['accuracy'])"
   ]
  },
  {
   "cell_type": "code",
   "execution_count": 18,
   "metadata": {},
   "outputs": [
    {
     "name": "stdout",
     "output_type": "stream",
     "text": [
      "Epoch 1/20\n",
      "1182/1182 [==============================] - 2s 2ms/step - loss: 0.4143 - accuracy: 0.8715 - val_loss: 0.1570 - val_accuracy: 0.9593\n",
      "Epoch 2/20\n",
      "1182/1182 [==============================] - 2s 1ms/step - loss: 0.1582 - accuracy: 0.9531 - val_loss: 0.1053 - val_accuracy: 0.9683\n",
      "Epoch 3/20\n",
      "1182/1182 [==============================] - 2s 2ms/step - loss: 0.1192 - accuracy: 0.9643 - val_loss: 0.0965 - val_accuracy: 0.9683\n",
      "Epoch 4/20\n",
      "1182/1182 [==============================] - 2s 1ms/step - loss: 0.0969 - accuracy: 0.9710 - val_loss: 0.1339 - val_accuracy: 0.9724\n",
      "Epoch 5/20\n",
      "1182/1182 [==============================] - 2s 1ms/step - loss: 0.0854 - accuracy: 0.9744 - val_loss: 0.0991 - val_accuracy: 0.9726\n",
      "Epoch 6/20\n",
      "1182/1182 [==============================] - 2s 1ms/step - loss: 0.0737 - accuracy: 0.9780 - val_loss: 0.0937 - val_accuracy: 0.9700\n",
      "Epoch 7/20\n",
      "1182/1182 [==============================] - 2s 1ms/step - loss: 0.0706 - accuracy: 0.9783 - val_loss: 0.0833 - val_accuracy: 0.9764\n",
      "Epoch 8/20\n",
      "1182/1182 [==============================] - 2s 1ms/step - loss: 0.0600 - accuracy: 0.9817 - val_loss: 0.0880 - val_accuracy: 0.9764\n",
      "Epoch 9/20\n",
      "1182/1182 [==============================] - 2s 1ms/step - loss: 0.0520 - accuracy: 0.9841 - val_loss: 0.0859 - val_accuracy: 0.9757\n",
      "Epoch 10/20\n",
      "1182/1182 [==============================] - 2s 2ms/step - loss: 0.0460 - accuracy: 0.9862 - val_loss: 0.0819 - val_accuracy: 0.9779\n",
      "Epoch 11/20\n",
      "1182/1182 [==============================] - 2s 2ms/step - loss: 0.0459 - accuracy: 0.9862 - val_loss: 0.0822 - val_accuracy: 0.9807\n",
      "Epoch 12/20\n",
      "1182/1182 [==============================] - 2s 2ms/step - loss: 0.0423 - accuracy: 0.9872 - val_loss: 0.0752 - val_accuracy: 0.9790\n",
      "Epoch 13/20\n",
      "1182/1182 [==============================] - 2s 2ms/step - loss: 0.0374 - accuracy: 0.9888 - val_loss: 0.0850 - val_accuracy: 0.9769\n",
      "Epoch 14/20\n",
      "1182/1182 [==============================] - 2s 2ms/step - loss: 0.0346 - accuracy: 0.9895 - val_loss: 0.0799 - val_accuracy: 0.9821\n",
      "Epoch 15/20\n",
      "1182/1182 [==============================] - 2s 2ms/step - loss: 0.0318 - accuracy: 0.9907 - val_loss: 0.0805 - val_accuracy: 0.9786\n",
      "Epoch 16/20\n",
      "1182/1182 [==============================] - 2s 2ms/step - loss: 0.0287 - accuracy: 0.9907 - val_loss: 0.0888 - val_accuracy: 0.9807\n",
      "Epoch 17/20\n",
      "1182/1182 [==============================] - 2s 1ms/step - loss: 0.0289 - accuracy: 0.9908 - val_loss: 0.0838 - val_accuracy: 0.9807\n",
      "Epoch 18/20\n",
      "1182/1182 [==============================] - 2s 1ms/step - loss: 0.0271 - accuracy: 0.9916 - val_loss: 0.0945 - val_accuracy: 0.9795\n",
      "Epoch 19/20\n",
      "1182/1182 [==============================] - 2s 1ms/step - loss: 0.0247 - accuracy: 0.9924 - val_loss: 0.0912 - val_accuracy: 0.9779\n",
      "Epoch 20/20\n",
      "1182/1182 [==============================] - 2s 1ms/step - loss: 0.0242 - accuracy: 0.9926 - val_loss: 0.1024 - val_accuracy: 0.9802\n"
     ]
    },
    {
     "data": {
      "text/plain": [
       "<tensorflow.python.keras.callbacks.History at 0x23548e52610>"
      ]
     },
     "execution_count": 18,
     "metadata": {},
     "output_type": "execute_result"
    }
   ],
   "source": [
    "model1.fit(X_train, y_train, epochs=20, validation_data=(X_valid, y_valid))"
   ]
  },
  {
   "cell_type": "markdown",
   "metadata": {},
   "source": [
    "### model2\n",
    "> val_acc : 0.981\n",
    "\n",
    "hidden layers | activation function | Initializer | Batch Normalization | Dropout | Optimizer | epochs\n",
    ":-: | :-: | :-: | :-: | :-: | :-: | :-:\n",
    "3 | Leaky relu | He_Uniform | True | 0.2 | adam | 20\n",
    "  \n",
    "보통 ReLU 보다는 Leaky ReLU가 대부분의 경우 성능이 좋다고 한다. 이 모델도 마찬가지로 He_Uniform 초기화를 사용하였다.  \n",
    "* ReLU 계열의 함수들은 kernel initializer로 He 를 사용한다."
   ]
  },
  {
   "cell_type": "code",
   "execution_count": 21,
   "metadata": {},
   "outputs": [],
   "source": [
    "model2 = Sequential([\n",
    "    keras.layers.Dense(32, input_shape=(784,)),\n",
    "    keras.layers.Dense(64, kernel_initializer='he_uniform'),\n",
    "    keras.layers.LeakyReLU(alpha=0.2), # alpha : 음수값일 때 함수의 기울기 \n",
    "    keras.layers.BatchNormalization(),\n",
    "    keras.layers.Dropout(0.2),\n",
    "    keras.layers.Dense(128, kernel_initializer='he_uniform'),\n",
    "    keras.layers.LeakyReLU(alpha=0.2), \n",
    "    keras.layers.BatchNormalization(),\n",
    "    keras.layers.Dropout(0.2),\n",
    "    keras.layers.Dense(256, kernel_initializer='he_uniform'),\n",
    "    keras.layers.LeakyReLU(alpha=0.2),\n",
    "    keras.layers.BatchNormalization(),\n",
    "    keras.layers.Dropout(0.2),\n",
    "    keras.layers.Dense(10, activation='softmax')\n",
    "])\n",
    "\n",
    "model2.compile(loss='categorical_crossentropy', optimizer='adam', metrics=['accuracy'])"
   ]
  },
  {
   "cell_type": "code",
   "execution_count": 22,
   "metadata": {},
   "outputs": [
    {
     "name": "stdout",
     "output_type": "stream",
     "text": [
      "Epoch 1/20\n",
      "1182/1182 [==============================] - 2s 2ms/step - loss: 0.3186 - accuracy: 0.9000 - val_loss: 0.1379 - val_accuracy: 0.9588\n",
      "Epoch 2/20\n",
      "1182/1182 [==============================] - 2s 2ms/step - loss: 0.1685 - accuracy: 0.9494 - val_loss: 0.1150 - val_accuracy: 0.9674\n",
      "Epoch 3/20\n",
      "1182/1182 [==============================] - 2s 2ms/step - loss: 0.1433 - accuracy: 0.9555 - val_loss: 0.0993 - val_accuracy: 0.9714\n",
      "Epoch 4/20\n",
      "1182/1182 [==============================] - 2s 2ms/step - loss: 0.1242 - accuracy: 0.9617 - val_loss: 0.1070 - val_accuracy: 0.9698\n",
      "Epoch 5/20\n",
      "1182/1182 [==============================] - 2s 2ms/step - loss: 0.1135 - accuracy: 0.9649 - val_loss: 0.0991 - val_accuracy: 0.9743\n",
      "Epoch 6/20\n",
      "1182/1182 [==============================] - 2s 2ms/step - loss: 0.1040 - accuracy: 0.9680 - val_loss: 0.0982 - val_accuracy: 0.9748\n",
      "Epoch 7/20\n",
      "1182/1182 [==============================] - 2s 2ms/step - loss: 0.1002 - accuracy: 0.9687 - val_loss: 0.0932 - val_accuracy: 0.9757\n",
      "Epoch 8/20\n",
      "1182/1182 [==============================] - 2s 2ms/step - loss: 0.0946 - accuracy: 0.9702 - val_loss: 0.0948 - val_accuracy: 0.9748\n",
      "Epoch 9/20\n",
      "1182/1182 [==============================] - 2s 2ms/step - loss: 0.0918 - accuracy: 0.9721 - val_loss: 0.0869 - val_accuracy: 0.9755\n",
      "Epoch 10/20\n",
      "1182/1182 [==============================] - 2s 2ms/step - loss: 0.0864 - accuracy: 0.9727 - val_loss: 0.0902 - val_accuracy: 0.9757\n",
      "Epoch 11/20\n",
      "1182/1182 [==============================] - 2s 2ms/step - loss: 0.0819 - accuracy: 0.9751 - val_loss: 0.0841 - val_accuracy: 0.9774\n",
      "Epoch 12/20\n",
      "1182/1182 [==============================] - 2s 2ms/step - loss: 0.0785 - accuracy: 0.9756 - val_loss: 0.0775 - val_accuracy: 0.9771\n",
      "Epoch 13/20\n",
      "1182/1182 [==============================] - 2s 2ms/step - loss: 0.0756 - accuracy: 0.9769 - val_loss: 0.0832 - val_accuracy: 0.9771\n",
      "Epoch 14/20\n",
      "1182/1182 [==============================] - 2s 2ms/step - loss: 0.0724 - accuracy: 0.9767 - val_loss: 0.0810 - val_accuracy: 0.9798\n",
      "Epoch 15/20\n",
      "1182/1182 [==============================] - 2s 2ms/step - loss: 0.0694 - accuracy: 0.9773 - val_loss: 0.0829 - val_accuracy: 0.9762\n",
      "Epoch 16/20\n",
      "1182/1182 [==============================] - 2s 2ms/step - loss: 0.0670 - accuracy: 0.9778 - val_loss: 0.0770 - val_accuracy: 0.9800\n",
      "Epoch 17/20\n",
      "1182/1182 [==============================] - 2s 2ms/step - loss: 0.0667 - accuracy: 0.9784 - val_loss: 0.0681 - val_accuracy: 0.9831\n",
      "Epoch 18/20\n",
      "1182/1182 [==============================] - 2s 2ms/step - loss: 0.0662 - accuracy: 0.9784 - val_loss: 0.0775 - val_accuracy: 0.9802\n",
      "Epoch 19/20\n",
      "1182/1182 [==============================] - 2s 2ms/step - loss: 0.0632 - accuracy: 0.9797 - val_loss: 0.0810 - val_accuracy: 0.9781\n",
      "Epoch 20/20\n",
      "1182/1182 [==============================] - 2s 2ms/step - loss: 0.0630 - accuracy: 0.9803 - val_loss: 0.0769 - val_accuracy: 0.9810\n"
     ]
    },
    {
     "data": {
      "text/plain": [
       "<tensorflow.python.keras.callbacks.History at 0x23581590df0>"
      ]
     },
     "execution_count": 22,
     "metadata": {},
     "output_type": "execute_result"
    }
   ],
   "source": [
    "model2.fit(X_train, y_train, epochs=20, validation_data=(X_valid, y_valid))"
   ]
  },
  {
   "cell_type": "markdown",
   "metadata": {},
   "source": [
    "같은 구조에 activation function만 ReLU에서 LeakyReLU로 바꿨을 때 val_acc는 정말 소폭 증가하였다."
   ]
  },
  {
   "cell_type": "markdown",
   "metadata": {},
   "source": [
    "### model3\n",
    "> val_acc : 0.9805\n",
    "\n",
    "hidden layers | activation function | Initializer | Batch Normalization | Dropout | Optimizer | epochs\n",
    ":-: | :-: | :-: | :-: | :-: | :-: | :-:\n",
    "3 | ELU | He_Uniform | True | 0.2 | adam | 20\n",
    "  \n",
    "ELU 모델도 마찬가지로 He_Uniform 초기화를 사용하였다.  "
   ]
  },
  {
   "cell_type": "code",
   "execution_count": 23,
   "metadata": {},
   "outputs": [],
   "source": [
    "model3 = Sequential([\n",
    "    keras.layers.Dense(32, input_shape=(784,)),\n",
    "    keras.layers.Dense(64, activation='elu',kernel_initializer='he_uniform'),\n",
    "    keras.layers.BatchNormalization(),\n",
    "    keras.layers.Dropout(0.2),\n",
    "    keras.layers.Dense(128, activation='elu', kernel_initializer='he_uniform'),\n",
    "    keras.layers.BatchNormalization(),\n",
    "    keras.layers.Dropout(0.2),\n",
    "    keras.layers.Dense(256, activation='elu', kernel_initializer='he_uniform'),\n",
    "    keras.layers.BatchNormalization(),\n",
    "    keras.layers.Dropout(0.2),\n",
    "    keras.layers.Dense(10, activation='softmax')\n",
    "])\n",
    "\n",
    "model3.compile(loss='categorical_crossentropy', optimizer='adam', metrics=['accuracy'])"
   ]
  },
  {
   "cell_type": "code",
   "execution_count": 24,
   "metadata": {},
   "outputs": [
    {
     "name": "stdout",
     "output_type": "stream",
     "text": [
      "Epoch 1/20\n",
      "1182/1182 [==============================] - 2s 2ms/step - loss: 0.3137 - accuracy: 0.9024 - val_loss: 0.1342 - val_accuracy: 0.9631\n",
      "Epoch 2/20\n",
      "1182/1182 [==============================] - 2s 2ms/step - loss: 0.1577 - accuracy: 0.9527 - val_loss: 0.1239 - val_accuracy: 0.9643\n",
      "Epoch 3/20\n",
      "1182/1182 [==============================] - 2s 2ms/step - loss: 0.1313 - accuracy: 0.9603 - val_loss: 0.1099 - val_accuracy: 0.9671\n",
      "Epoch 4/20\n",
      "1182/1182 [==============================] - 2s 1ms/step - loss: 0.1120 - accuracy: 0.9662 - val_loss: 0.0970 - val_accuracy: 0.9710\n",
      "Epoch 5/20\n",
      "1182/1182 [==============================] - 2s 1ms/step - loss: 0.1037 - accuracy: 0.9683 - val_loss: 0.0919 - val_accuracy: 0.9755\n",
      "Epoch 6/20\n",
      "1182/1182 [==============================] - 2s 1ms/step - loss: 0.0964 - accuracy: 0.9701 - val_loss: 0.0856 - val_accuracy: 0.9767\n",
      "Epoch 7/20\n",
      "1182/1182 [==============================] - 2s 1ms/step - loss: 0.0841 - accuracy: 0.9737 - val_loss: 0.0915 - val_accuracy: 0.9738\n",
      "Epoch 8/20\n",
      "1182/1182 [==============================] - 2s 2ms/step - loss: 0.0799 - accuracy: 0.9750 - val_loss: 0.0870 - val_accuracy: 0.9760\n",
      "Epoch 9/20\n",
      "1182/1182 [==============================] - 2s 2ms/step - loss: 0.0787 - accuracy: 0.9757 - val_loss: 0.0872 - val_accuracy: 0.9764\n",
      "Epoch 10/20\n",
      "1182/1182 [==============================] - 2s 2ms/step - loss: 0.0735 - accuracy: 0.9769 - val_loss: 0.0842 - val_accuracy: 0.9786\n",
      "Epoch 11/20\n",
      "1182/1182 [==============================] - 2s 2ms/step - loss: 0.0697 - accuracy: 0.9781 - val_loss: 0.0936 - val_accuracy: 0.9736\n",
      "Epoch 12/20\n",
      "1182/1182 [==============================] - 2s 2ms/step - loss: 0.0676 - accuracy: 0.9784 - val_loss: 0.0780 - val_accuracy: 0.9817\n",
      "Epoch 13/20\n",
      "1182/1182 [==============================] - 2s 2ms/step - loss: 0.0628 - accuracy: 0.9804 - val_loss: 0.0847 - val_accuracy: 0.9790\n",
      "Epoch 14/20\n",
      "1182/1182 [==============================] - 2s 2ms/step - loss: 0.0618 - accuracy: 0.9806 - val_loss: 0.0787 - val_accuracy: 0.9774\n",
      "Epoch 15/20\n",
      "1182/1182 [==============================] - 2s 2ms/step - loss: 0.0580 - accuracy: 0.9828 - val_loss: 0.0827 - val_accuracy: 0.9776\n",
      "Epoch 16/20\n",
      "1182/1182 [==============================] - 2s 2ms/step - loss: 0.0541 - accuracy: 0.9825 - val_loss: 0.0755 - val_accuracy: 0.9786\n",
      "Epoch 17/20\n",
      "1182/1182 [==============================] - 2s 2ms/step - loss: 0.0575 - accuracy: 0.9820 - val_loss: 0.0749 - val_accuracy: 0.9805\n",
      "Epoch 18/20\n",
      "1182/1182 [==============================] - 2s 2ms/step - loss: 0.0521 - accuracy: 0.9831 - val_loss: 0.0812 - val_accuracy: 0.9800\n",
      "Epoch 19/20\n",
      "1182/1182 [==============================] - 2s 2ms/step - loss: 0.0533 - accuracy: 0.9836 - val_loss: 0.0774 - val_accuracy: 0.9795\n",
      "Epoch 20/20\n",
      "1182/1182 [==============================] - 2s 2ms/step - loss: 0.0486 - accuracy: 0.9851 - val_loss: 0.0760 - val_accuracy: 0.9805\n"
     ]
    },
    {
     "data": {
      "text/plain": [
       "<tensorflow.python.keras.callbacks.History at 0x23581cdf340>"
      ]
     },
     "execution_count": 24,
     "metadata": {},
     "output_type": "execute_result"
    }
   ],
   "source": [
    "model3.fit(X_train, y_train, epochs=20, validation_data=(X_valid, y_valid))"
   ]
  },
  {
   "cell_type": "markdown",
   "metadata": {},
   "source": [
    "ReLU 계열 activation function을 사용한 세 가지 모델의 val_acc는 약 0.98로 매우 비슷했다.  \n",
    "이는 gradient 손실 혹은 폭주 문제를 해결해주는 강력한 방법 중 하나인 Batch Normalization을 매 경우 사용했기 때문에 활성화 함수의 차이로 인한 val_acc 차이가 크지 않았던 것이 아닌가 라는 생각이 들었다.  \n",
    "  \n",
    "Batch Normalization은 \n",
    "* 거의 모든 심층 신경망에서 성능을 크게 향상시키며,\n",
    "* 그레디언트 소실 문제가 크게 감소하여 하이퍼볼릭 탄젠트나 로지스틱 활성화 함수와 같이 수렴성을 가진 활성화 함수를 사용할 수 있게 하고,  \n",
    "* 규제와 같은 역할을 하여 Dropout, L1 L2 regularization과 같은 다른 규제 기법의 필요성을 줄여준다.  \n",
    "(그러나 이에 대한 기여도는 매우 높은 편은 아니기 때문에 드롭아웃을 함께 사용하는 것이 좋다.)\n",
    "* 배치 정규화마다 추가적인 계산이 이루어지기 때문에 에포크마다 더 많은 시간이 걸리지만, 수렴하는 데에 걸리는 시간이 훨씬 짧아지므로 보통 상쇄된다고 한다.  \n",
    "  \n",
    "Batch Normalizaion을 제거했을 때 얼마나 큰 영향을 미칠지 확인해보기 위해 model4를 생성한다."
   ]
  },
  {
   "cell_type": "markdown",
   "metadata": {},
   "source": [
    "### model4\n",
    "> val_acc : 0.9486\n",
    "\n",
    "hidden layers | activation function | Initializer | Batch Normalization | Dropout | Optimizer | epochs\n",
    ":-: | :-: | :-: | :-: | :-: | :-: | :-:\n",
    "3 | ELU | He_Uniform | **False** | 0.2 | adam | 20"
   ]
  },
  {
   "cell_type": "code",
   "execution_count": 25,
   "metadata": {},
   "outputs": [],
   "source": [
    "model4 = Sequential([\n",
    "    keras.layers.Dense(32, input_shape=(784,)),\n",
    "    keras.layers.Dense(64, activation='elu',kernel_initializer='he_uniform'),\n",
    "    keras.layers.Dropout(0.2),\n",
    "    keras.layers.Dense(128, activation='elu', kernel_initializer='he_uniform'),\n",
    "    keras.layers.Dropout(0.2),\n",
    "    keras.layers.Dense(256, activation='elu', kernel_initializer='he_uniform'),\n",
    "    keras.layers.Dropout(0.2),\n",
    "    keras.layers.Dense(10, activation='softmax')\n",
    "])\n",
    "\n",
    "model4.compile(loss='categorical_crossentropy', optimizer='adam', metrics=['accuracy'])"
   ]
  },
  {
   "cell_type": "code",
   "execution_count": 26,
   "metadata": {},
   "outputs": [
    {
     "name": "stdout",
     "output_type": "stream",
     "text": [
      "Epoch 1/20\n",
      "1182/1182 [==============================] - 2s 1ms/step - loss: 8.6742 - accuracy: 0.5875 - val_loss: 0.9755 - val_accuracy: 0.7760\n",
      "Epoch 2/20\n",
      "1182/1182 [==============================] - 2s 1ms/step - loss: 1.0145 - accuracy: 0.7296 - val_loss: 0.7440 - val_accuracy: 0.8426\n",
      "Epoch 3/20\n",
      "1182/1182 [==============================] - 1s 1ms/step - loss: 0.7604 - accuracy: 0.7986 - val_loss: 0.4299 - val_accuracy: 0.9002\n",
      "Epoch 4/20\n",
      "1182/1182 [==============================] - 1s 1ms/step - loss: 0.5548 - accuracy: 0.8481 - val_loss: 0.3932 - val_accuracy: 0.9117\n",
      "Epoch 5/20\n",
      "1182/1182 [==============================] - 2s 1ms/step - loss: 0.4649 - accuracy: 0.8748 - val_loss: 0.3115 - val_accuracy: 0.9271\n",
      "Epoch 6/20\n",
      "1182/1182 [==============================] - 2s 1ms/step - loss: 0.4171 - accuracy: 0.8865 - val_loss: 0.3080 - val_accuracy: 0.9288\n",
      "Epoch 7/20\n",
      "1182/1182 [==============================] - 1s 1ms/step - loss: 0.3868 - accuracy: 0.8968 - val_loss: 0.3027 - val_accuracy: 0.9248\n",
      "Epoch 8/20\n",
      "1182/1182 [==============================] - 1s 1ms/step - loss: 0.3815 - accuracy: 0.9009 - val_loss: 0.2716 - val_accuracy: 0.9362\n",
      "Epoch 9/20\n",
      "1182/1182 [==============================] - 1s 1ms/step - loss: 0.3439 - accuracy: 0.9104 - val_loss: 0.2739 - val_accuracy: 0.9360\n",
      "Epoch 10/20\n",
      "1182/1182 [==============================] - 1s 1ms/step - loss: 0.3388 - accuracy: 0.9135 - val_loss: 0.2456 - val_accuracy: 0.9431\n",
      "Epoch 11/20\n",
      "1182/1182 [==============================] - 1s 1ms/step - loss: 0.3274 - accuracy: 0.9167 - val_loss: 0.3400 - val_accuracy: 0.9431\n",
      "Epoch 12/20\n",
      "1182/1182 [==============================] - 1s 1ms/step - loss: 0.3043 - accuracy: 0.9199 - val_loss: 0.3176 - val_accuracy: 0.9402\n",
      "Epoch 13/20\n",
      "1182/1182 [==============================] - 1s 1ms/step - loss: 0.2770 - accuracy: 0.9282 - val_loss: 0.2768 - val_accuracy: 0.9450\n",
      "Epoch 14/20\n",
      "1182/1182 [==============================] - 1s 1ms/step - loss: 0.3123 - accuracy: 0.9178 - val_loss: 0.3275 - val_accuracy: 0.8938\n",
      "Epoch 15/20\n",
      "1182/1182 [==============================] - 1s 1ms/step - loss: 0.2841 - accuracy: 0.9233 - val_loss: 0.3491 - val_accuracy: 0.9438\n",
      "Epoch 16/20\n",
      "1182/1182 [==============================] - 1s 1ms/step - loss: 0.3018 - accuracy: 0.9241 - val_loss: 0.2820 - val_accuracy: 0.9481\n",
      "Epoch 17/20\n",
      "1182/1182 [==============================] - 1s 1ms/step - loss: 0.2959 - accuracy: 0.9268 - val_loss: 0.3096 - val_accuracy: 0.9500\n",
      "Epoch 18/20\n",
      "1182/1182 [==============================] - 1s 1ms/step - loss: 0.2597 - accuracy: 0.9328 - val_loss: 0.4861 - val_accuracy: 0.9433\n",
      "Epoch 19/20\n",
      "1182/1182 [==============================] - 1s 1ms/step - loss: 0.2531 - accuracy: 0.9346 - val_loss: 0.3547 - val_accuracy: 0.9367\n",
      "Epoch 20/20\n",
      "1182/1182 [==============================] - 1s 1ms/step - loss: 0.2776 - accuracy: 0.9247 - val_loss: 0.3887 - val_accuracy: 0.9486\n"
     ]
    },
    {
     "data": {
      "text/plain": [
       "<tensorflow.python.keras.callbacks.History at 0x2358276ae50>"
      ]
     },
     "execution_count": 26,
     "metadata": {},
     "output_type": "execute_result"
    }
   ],
   "source": [
    "model4.fit(X_train, y_train, epochs=20, validation_data=(X_valid, y_valid))"
   ]
  },
  {
   "cell_type": "markdown",
   "metadata": {},
   "source": [
    "model3과 같은 조건에서 배치 정규화 레이어만 삭제했을 때 val_acc가 0.9805에서 0.9486으로 매우 많이 떨어졌다."
   ]
  },
  {
   "cell_type": "markdown",
   "metadata": {},
   "source": [
    "## Randomized GridSearch  \n",
    "  \n",
    "사실 Randomized GridSearch를 통해서 학습 시간은 줄이고 최적의 모수를 찾을 수 있는 방향으로 작업을 진행해보려 했으나 코드에 계속 오류가 나서 아쉬운 마음에 코드라도 첨부해봅니다,,, (총총) 왜 그런지 이유는 알아내지 못했슴니당,,, 흑흑"
   ]
  },
  {
   "cell_type": "code",
   "execution_count": null,
   "metadata": {},
   "outputs": [],
   "source": [
    "'''\n",
    "def build_model(hidden_nodes, act, batch_num, drop_num, opt_list, lr):\n",
    "    \n",
    "    model = Sequential()\n",
    "    model.add(Dense(hidden_nodes, activation=act, input_shape=(784,)))\n",
    "    \n",
    "    model.add(Dense(hidden_nodes, activation=act))\n",
    "    if batch_num!=0:\n",
    "        model.add(BatchNormalization())\n",
    "    if drop_num!=0 : \n",
    "        model.add(Dropout(drop_num))\n",
    "    \n",
    "    model.add(Dense(hidden_nodes, activation=act))\n",
    "    if batch_num != 0:\n",
    "        model.add(BatchNormalization())\n",
    "    if drop_num != 0:\n",
    "        model.add(Dropout(drop_num))              \n",
    "    \n",
    "    model.add(Dense(hidden_nodes, activation=act))\n",
    "    if batch_num != 0:\n",
    "        model.add(BatchNormalization())\n",
    "    if drop_num != 0:\n",
    "        model.add(Dropout(drop_num))\n",
    "    \n",
    "    opt = getattr(keras.optimizers, opt_list)(learning_rate=lr)\n",
    "    model.add(Dense(10, activation='softmax'))                  \n",
    "    model.compile(loss='categorical_crossentropy', optimizer=opt, metrics=['accuracy'])\n",
    "\n",
    "    return model\n",
    "'''"
   ]
  },
  {
   "cell_type": "code",
   "execution_count": null,
   "metadata": {},
   "outputs": [],
   "source": [
    "'''\n",
    "search_model = KerasClassifier(build_fn=build_model, verbose=3)\n",
    "\n",
    "param_grid = {\n",
    "    'hidden_nodes' : [32, 64, 128, 256],\n",
    "    'act' : ['relu'], 'batch_num' : [0,1], 'drop_num' : [0, 0.2, 0.4],\n",
    "    'opt_list' : ['adam', 'RMSprop'], 'lr' : [0.01, 0.005, 0.001]\n",
    "}\n",
    "\n",
    "rnd_search_cv = RandomizedSearchCV(search_model, param_grid, cv=3, scoring='accuracy')\n",
    "rnd_result = rnd_search_cv.fit(X_train, y_train)\n",
    "\n",
    "'''"
   ]
  },
  {
   "cell_type": "markdown",
   "metadata": {},
   "source": [
    "## CNN  \n",
    "  \n",
    "Kannada MNIST 데이터의 경우 CNN(Convolution Neural Network)을 사용하여 높은 accuracy를 낸 사람들을 Kaggle에서 많이 볼 수 있었다. 그래서 추가적으로 CNN을 공부하고 이를 활용한 모델을 만들어봤다.  \n",
    "\n",
    "이미지 인식 문제에 일반적인 완전연결층의 심층신경망을 사용하지 않는 이유는, 완전연결층의 심층신경망은 작은 이미지에서는 잘 작동하지만 아주 큰 이미지에서는 너무 많은 파라미터가 만들어지기 때문이라고 한다.\n",
    "  \n",
    "일반적인 CNN 구조는 다음과 같다.\n",
    "> 입력 - (합성곱 - 풀링) * N번  - 완전연결  "
   ]
  },
  {
   "cell_type": "markdown",
   "metadata": {},
   "source": [
    "* 합성곱 (Conv2D) : 입력층의 일부를 각 필터가 일정 간격(스트라이드)에 따라서 연결. 하나의 합성곱 층은 입력에 여러 필터를 동시에 적용하여 입력에 있는 여러 특성을 감지함.\n",
    "* 풀링 (MaxPool2D) : 과대적합 위험을 줄이기 위해 파라미터 수를 줄이는 입력 이미지의 축소본을 만드는 것. 각 커널 내에서 가장 큰 입력값이 다음 층으로 전달됨.\n",
    "* 완전연결 (Flatten) : Flatten 함수를 이용하여 입력을 일렬로 펼치고, 과대적합을 막기 위해 dropout(ex 50%)을 진행함."
   ]
  },
  {
   "cell_type": "code",
   "execution_count": 19,
   "metadata": {},
   "outputs": [],
   "source": [
    "# scaling and reshaping\n",
    "\n",
    "X_train = (X_train / 255).reshape(X_train.shape[0], 28, 28, 1) #28 height, 28 width, 1 channel\n",
    "X_valid = (X_valid / 255).reshape(X_valid.shape[0], 28, 28, 1) #28 height, 28 width, 1 channel\n",
    "X_test = (X_test / 255).reshape(X_test.shape[0], 28, 28, 1) #28 height, 28 width, 1 channel"
   ]
  },
  {
   "cell_type": "code",
   "execution_count": 20,
   "metadata": {},
   "outputs": [
    {
     "name": "stdout",
     "output_type": "stream",
     "text": [
      "(37800, 28, 28, 1) (4200, 28, 28, 1) (18000, 28, 28, 1)\n"
     ]
    }
   ],
   "source": [
    "print(X_train.shape, X_valid.shape, X_test.shape)"
   ]
  },
  {
   "cell_type": "code",
   "execution_count": 21,
   "metadata": {},
   "outputs": [],
   "source": [
    "seed = 42\n",
    "np.random.seed(seed)"
   ]
  },
  {
   "cell_type": "markdown",
   "metadata": {},
   "source": [
    "### model5 \n",
    "> train_acc : 0.9991  \n",
    "val_acc : 0.9950  \n",
    "test_acc : 0.99518\n",
    "\n",
    "전형적인 CNN 구조를 적용한 모델이며 층을 많이 쌓지는 않았다."
   ]
  },
  {
   "cell_type": "code",
   "execution_count": 33,
   "metadata": {},
   "outputs": [],
   "source": [
    "model5 = keras.models.Sequential([\n",
    "    keras.layers.Conv2D(32, kernel_size=5, padding='same', activation='relu', input_shape=[28,28,1]), #입력\n",
    "    # padding='valid' : 스트라이드에 따라 입력 이미지의 아래와 오른쪽 행, 열이 무시될 수 있다.\n",
    "    # padding='same' : 입력 이미지가 무시되지 않고 모두 출력됨\n",
    "    keras.layers.BatchNormalization(),\n",
    "    \n",
    "    keras.layers.Conv2D(64, kernel_size=5, padding='same', activation='relu'), # 합성곱\n",
    "    keras.layers.BatchNormalization(),\n",
    "    keras.layers.MaxPool2D(2), #풀링\n",
    "    \n",
    "    keras.layers.Flatten(), #완전연결\n",
    "    keras.layers.BatchNormalization(),\n",
    "    keras.layers.Dropout(0.25),\n",
    "    keras.layers.Dense(128, activation='relu'),\n",
    "    keras.layers.BatchNormalization(),\n",
    "    keras.layers.Dropout(0.4),\n",
    "    \n",
    "    keras.layers.Dense(10, activation='softmax') #출력\n",
    "])"
   ]
  },
  {
   "cell_type": "code",
   "execution_count": 30,
   "metadata": {},
   "outputs": [
    {
     "name": "stdout",
     "output_type": "stream",
     "text": [
      "Model: \"sequential_4\"\n",
      "_________________________________________________________________\n",
      "Layer (type)                 Output Shape              Param #   \n",
      "=================================================================\n",
      "conv2d_11 (Conv2D)           (None, 28, 28, 32)        832       \n",
      "_________________________________________________________________\n",
      "batch_normalization_19 (Batc (None, 28, 28, 32)        128       \n",
      "_________________________________________________________________\n",
      "conv2d_12 (Conv2D)           (None, 28, 28, 64)        51264     \n",
      "_________________________________________________________________\n",
      "batch_normalization_20 (Batc (None, 28, 28, 64)        256       \n",
      "_________________________________________________________________\n",
      "max_pooling2d_7 (MaxPooling2 (None, 14, 14, 64)        0         \n",
      "_________________________________________________________________\n",
      "flatten_4 (Flatten)          (None, 12544)             0         \n",
      "_________________________________________________________________\n",
      "batch_normalization_21 (Batc (None, 12544)             50176     \n",
      "_________________________________________________________________\n",
      "dropout_8 (Dropout)          (None, 12544)             0         \n",
      "_________________________________________________________________\n",
      "dense_11 (Dense)             (None, 128)               1605760   \n",
      "_________________________________________________________________\n",
      "batch_normalization_22 (Batc (None, 128)               512       \n",
      "_________________________________________________________________\n",
      "dropout_9 (Dropout)          (None, 128)               0         \n",
      "_________________________________________________________________\n",
      "dense_12 (Dense)             (None, 10)                1290      \n",
      "=================================================================\n",
      "Total params: 1,710,218\n",
      "Trainable params: 1,684,682\n",
      "Non-trainable params: 25,536\n",
      "_________________________________________________________________\n"
     ]
    }
   ],
   "source": [
    "model5.summary()"
   ]
  },
  {
   "cell_type": "code",
   "execution_count": 34,
   "metadata": {},
   "outputs": [
    {
     "name": "stdout",
     "output_type": "stream",
     "text": [
      "Epoch 1/30\n",
      "1182/1182 [==============================] - 123s 104ms/step - loss: 0.1077 - accuracy: 0.9678 - val_loss: 0.0371 - val_accuracy: 0.9883\n",
      "Epoch 2/30\n",
      "1182/1182 [==============================] - 123s 104ms/step - loss: 0.0388 - accuracy: 0.9879 - val_loss: 0.0455 - val_accuracy: 0.9874\n",
      "Epoch 3/30\n",
      "1182/1182 [==============================] - 122s 103ms/step - loss: 0.0310 - accuracy: 0.9903 - val_loss: 0.0250 - val_accuracy: 0.9919\n",
      "Epoch 4/30\n",
      "1182/1182 [==============================] - 127s 107ms/step - loss: 0.0266 - accuracy: 0.9917 - val_loss: 0.0329 - val_accuracy: 0.9912\n",
      "Epoch 5/30\n",
      "1182/1182 [==============================] - 127s 107ms/step - loss: 0.0255 - accuracy: 0.9924 - val_loss: 0.0282 - val_accuracy: 0.9926\n",
      "Epoch 6/30\n",
      "1182/1182 [==============================] - 119s 100ms/step - loss: 0.0163 - accuracy: 0.9949 - val_loss: 0.0286 - val_accuracy: 0.9912\n",
      "Epoch 7/30\n",
      "1182/1182 [==============================] - 119s 100ms/step - loss: 0.0188 - accuracy: 0.9939 - val_loss: 0.0376 - val_accuracy: 0.9910\n",
      "Epoch 8/30\n",
      "1182/1182 [==============================] - 121s 103ms/step - loss: 0.0156 - accuracy: 0.9953 - val_loss: 0.0290 - val_accuracy: 0.9933\n",
      "Epoch 9/30\n",
      "1182/1182 [==============================] - 119s 101ms/step - loss: 0.0116 - accuracy: 0.9965 - val_loss: 0.0235 - val_accuracy: 0.9943\n",
      "Epoch 10/30\n",
      "1182/1182 [==============================] - 115s 97ms/step - loss: 0.0124 - accuracy: 0.9960 - val_loss: 0.0342 - val_accuracy: 0.9912\n",
      "Epoch 11/30\n",
      "1182/1182 [==============================] - 124s 105ms/step - loss: 0.0111 - accuracy: 0.9962 - val_loss: 0.0268 - val_accuracy: 0.9924\n",
      "Epoch 12/30\n",
      "1182/1182 [==============================] - 121s 102ms/step - loss: 0.0111 - accuracy: 0.9962 - val_loss: 0.0325 - val_accuracy: 0.9926\n",
      "Epoch 13/30\n",
      "1182/1182 [==============================] - 121s 102ms/step - loss: 0.0091 - accuracy: 0.9972 - val_loss: 0.0321 - val_accuracy: 0.9924\n",
      "Epoch 14/30\n",
      "1182/1182 [==============================] - 118s 100ms/step - loss: 0.0095 - accuracy: 0.9975 - val_loss: 0.0276 - val_accuracy: 0.9936\n",
      "Epoch 15/30\n",
      "1182/1182 [==============================] - 119s 101ms/step - loss: 0.0093 - accuracy: 0.9972 - val_loss: 0.0295 - val_accuracy: 0.9933\n",
      "Epoch 16/30\n",
      "1182/1182 [==============================] - 121s 102ms/step - loss: 0.0096 - accuracy: 0.9970 - val_loss: 0.0276 - val_accuracy: 0.9940\n",
      "Epoch 17/30\n",
      "1182/1182 [==============================] - 119s 101ms/step - loss: 0.0056 - accuracy: 0.9980 - val_loss: 0.0280 - val_accuracy: 0.9933\n",
      "Epoch 18/30\n",
      "1182/1182 [==============================] - 125s 106ms/step - loss: 0.0096 - accuracy: 0.9969 - val_loss: 0.0536 - val_accuracy: 0.9917\n",
      "Epoch 19/30\n",
      "1182/1182 [==============================] - 121s 103ms/step - loss: 0.0078 - accuracy: 0.9975 - val_loss: 0.0235 - val_accuracy: 0.9945\n",
      "Epoch 20/30\n",
      "1182/1182 [==============================] - 124s 105ms/step - loss: 0.0062 - accuracy: 0.9977 - val_loss: 0.0357 - val_accuracy: 0.9931\n",
      "Epoch 21/30\n",
      "1182/1182 [==============================] - 117s 99ms/step - loss: 0.0061 - accuracy: 0.9979 - val_loss: 0.0318 - val_accuracy: 0.9926\n",
      "Epoch 22/30\n",
      "1182/1182 [==============================] - 121s 102ms/step - loss: 0.0065 - accuracy: 0.9979 - val_loss: 0.0323 - val_accuracy: 0.9940\n",
      "Epoch 23/30\n",
      "1182/1182 [==============================] - 116s 98ms/step - loss: 0.0080 - accuracy: 0.9972 - val_loss: 0.0306 - val_accuracy: 0.9940\n",
      "Epoch 24/30\n",
      "1182/1182 [==============================] - 119s 101ms/step - loss: 0.0046 - accuracy: 0.9987 - val_loss: 0.0331 - val_accuracy: 0.9931\n",
      "Epoch 25/30\n",
      "1182/1182 [==============================] - 118s 100ms/step - loss: 0.0050 - accuracy: 0.9984 - val_loss: 0.0391 - val_accuracy: 0.9943\n",
      "Epoch 26/30\n",
      "1182/1182 [==============================] - 119s 101ms/step - loss: 0.0062 - accuracy: 0.9980 - val_loss: 0.0361 - val_accuracy: 0.9940\n",
      "Epoch 27/30\n",
      "1182/1182 [==============================] - 120s 101ms/step - loss: 0.0047 - accuracy: 0.9982 - val_loss: 0.0272 - val_accuracy: 0.9952\n",
      "Epoch 28/30\n",
      "1182/1182 [==============================] - 117s 99ms/step - loss: 0.0063 - accuracy: 0.9979 - val_loss: 0.0432 - val_accuracy: 0.9917\n",
      "Epoch 29/30\n",
      "1182/1182 [==============================] - 117s 99ms/step - loss: 0.0050 - accuracy: 0.9982 - val_loss: 0.0290 - val_accuracy: 0.9938\n",
      "Epoch 30/30\n",
      "1182/1182 [==============================] - 117s 99ms/step - loss: 0.0029 - accuracy: 0.9991 - val_loss: 0.0289 - val_accuracy: 0.9950\n"
     ]
    },
    {
     "data": {
      "text/plain": [
       "<tensorflow.python.keras.callbacks.History at 0x23e43508e80>"
      ]
     },
     "execution_count": 34,
     "metadata": {},
     "output_type": "execute_result"
    }
   ],
   "source": [
    "model5.compile(loss='categorical_crossentropy', optimizer='adam', metrics=['accuracy'])\n",
    "\n",
    "model5.fit(X_train, y_train, epochs=30, validation_data=(X_valid, y_valid))"
   ]
  },
  {
   "cell_type": "code",
   "execution_count": 35,
   "metadata": {},
   "outputs": [],
   "source": [
    "y_pred = model5.predict_classes(X_test)\n",
    "y_pred\n",
    "\n",
    "submissions = pd.DataFrame({'Id' : np.array(test_id), 'Category' : y_pred})\n",
    "submissions.to_csv(\"submission5.csv\", index=False, header=True)"
   ]
  },
  {
   "cell_type": "markdown",
   "metadata": {},
   "source": [
    "## model6 (Best Model)\n",
    "> train acc : 0.9987  \n",
    "val acc : 0.9952  \n",
    "test acc : 0.99703  \n",
    "  \n",
    "좀 더 깊은 신경망을 사용했기 때문에 overfitting 문제를 예방하기 위해\n",
    "* 풀링에선 stride 크기를 늘려서 다음층으로 출력되는 크기를 줄였다  \n",
    "* 완전연결층에서 dropout 비율을 조금 더 높게 설정해주었다.  \n",
    "  \n",
    "그 결과 model5와 비슷한 val acc를 가졌으나 test acc는 꽤 더 높은 값을 얻을 수 있었다. (overfitting 개선!)"
   ]
  },
  {
   "cell_type": "code",
   "execution_count": 92,
   "metadata": {},
   "outputs": [],
   "source": [
    "model6 = keras.models.Sequential([\n",
    "    \n",
    "    keras.layers.Conv2D(32, kernel_size=(5,5), padding='same', activation='relu', input_shape=(28,28,1)),\n",
    "    keras.layers.BatchNormalization(),\n",
    "    keras.layers.Conv2D(32, kernel_size=(5,5), padding='same', activation='relu'),\n",
    "    keras.layers.BatchNormalization(),\n",
    "    keras.layers.MaxPool2D(pool_size=(2,2)),\n",
    "    keras.layers.BatchNormalization(),\n",
    "    keras.layers.Dropout(0.25),\n",
    "    \n",
    "    keras.layers.Conv2D(64, kernel_size=(5,5), padding='same', activation='relu'),\n",
    "    keras.layers.BatchNormalization(),\n",
    "    keras.layers.Conv2D(64, kernel_size=(5,5), padding='same', activation='relu'),\n",
    "    keras.layers.BatchNormalization(),\n",
    "    keras.layers.MaxPool2D(pool_size=(2,2), strides=(2,2)), #stride 옵션을 바꾸어 진행함.\n",
    "    keras.layers.BatchNormalization(),\n",
    "    keras.layers.Dropout(0.25),\n",
    "    \n",
    "    keras.layers.Flatten(),\n",
    "    keras.layers.BatchNormalization(),\n",
    "    keras.layers.Dense(256, activation = \"relu\"),\n",
    "    keras.layers.BatchNormalization(),\n",
    "    keras.layers.Dropout(0.5),\n",
    "    \n",
    "    keras.layers.Dense(10, activation = \"softmax\")\n",
    "])"
   ]
  },
  {
   "cell_type": "code",
   "execution_count": 93,
   "metadata": {},
   "outputs": [
    {
     "name": "stdout",
     "output_type": "stream",
     "text": [
      "Model: \"sequential_4\"\n",
      "_________________________________________________________________\n",
      "Layer (type)                 Output Shape              Param #   \n",
      "=================================================================\n",
      "conv2d_16 (Conv2D)           (None, 28, 28, 32)        832       \n",
      "_________________________________________________________________\n",
      "batch_normalization_16 (Batc (None, 28, 28, 32)        128       \n",
      "_________________________________________________________________\n",
      "conv2d_17 (Conv2D)           (None, 28, 28, 32)        25632     \n",
      "_________________________________________________________________\n",
      "batch_normalization_17 (Batc (None, 28, 28, 32)        128       \n",
      "_________________________________________________________________\n",
      "max_pooling2d_8 (MaxPooling2 (None, 14, 14, 32)        0         \n",
      "_________________________________________________________________\n",
      "batch_normalization_18 (Batc (None, 14, 14, 32)        128       \n",
      "_________________________________________________________________\n",
      "dropout_12 (Dropout)         (None, 14, 14, 32)        0         \n",
      "_________________________________________________________________\n",
      "conv2d_18 (Conv2D)           (None, 14, 14, 64)        51264     \n",
      "_________________________________________________________________\n",
      "batch_normalization_19 (Batc (None, 14, 14, 64)        256       \n",
      "_________________________________________________________________\n",
      "conv2d_19 (Conv2D)           (None, 14, 14, 64)        102464    \n",
      "_________________________________________________________________\n",
      "batch_normalization_20 (Batc (None, 14, 14, 64)        256       \n",
      "_________________________________________________________________\n",
      "max_pooling2d_9 (MaxPooling2 (None, 7, 7, 64)          0         \n",
      "_________________________________________________________________\n",
      "batch_normalization_21 (Batc (None, 7, 7, 64)          256       \n",
      "_________________________________________________________________\n",
      "dropout_13 (Dropout)         (None, 7, 7, 64)          0         \n",
      "_________________________________________________________________\n",
      "flatten_4 (Flatten)          (None, 3136)              0         \n",
      "_________________________________________________________________\n",
      "batch_normalization_22 (Batc (None, 3136)              12544     \n",
      "_________________________________________________________________\n",
      "dense_8 (Dense)              (None, 256)               803072    \n",
      "_________________________________________________________________\n",
      "batch_normalization_23 (Batc (None, 256)               1024      \n",
      "_________________________________________________________________\n",
      "dropout_14 (Dropout)         (None, 256)               0         \n",
      "_________________________________________________________________\n",
      "dense_9 (Dense)              (None, 10)                2570      \n",
      "=================================================================\n",
      "Total params: 1,000,554\n",
      "Trainable params: 993,194\n",
      "Non-trainable params: 7,360\n",
      "_________________________________________________________________\n"
     ]
    }
   ],
   "source": [
    "model6.summary()"
   ]
  },
  {
   "cell_type": "code",
   "execution_count": 87,
   "metadata": {},
   "outputs": [],
   "source": [
    "optimizer = keras.optimizers.RMSprop(lr=0.001, rho=0.9, epsilon=1e-08, decay=0.0)\n",
    "\n",
    "model6.compile(optimizer = optimizer, loss='categorical_crossentropy', metrics=['accuracy'])\n",
    "# optimizer는 그 전과 다르게 RMSprop을 사용했다.(rho가 작을수록 gradient를 더 크게 반영함)"
   ]
  },
  {
   "cell_type": "code",
   "execution_count": 88,
   "metadata": {},
   "outputs": [
    {
     "name": "stdout",
     "output_type": "stream",
     "text": [
      "Epoch 1/30\n",
      "1182/1182 [==============================] - 147s 125ms/step - loss: 0.1101 - accuracy: 0.9675 - val_loss: 0.0339 - val_accuracy: 0.9921\n",
      "Epoch 2/30\n",
      "1182/1182 [==============================] - 146s 124ms/step - loss: 0.0451 - accuracy: 0.9878 - val_loss: 0.0307 - val_accuracy: 0.9926\n",
      "Epoch 3/30\n",
      "1182/1182 [==============================] - 146s 124ms/step - loss: 0.0335 - accuracy: 0.9903 - val_loss: 0.0252 - val_accuracy: 0.9929\n",
      "Epoch 4/30\n",
      "1182/1182 [==============================] - 149s 126ms/step - loss: 0.0289 - accuracy: 0.9919 - val_loss: 0.0180 - val_accuracy: 0.9957\n",
      "Epoch 5/30\n",
      "1182/1182 [==============================] - 150s 127ms/step - loss: 0.0218 - accuracy: 0.9937 - val_loss: 0.0201 - val_accuracy: 0.9945\n",
      "Epoch 6/30\n",
      "1182/1182 [==============================] - 149s 126ms/step - loss: 0.0222 - accuracy: 0.9943 - val_loss: 0.0308 - val_accuracy: 0.9938\n",
      "Epoch 7/30\n",
      "1182/1182 [==============================] - 145s 123ms/step - loss: 0.0231 - accuracy: 0.9939 - val_loss: 0.0288 - val_accuracy: 0.9943\n",
      "Epoch 8/30\n",
      "1182/1182 [==============================] - 149s 126ms/step - loss: 0.0193 - accuracy: 0.9945 - val_loss: 0.0248 - val_accuracy: 0.9948\n",
      "Epoch 9/30\n",
      "1182/1182 [==============================] - 157s 133ms/step - loss: 0.0151 - accuracy: 0.9957 - val_loss: 0.0221 - val_accuracy: 0.9955\n",
      "Epoch 10/30\n",
      "1182/1182 [==============================] - 158s 134ms/step - loss: 0.0150 - accuracy: 0.9960 - val_loss: 0.0262 - val_accuracy: 0.9943\n",
      "Epoch 11/30\n",
      "1182/1182 [==============================] - 153s 130ms/step - loss: 0.0136 - accuracy: 0.9961 - val_loss: 0.0226 - val_accuracy: 0.9938\n",
      "Epoch 12/30\n",
      "1182/1182 [==============================] - 159s 135ms/step - loss: 0.0132 - accuracy: 0.9967 - val_loss: 0.0271 - val_accuracy: 0.9940\n",
      "Epoch 13/30\n",
      "1182/1182 [==============================] - 154s 131ms/step - loss: 0.0124 - accuracy: 0.9966 - val_loss: 0.0365 - val_accuracy: 0.9943\n",
      "Epoch 14/30\n",
      "1182/1182 [==============================] - 157s 133ms/step - loss: 0.0116 - accuracy: 0.9972 - val_loss: 0.0269 - val_accuracy: 0.9943\n",
      "Epoch 15/30\n",
      "1182/1182 [==============================] - 161s 137ms/step - loss: 0.0106 - accuracy: 0.9969 - val_loss: 0.0192 - val_accuracy: 0.9964\n",
      "Epoch 16/30\n",
      "1182/1182 [==============================] - 151s 127ms/step - loss: 0.0106 - accuracy: 0.9972 - val_loss: 0.0230 - val_accuracy: 0.9957\n",
      "Epoch 17/30\n",
      "1182/1182 [==============================] - 148s 125ms/step - loss: 0.0082 - accuracy: 0.9977 - val_loss: 0.0227 - val_accuracy: 0.9957\n",
      "Epoch 18/30\n",
      "1182/1182 [==============================] - 157s 132ms/step - loss: 0.0082 - accuracy: 0.9976 - val_loss: 0.0346 - val_accuracy: 0.9940\n",
      "Epoch 19/30\n",
      "1182/1182 [==============================] - 158s 134ms/step - loss: 0.0078 - accuracy: 0.9978 - val_loss: 0.0396 - val_accuracy: 0.9948\n",
      "Epoch 20/30\n",
      "1182/1182 [==============================] - 151s 128ms/step - loss: 0.0091 - accuracy: 0.9975 - val_loss: 0.0274 - val_accuracy: 0.9957\n",
      "Epoch 21/30\n",
      "1182/1182 [==============================] - 152s 129ms/step - loss: 0.0095 - accuracy: 0.9975 - val_loss: 0.0232 - val_accuracy: 0.9957\n",
      "Epoch 22/30\n",
      "1182/1182 [==============================] - 150s 127ms/step - loss: 0.0075 - accuracy: 0.9980 - val_loss: 0.0359 - val_accuracy: 0.9945\n",
      "Epoch 23/30\n",
      "1182/1182 [==============================] - 151s 128ms/step - loss: 0.0086 - accuracy: 0.9980 - val_loss: 0.0232 - val_accuracy: 0.9955\n",
      "Epoch 24/30\n",
      "1182/1182 [==============================] - 146s 124ms/step - loss: 0.0065 - accuracy: 0.9982 - val_loss: 0.0346 - val_accuracy: 0.9955\n",
      "Epoch 25/30\n",
      "1182/1182 [==============================] - 149s 126ms/step - loss: 0.0091 - accuracy: 0.9979 - val_loss: 0.0316 - val_accuracy: 0.9940\n",
      "Epoch 26/30\n",
      "1182/1182 [==============================] - 155s 131ms/step - loss: 0.0060 - accuracy: 0.9985 - val_loss: 0.0241 - val_accuracy: 0.9957\n",
      "Epoch 27/30\n",
      "1182/1182 [==============================] - 151s 128ms/step - loss: 0.0096 - accuracy: 0.9979 - val_loss: 0.0344 - val_accuracy: 0.9948\n",
      "Epoch 28/30\n",
      "1182/1182 [==============================] - 149s 126ms/step - loss: 0.0055 - accuracy: 0.9984 - val_loss: 0.0283 - val_accuracy: 0.9945\n",
      "Epoch 29/30\n",
      "1182/1182 [==============================] - 150s 127ms/step - loss: 0.0057 - accuracy: 0.9984 - val_loss: 0.0272 - val_accuracy: 0.9952\n",
      "Epoch 30/30\n",
      "1182/1182 [==============================] - 150s 127ms/step - loss: 0.0049 - accuracy: 0.9987 - val_loss: 0.0288 - val_accuracy: 0.9952\n"
     ]
    },
    {
     "data": {
      "text/plain": [
       "<tensorflow.python.keras.callbacks.History at 0x1a19cc11340>"
      ]
     },
     "execution_count": 88,
     "metadata": {},
     "output_type": "execute_result"
    }
   ],
   "source": [
    "model6.fit(X_train, y_train, epochs=30, validation_data=(X_valid, y_valid))"
   ]
  },
  {
   "cell_type": "code",
   "execution_count": 90,
   "metadata": {},
   "outputs": [],
   "source": [
    "y_pred = model6.predict_classes(X_test)\n",
    "y_pred\n",
    "\n",
    "submissions = pd.DataFrame({'Id' : np.array(test_id), 'Category' : y_pred})\n",
    "submissions.to_csv(\"submission6.csv\", index=False, header=True)"
   ]
  },
  {
   "cell_type": "markdown",
   "metadata": {},
   "source": [
    "추후 kannada mnist의 notebook 파일을 찾아보니 분석가들은 과적합을 예방하기 위해 Data Augmentation과 Learning rate reduction을  \n",
    "주로 이용하는 듯 하여 진행해봤다.\n",
    "[출처1](https://www.kaggle.com/shahules/indian-way-to-learn-cnn) / [출처2](https://www.kaggle.com/benanakca/kannada-mnist-cnn-tutorial-with-app-top-2)  \n",
    "\n",
    "* **Data Augmentation**\n",
    "과적합을 예방하기 위해 기존 데이터와 기존 데이터에 약간의 변화를 준 데이터를 함께 사용하는 방법. 단기간에 성능을 높이기 좋으며 옵션으로는 회전, 자르기, 좌우반전, 밝기 조절, 줌, 이동 등이 있다. data augmentation을 이용한 cnn 모델로는 AlexNet, VGGNet, ResNet 등이 있다고 한다. (이건 다음 cnn 시간에 공부해보겠슴니당...) \n",
    "\n",
    "* **Learning Schedule**  \n",
    "큰 학습률로 시작하고 학습 속도가 느려질 때 학습률을 낮추는 방법. 여러가지 전략이 있으나 지수 기반 스케줄링, 성능 기반 스케줄링, 1사이클 스케줄링이 뛰어난 성능을 보인다. 그중에서도 kaggle의 많은 ranker들이 사용한 성능 기반 스케줄링을 실행하기 위해 ReduceLROnPlateau callback을 사용해봤다."
   ]
  },
  {
   "cell_type": "markdown",
   "metadata": {},
   "source": [
    "## model7\n",
    "> train acc : 0.9975  \n",
    "val acc : 0.9962  \n",
    "test acc : 0.99648\n",
    "  \n",
    "* model6과 같은 조건에서 Data Augmentation과 성능 기반 학습률 스케줄링을 추가함."
   ]
  },
  {
   "cell_type": "code",
   "execution_count": 36,
   "metadata": {},
   "outputs": [],
   "source": [
    "from tensorflow.keras.preprocessing.image import ImageDataGenerator\n",
    "from tensorflow.keras.callbacks import ReduceLROnPlateau, EarlyStopping"
   ]
  },
  {
   "cell_type": "code",
   "execution_count": 48,
   "metadata": {},
   "outputs": [],
   "source": [
    "model7 = keras.models.Sequential([ #model6과 동일\n",
    "    \n",
    "    keras.layers.Conv2D(32, kernel_size=(5,5), padding='same', activation='relu', input_shape=(28,28,1)),\n",
    "    keras.layers.BatchNormalization(),\n",
    "    keras.layers.Conv2D(32, kernel_size=(5,5), padding='same', activation='relu'),\n",
    "    keras.layers.BatchNormalization(),\n",
    "    keras.layers.MaxPool2D(pool_size=(2,2)),\n",
    "    keras.layers.BatchNormalization(),\n",
    "    keras.layers.Dropout(0.25),\n",
    "    \n",
    "    keras.layers.Conv2D(64, kernel_size=(5,5), padding='same', activation='relu'),\n",
    "    keras.layers.BatchNormalization(),\n",
    "    keras.layers.Conv2D(64, kernel_size=(5,5), padding='same', activation='relu'),\n",
    "    keras.layers.BatchNormalization(),\n",
    "    keras.layers.MaxPool2D(pool_size=(2,2), strides=(2,2)), #stride 옵션을 바꾸어 진행함.\n",
    "    keras.layers.BatchNormalization(),\n",
    "    keras.layers.Dropout(0.25),\n",
    "    \n",
    "    keras.layers.Flatten(),\n",
    "    keras.layers.BatchNormalization(),\n",
    "    keras.layers.Dense(256, activation = \"relu\"),\n",
    "    keras.layers.BatchNormalization(),\n",
    "    keras.layers.Dropout(0.5),\n",
    "    \n",
    "    keras.layers.Dense(10, activation = \"softmax\")\n",
    "])"
   ]
  },
  {
   "cell_type": "code",
   "execution_count": 49,
   "metadata": {},
   "outputs": [],
   "source": [
    "image_fn = ImageDataGenerator(\n",
    "        rotation_range=10,  # 이미지를 랜덤하게 회전하는 범위.\n",
    "        zoom_range = 0.1, # 이미지를 랜덤하게 줌하는 범위 \n",
    ")\n",
    "\n",
    "lr_fn = ReduceLROnPlateau(monitor='val_loss', # val_loss를 기준으로 삼아 학습률 스케줄링 진행 \n",
    "                          patience=3, # 세번 이내에 val_acc가 개선되지 않으면 learning rate change\n",
    "                          verbose=1,\n",
    "                          factor=0.5, # learning rate를 줄이는 factor. lr <- lr * factor\n",
    "                          min_lr=0.00001) # 최소 leraning_rate"
   ]
  },
  {
   "cell_type": "code",
   "execution_count": 50,
   "metadata": {},
   "outputs": [],
   "source": [
    "optimizer = keras.optimizers.RMSprop(rho=0.9, epsilon=1e-08, decay=0.0)\n",
    "model7.compile(loss='categorical_crossentropy', optimizer = optimizer, metrics=['accuracy'])"
   ]
  },
  {
   "cell_type": "code",
   "execution_count": 51,
   "metadata": {},
   "outputs": [
    {
     "name": "stdout",
     "output_type": "stream",
     "text": [
      "Epoch 1/30\n",
      "1182/1182 [==============================] - 152s 128ms/step - loss: 0.1304 - accuracy: 0.9615 - val_loss: 0.0432 - val_accuracy: 0.9886\n",
      "Epoch 2/30\n",
      "1182/1182 [==============================] - 155s 131ms/step - loss: 0.0557 - accuracy: 0.9842 - val_loss: 0.0290 - val_accuracy: 0.9926\n",
      "Epoch 3/30\n",
      "1182/1182 [==============================] - 149s 126ms/step - loss: 0.0464 - accuracy: 0.9870 - val_loss: 0.0297 - val_accuracy: 0.9929\n",
      "Epoch 4/30\n",
      "1182/1182 [==============================] - 152s 128ms/step - loss: 0.0406 - accuracy: 0.9888 - val_loss: 0.0211 - val_accuracy: 0.9945\n",
      "Epoch 5/30\n",
      "1182/1182 [==============================] - 156s 132ms/step - loss: 0.0339 - accuracy: 0.9904 - val_loss: 0.0233 - val_accuracy: 0.9940\n",
      "Epoch 6/30\n",
      "1182/1182 [==============================] - 153s 129ms/step - loss: 0.0319 - accuracy: 0.9912 - val_loss: 0.0201 - val_accuracy: 0.9950\n",
      "Epoch 7/30\n",
      "1182/1182 [==============================] - 149s 126ms/step - loss: 0.0307 - accuracy: 0.9916 - val_loss: 0.0156 - val_accuracy: 0.9950\n",
      "Epoch 8/30\n",
      "1182/1182 [==============================] - 146s 123ms/step - loss: 0.0264 - accuracy: 0.9923 - val_loss: 0.0207 - val_accuracy: 0.9952\n",
      "Epoch 9/30\n",
      "1182/1182 [==============================] - 148s 125ms/step - loss: 0.0289 - accuracy: 0.9924 - val_loss: 0.0224 - val_accuracy: 0.9945\n",
      "Epoch 10/30\n",
      "1182/1182 [==============================] - ETA: 0s - loss: 0.0249 - accuracy: 0.9933\n",
      "Epoch 00010: ReduceLROnPlateau reducing learning rate to 0.0005000000237487257.\n",
      "1182/1182 [==============================] - 146s 124ms/step - loss: 0.0249 - accuracy: 0.9933 - val_loss: 0.0160 - val_accuracy: 0.9940\n",
      "Epoch 11/30\n",
      "1182/1182 [==============================] - 146s 123ms/step - loss: 0.0179 - accuracy: 0.9950 - val_loss: 0.0173 - val_accuracy: 0.9960\n",
      "Epoch 12/30\n",
      "1182/1182 [==============================] - 147s 124ms/step - loss: 0.0184 - accuracy: 0.9953 - val_loss: 0.0181 - val_accuracy: 0.9955\n",
      "Epoch 13/30\n",
      "1182/1182 [==============================] - 147s 124ms/step - loss: 0.0183 - accuracy: 0.9953 - val_loss: 0.0137 - val_accuracy: 0.9960\n",
      "Epoch 14/30\n",
      "1182/1182 [==============================] - 147s 124ms/step - loss: 0.0152 - accuracy: 0.9961 - val_loss: 0.0116 - val_accuracy: 0.9957\n",
      "Epoch 15/30\n",
      "1182/1182 [==============================] - 147s 124ms/step - loss: 0.0151 - accuracy: 0.9955 - val_loss: 0.0170 - val_accuracy: 0.9964\n",
      "Epoch 16/30\n",
      "1182/1182 [==============================] - 147s 124ms/step - loss: 0.0151 - accuracy: 0.9959 - val_loss: 0.0213 - val_accuracy: 0.9955\n",
      "Epoch 17/30\n",
      "1182/1182 [==============================] - ETA: 0s - loss: 0.0166 - accuracy: 0.9960\n",
      "Epoch 00017: ReduceLROnPlateau reducing learning rate to 0.0002500000118743628.\n",
      "1182/1182 [==============================] - 146s 123ms/step - loss: 0.0166 - accuracy: 0.9960 - val_loss: 0.0201 - val_accuracy: 0.9962\n",
      "Epoch 18/30\n",
      "1182/1182 [==============================] - 146s 123ms/step - loss: 0.0127 - accuracy: 0.9968 - val_loss: 0.0172 - val_accuracy: 0.9969\n",
      "Epoch 19/30\n",
      "1182/1182 [==============================] - 146s 123ms/step - loss: 0.0118 - accuracy: 0.9967 - val_loss: 0.0153 - val_accuracy: 0.9960\n",
      "Epoch 20/30\n",
      "1182/1182 [==============================] - ETA: 0s - loss: 0.0113 - accuracy: 0.9970\n",
      "Epoch 00020: ReduceLROnPlateau reducing learning rate to 0.0001250000059371814.\n",
      "1182/1182 [==============================] - 146s 124ms/step - loss: 0.0113 - accuracy: 0.9970 - val_loss: 0.0151 - val_accuracy: 0.9967\n",
      "Epoch 21/30\n",
      "1182/1182 [==============================] - 147s 124ms/step - loss: 0.0100 - accuracy: 0.9972 - val_loss: 0.0195 - val_accuracy: 0.9960\n",
      "Epoch 22/30\n",
      "1182/1182 [==============================] - 147s 124ms/step - loss: 0.0112 - accuracy: 0.9970 - val_loss: 0.0169 - val_accuracy: 0.9962\n",
      "Epoch 23/30\n",
      "1182/1182 [==============================] - ETA: 0s - loss: 0.0085 - accuracy: 0.9975\n",
      "Epoch 00023: ReduceLROnPlateau reducing learning rate to 6.25000029685907e-05.\n",
      "1182/1182 [==============================] - 147s 124ms/step - loss: 0.0085 - accuracy: 0.9975 - val_loss: 0.0160 - val_accuracy: 0.9967\n",
      "Epoch 24/30\n",
      "1182/1182 [==============================] - 147s 124ms/step - loss: 0.0086 - accuracy: 0.9974 - val_loss: 0.0160 - val_accuracy: 0.9969\n",
      "Epoch 25/30\n",
      "1182/1182 [==============================] - 147s 124ms/step - loss: 0.0093 - accuracy: 0.9974 - val_loss: 0.0161 - val_accuracy: 0.9969\n",
      "Epoch 26/30\n",
      "1182/1182 [==============================] - ETA: 0s - loss: 0.0092 - accuracy: 0.9973\n",
      "Epoch 00026: ReduceLROnPlateau reducing learning rate to 3.125000148429535e-05.\n",
      "1182/1182 [==============================] - 147s 124ms/step - loss: 0.0092 - accuracy: 0.9973 - val_loss: 0.0170 - val_accuracy: 0.9967\n",
      "Epoch 27/30\n",
      "1182/1182 [==============================] - 146s 124ms/step - loss: 0.0102 - accuracy: 0.9969 - val_loss: 0.0168 - val_accuracy: 0.9969\n",
      "Epoch 28/30\n",
      "1182/1182 [==============================] - 147s 124ms/step - loss: 0.0080 - accuracy: 0.9979 - val_loss: 0.0158 - val_accuracy: 0.9971\n",
      "Epoch 29/30\n",
      "1182/1182 [==============================] - ETA: 0s - loss: 0.0090 - accuracy: 0.9977\n",
      "Epoch 00029: ReduceLROnPlateau reducing learning rate to 1.5625000742147677e-05.\n",
      "1182/1182 [==============================] - 147s 124ms/step - loss: 0.0090 - accuracy: 0.9977 - val_loss: 0.0165 - val_accuracy: 0.9967\n",
      "Epoch 30/30\n",
      "1182/1182 [==============================] - 147s 124ms/step - loss: 0.0084 - accuracy: 0.9975 - val_loss: 0.0169 - val_accuracy: 0.9962\n"
     ]
    }
   ],
   "source": [
    "history7 = model7.fit_generator(image_fn.flow(X_train,y_train),\n",
    "                              epochs = 30, validation_data = (X_valid,y_valid),callbacks=[lr_fn])"
   ]
  },
  {
   "cell_type": "code",
   "execution_count": 54,
   "metadata": {},
   "outputs": [
    {
     "data": {
      "image/png": "[encoded data removed]",
      "text/plain": [
       "<Figure size 432x288 with 1 Axes>"
      ]
     },
     "metadata": {
      "needs_background": "light"
     },
     "output_type": "display_data"
    }
   ],
   "source": [
    "plt.plot(history7.history['loss'])\n",
    "plt.plot(history7.history['val_loss'])\n",
    "plt.title('Model Loss')\n",
    "plt.ylabel('Loss')\n",
    "plt.xlabel('epoch')\n",
    "plt.legend(['Train', 'Validation'], loc='upper left')\n",
    "plt.show()"
   ]
  },
  {
   "cell_type": "markdown",
   "metadata": {},
   "source": [
    "train data의 경우 epoch가 늘어날수록 loss가 줄어들었지만 validation data의 경우 오히려 epoch가 15가 넘어가자 증가했다."
   ]
  },
  {
   "cell_type": "code",
   "execution_count": 56,
   "metadata": {},
   "outputs": [
    {
     "data": {
      "image/png": "[encoded data removed]",
      "text/plain": [
       "<Figure size 432x288 with 1 Axes>"
      ]
     },
     "metadata": {
      "needs_background": "light"
     },
     "output_type": "display_data"
    }
   ],
   "source": [
    "plt.plot(history7.history['accuracy'])\n",
    "plt.plot(history7.history['val_accuracy'])\n",
    "plt.title('Model Accuracy')\n",
    "plt.ylabel('epoch')\n",
    "plt.xlabel('Accuracy')\n",
    "plt.legend(['Train', 'Validation'], loc='upper left')\n",
    "plt.show()"
   ]
  },
  {
   "cell_type": "markdown",
   "metadata": {},
   "source": [
    "log를 살펴보면 learning rate가 epoch가 20이 넘어가기 시작한 순간부터는 0.00001에 근접하기 시작했다. (매우 작은 수...)  \n",
    "epoch가 20이상일 때는 사실상 학습되는 양이 크지 않았고 이로 인해 data augmentation을 추가했음에도 불구하고 accuracy가 증가하지 못한 것이 아닌가 라는 생각이 든다. 이 추측이 맞는지 확인해보기 위해 학습률 스케줄링을 제거하고 정말 마지막으로 모델을 굴려본다,,,"
   ]
  },
  {
   "cell_type": "code",
   "execution_count": 52,
   "metadata": {},
   "outputs": [],
   "source": [
    "y_pred = model7.predict_classes(X_test)\n",
    "y_pred\n",
    "\n",
    "submissions = pd.DataFrame({'Id' : np.array(test_id), 'Category' : y_pred})\n",
    "submissions.to_csv(\"submission7.csv\", index=False, header=True)"
   ]
  },
  {
   "cell_type": "code",
   "execution_count": 61,
   "metadata": {},
   "outputs": [],
   "source": [
    "keras.backend.clear_session() # RAM 사용량을 줄이기 위해 한번 클리어 해준다... 내 노트북아 미안,,, "
   ]
  },
  {
   "cell_type": "markdown",
   "metadata": {},
   "source": [
    "## model8\n",
    "> train acc : 0.9956\n",
    "val acc : 0.9957\n",
    "test acc : 0.99648\n",
    "  \n",
    "* model6과 같은 조건에서 Data Augmentation만 추가함. (학습률은 일정)"
   ]
  },
  {
   "cell_type": "code",
   "execution_count": 62,
   "metadata": {},
   "outputs": [],
   "source": [
    "model8 = keras.models.Sequential([ #model6, 7과 동일\n",
    "    \n",
    "    keras.layers.Conv2D(32, kernel_size=(5,5), padding='same', activation='relu', input_shape=(28,28,1)),\n",
    "    keras.layers.BatchNormalization(),\n",
    "    keras.layers.Conv2D(32, kernel_size=(5,5), padding='same', activation='relu'),\n",
    "    keras.layers.BatchNormalization(),\n",
    "    keras.layers.MaxPool2D(pool_size=(2,2)),\n",
    "    keras.layers.BatchNormalization(),\n",
    "    keras.layers.Dropout(0.25),\n",
    "    \n",
    "    keras.layers.Conv2D(64, kernel_size=(5,5), padding='same', activation='relu'),\n",
    "    keras.layers.BatchNormalization(),\n",
    "    keras.layers.Conv2D(64, kernel_size=(5,5), padding='same', activation='relu'),\n",
    "    keras.layers.BatchNormalization(),\n",
    "    keras.layers.MaxPool2D(pool_size=(2,2), strides=(2,2)), #stride 옵션을 바꾸어 진행함.\n",
    "    keras.layers.BatchNormalization(),\n",
    "    keras.layers.Dropout(0.25),\n",
    "    \n",
    "    keras.layers.Flatten(),\n",
    "    keras.layers.BatchNormalization(),\n",
    "    keras.layers.Dense(256, activation = \"relu\"),\n",
    "    keras.layers.BatchNormalization(),\n",
    "    keras.layers.Dropout(0.5),\n",
    "    \n",
    "    keras.layers.Dense(10, activation = \"softmax\")\n",
    "])"
   ]
  },
  {
   "cell_type": "code",
   "execution_count": 63,
   "metadata": {},
   "outputs": [],
   "source": [
    "optimizer = keras.optimizers.RMSprop(lr = 0.001, rho=0.9, epsilon=1e-08, decay=0.0)\n",
    "model8.compile(loss='categorical_crossentropy', optimizer = optimizer, metrics=['accuracy'])"
   ]
  },
  {
   "cell_type": "code",
   "execution_count": 64,
   "metadata": {},
   "outputs": [
    {
     "name": "stdout",
     "output_type": "stream",
     "text": [
      "Epoch 1/30\n",
      "1182/1182 [==============================] - 148s 125ms/step - loss: 0.1263 - accuracy: 0.9625 - val_loss: 0.0330 - val_accuracy: 0.9905\n",
      "Epoch 2/30\n",
      "1182/1182 [==============================] - 146s 124ms/step - loss: 0.0535 - accuracy: 0.9847 - val_loss: 0.0360 - val_accuracy: 0.9907\n",
      "Epoch 3/30\n",
      "1182/1182 [==============================] - 147s 124ms/step - loss: 0.0445 - accuracy: 0.9876 - val_loss: 0.0335 - val_accuracy: 0.9919\n",
      "Epoch 4/30\n",
      "1182/1182 [==============================] - 146s 124ms/step - loss: 0.0370 - accuracy: 0.9895 - val_loss: 0.0184 - val_accuracy: 0.9952\n",
      "Epoch 5/30\n",
      "1182/1182 [==============================] - 146s 124ms/step - loss: 0.0341 - accuracy: 0.9909 - val_loss: 0.0197 - val_accuracy: 0.9933\n",
      "Epoch 6/30\n",
      "1182/1182 [==============================] - 146s 124ms/step - loss: 0.0323 - accuracy: 0.9914 - val_loss: 0.0230 - val_accuracy: 0.9948\n",
      "Epoch 7/30\n",
      "1182/1182 [==============================] - 146s 124ms/step - loss: 0.0293 - accuracy: 0.9919 - val_loss: 0.0220 - val_accuracy: 0.9943\n",
      "Epoch 8/30\n",
      "1182/1182 [==============================] - 145s 123ms/step - loss: 0.0279 - accuracy: 0.9926 - val_loss: 0.0252 - val_accuracy: 0.9943\n",
      "Epoch 9/30\n",
      "1182/1182 [==============================] - 145s 123ms/step - loss: 0.0259 - accuracy: 0.9933 - val_loss: 0.0218 - val_accuracy: 0.9933\n",
      "Epoch 10/30\n",
      "1182/1182 [==============================] - 145s 123ms/step - loss: 0.0245 - accuracy: 0.9935 - val_loss: 0.0279 - val_accuracy: 0.9943\n",
      "Epoch 11/30\n",
      "1182/1182 [==============================] - 145s 123ms/step - loss: 0.0247 - accuracy: 0.9938 - val_loss: 0.0204 - val_accuracy: 0.9952\n",
      "Epoch 12/30\n",
      "1182/1182 [==============================] - 145s 123ms/step - loss: 0.0231 - accuracy: 0.9940 - val_loss: 0.0190 - val_accuracy: 0.9955\n",
      "Epoch 13/30\n",
      "1182/1182 [==============================] - 145s 123ms/step - loss: 0.0227 - accuracy: 0.9939 - val_loss: 0.0217 - val_accuracy: 0.9950\n",
      "Epoch 14/30\n",
      "1182/1182 [==============================] - 145s 123ms/step - loss: 0.0201 - accuracy: 0.9948 - val_loss: 0.0165 - val_accuracy: 0.9957\n",
      "Epoch 15/30\n",
      "1182/1182 [==============================] - 145s 123ms/step - loss: 0.0231 - accuracy: 0.9940 - val_loss: 0.0168 - val_accuracy: 0.9960\n",
      "Epoch 16/30\n",
      "1182/1182 [==============================] - 2822s 2s/step - loss: 0.0230 - accuracy: 0.9943 - val_loss: 0.0206 - val_accuracy: 0.9948\n",
      "Epoch 17/30\n",
      "1182/1182 [==============================] - 147s 125ms/step - loss: 0.0204 - accuracy: 0.9946 - val_loss: 0.0158 - val_accuracy: 0.9962\n",
      "Epoch 18/30\n",
      "1182/1182 [==============================] - 149s 126ms/step - loss: 0.0202 - accuracy: 0.9947 - val_loss: 0.0189 - val_accuracy: 0.9962\n",
      "Epoch 19/30\n",
      "1182/1182 [==============================] - 147s 125ms/step - loss: 0.0186 - accuracy: 0.9948 - val_loss: 0.0216 - val_accuracy: 0.9948\n",
      "Epoch 20/30\n",
      "1182/1182 [==============================] - 147s 124ms/step - loss: 0.0193 - accuracy: 0.9950 - val_loss: 0.0145 - val_accuracy: 0.9950\n",
      "Epoch 21/30\n",
      "1182/1182 [==============================] - 147s 124ms/step - loss: 0.0195 - accuracy: 0.9954 - val_loss: 0.0160 - val_accuracy: 0.9962\n",
      "Epoch 22/30\n",
      "1182/1182 [==============================] - 147s 124ms/step - loss: 0.0166 - accuracy: 0.9958 - val_loss: 0.0231 - val_accuracy: 0.9952\n",
      "Epoch 23/30\n",
      "1182/1182 [==============================] - 148s 125ms/step - loss: 0.0202 - accuracy: 0.9956 - val_loss: 0.0251 - val_accuracy: 0.9957\n",
      "Epoch 24/30\n",
      "1182/1182 [==============================] - 147s 125ms/step - loss: 0.0178 - accuracy: 0.9955 - val_loss: 0.0201 - val_accuracy: 0.9969\n",
      "Epoch 25/30\n",
      "1182/1182 [==============================] - 148s 125ms/step - loss: 0.0176 - accuracy: 0.9957 - val_loss: 0.0239 - val_accuracy: 0.9962\n",
      "Epoch 26/30\n",
      "1182/1182 [==============================] - 152s 128ms/step - loss: 0.0179 - accuracy: 0.9953 - val_loss: 0.0195 - val_accuracy: 0.9957\n",
      "Epoch 27/30\n",
      "1182/1182 [==============================] - 157s 133ms/step - loss: 0.0169 - accuracy: 0.9953 - val_loss: 0.0262 - val_accuracy: 0.9955\n",
      "Epoch 28/30\n",
      "1182/1182 [==============================] - 152s 129ms/step - loss: 0.0167 - accuracy: 0.9954 - val_loss: 0.0175 - val_accuracy: 0.9969\n",
      "Epoch 29/30\n",
      "1182/1182 [==============================] - 159s 135ms/step - loss: 0.0164 - accuracy: 0.9959 - val_loss: 0.0183 - val_accuracy: 0.9960\n",
      "Epoch 30/30\n",
      "1182/1182 [==============================] - 155s 131ms/step - loss: 0.0165 - accuracy: 0.9956 - val_loss: 0.0176 - val_accuracy: 0.9957\n"
     ]
    }
   ],
   "source": [
    "history8 = model8.fit_generator(image_fn.flow(X_train,y_train), epochs = 30, validation_data = (X_valid,y_valid))"
   ]
  },
  {
   "cell_type": "code",
   "execution_count": 66,
   "metadata": {},
   "outputs": [
    {
     "data": {
      "image/png": "[encoded data removed]",
      "text/plain": [
       "<Figure size 432x288 with 1 Axes>"
      ]
     },
     "metadata": {
      "needs_background": "light"
     },
     "output_type": "display_data"
    }
   ],
   "source": [
    "plt.plot(history8.history['loss'])\n",
    "plt.plot(history8.history['val_loss'])\n",
    "plt.title('Model Loss')\n",
    "plt.ylabel('Loss')\n",
    "plt.xlabel('epoch')\n",
    "plt.legend(['Train', 'Validation'], loc='upper left')\n",
    "plt.show()"
   ]
  },
  {
   "cell_type": "code",
   "execution_count": 67,
   "metadata": {},
   "outputs": [
    {
     "data": {
      "image/png": "[encoded data removed]",
      "text/plain": [
       "<Figure size 432x288 with 1 Axes>"
      ]
     },
     "metadata": {
      "needs_background": "light"
     },
     "output_type": "display_data"
    }
   ],
   "source": [
    "plt.plot(history8.history['accuracy'])\n",
    "plt.plot(history8.history['val_accuracy'])\n",
    "plt.title('Model Accuracy')\n",
    "plt.ylabel('epoch')\n",
    "plt.xlabel('Accuracy')\n",
    "plt.legend(['Train', 'Validation'], loc='upper left')\n",
    "plt.show()"
   ]
  },
  {
   "cell_type": "code",
   "execution_count": 68,
   "metadata": {},
   "outputs": [],
   "source": [
    "y_pred = model8.predict_classes(X_test)\n",
    "y_pred\n",
    "\n",
    "submissions = pd.DataFrame({'Id' : np.array(test_id), 'Category' : y_pred})\n",
    "submissions.to_csv(\"submission8.csv\", index=False, header=True)"
   ]
  },
  {
   "cell_type": "markdown",
   "metadata": {},
   "source": [
    "같은 조건에서 학습률 스케줄링만 제거해본 결과, train acc 와 valid acc는 상대적으로 이 모델이 낮았으나 test acc는 소름돋게도 같은 값이 나왔다....!\n",
    "train valid data를 사용했을 때보다 test accuracy가 더 높았던 것으로 보아 더 general한 모델을 도출했다는 것에 의의를 두고 싶다 ^^... (미련 뚝뚝,,,)"
   ]
  },
  {
   "cell_type": "markdown",
   "metadata": {},
   "source": [
    "## Conclusion  \n",
    "  \n",
    "  \n",
    "### Model1 ~ Model4 : Neural Network  \n",
    "* ReLU 활성화 함수를 사용한 Model1, Leaky ReLU 를 사용한 Model2, ELU를 사용한 Model3를 비교해봤을 때 Leaky ReLU를 사용한 모델이 가장 accuracy가 높았다. (weight_initializer = He_Uniform)  \n",
    "* Model3, Model4의 경우 모두 ELU를 사용하였지만 차이점은 Model4는 Batch Normalization을 사용하지 않았다. 그 결과, val_acc가 0.9805에서 0.9486으로 매우 많이 떨어졌다. 이처럼 Batch Normalization은 심층 신경망에서 성능을 향상 시킬 수 있는 좋은 도구이다. (덤으로 규제하는 역할까지 수행한다니 참 멋있는 친구이다... 그래도 이 역할을 크게하는 편은 아니니 dropout은 사용하는 편이 좋다고 한다.)  \n",
    "  \n",
    "  \n",
    "### Model5 ~ Model8 : CNN  \n",
    "* 층을 깊게 쌓지 않은 Model5는 성능이 별로였다.\n",
    "* 같은 구조에서 Model7은 학습률 스케줄링과 Data Augmentation을, Model8은 Data Augmentation을, 그리고 Model6은 아무것도 적용하지 않았는데 Model6의 test_acc가 가장 좋았다. 성능을 더 높여보고 싶었지만 쉽지 않은 것 같다. CNN에 있는 여러 유명한 모델들은 다음 세션에서 공부하고 적용해보겠습니다...! 감사합니다 ㅎㅎ"
   ]
  }
 ],
 "metadata": {
  "kernelspec": {
   "display_name": "Python 3",
   "language": "python",
   "name": "python3"
  },
  "language_info": {
   "codemirror_mode": {
    "name": "ipython",
    "version": 3
   },
   "file_extension": ".py",
   "mimetype": "text/x-python",
   "name": "python",
   "nbconvert_exporter": "python",
   "pygments_lexer": "ipython3",
   "version": "3.8.3"
  }
 },
 "nbformat": 4,
 "nbformat_minor": 4
}
